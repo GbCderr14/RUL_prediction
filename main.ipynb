{
 "cells": [
  {
   "cell_type": "code",
   "execution_count": 1,
   "metadata": {},
   "outputs": [
    {
     "name": "stdout",
     "output_type": "stream",
     "text": [
      "               0         1          2          3           11  Label\n",
      "0        236.850  1.158000   7.310800  -2.397800  3123.396000    0.0\n",
      "1        165.080  1.543900  -6.630700 -10.276000  3123.393000    0.0\n",
      "2        308.630  2.573200  -5.157200 -19.525000  3123.390000    0.0\n",
      "3        236.850  0.643310  -1.076800 -27.289000  3123.387000    0.0\n",
      "4        251.210 -2.573200   1.870200 -33.569000  3123.384000    0.0\n",
      "...          ...       ...        ...        ...          ...    ...\n",
      "1876285 -143.550 -1.676643 -14.595932  -6.265013   155.227624    2.0\n",
      "1876286  215.320  0.836029  -2.663520   4.739952   119.890370    2.0\n",
      "1876287  -43.064 -0.097580   0.411372   1.534155   139.040769    2.0\n",
      "1876288  -71.774  2.519766 -36.351514  -0.021330   150.776813    2.0\n",
      "1876289  272.740  1.292225   0.339923   3.269927   142.629638    2.0\n",
      "\n",
      "[1876290 rows x 6 columns]\n"
     ]
    }
   ],
   "source": [
    "import pandas as pd\n",
    "resampled_data = pd.read_csv('./resampled_data.csv')\n",
    "print(resampled_data)"
   ]
  },
  {
   "cell_type": "markdown",
   "metadata": {},
   "source": [
    "Dividing data into 3 regions A, B, C."
   ]
  },
  {
   "cell_type": "code",
   "execution_count": 2,
   "metadata": {},
   "outputs": [],
   "source": [
    "class_00_data = resampled_data[resampled_data['Label'] == 0.0]\n",
    "class_01_data = resampled_data[resampled_data['Label'] == 1.0]\n",
    "class_02_data = resampled_data[resampled_data['Label'] == 2.0]"
   ]
  },
  {
   "cell_type": "markdown",
   "metadata": {},
   "source": [
    "Importing original data files of W8"
   ]
  },
  {
   "cell_type": "code",
   "execution_count": 3,
   "metadata": {},
   "outputs": [],
   "source": [
    "import pandas as pd\n",
    "class_01_data_path = \"./class1.csv\"\n",
    "\n",
    "class_02_data_path = \"./class2.csv\"\n",
    "\n",
    "class_03_data_path = \"./class3.csv\""
   ]
  },
  {
   "cell_type": "code",
   "execution_count": 4,
   "metadata": {},
   "outputs": [],
   "source": [
    "import numpy as np\n",
    "\n",
    "# Feature Extraction function - Root Mean Square (RMS)\n",
    "def rms(data):\n",
    "    '''RMS features'''\n",
    "    data = np.asarray(data)\n",
    "    Rms = pd.DataFrame(np.sqrt(np.mean(data**2, axis=1)))\n",
    "    return Rms\n",
    "\n",
    "# Feature Extraction function - Mean\n",
    "def mean(data):\n",
    "    '''Mean features'''\n",
    "    data = np.asarray(np.absolute(data))\n",
    "    M = pd.DataFrame(np.mean(data, axis=1))\n",
    "    return M\n",
    "\n",
    "# Feature Extraction function - Standard Deviation\n",
    "def std(data):\n",
    "    '''Standard Deviation features'''\n",
    "    data = np.asarray(data)\n",
    "    stdev = pd.DataFrame(np.std(data, axis=1))\n",
    "    return stdev\n",
    "\n",
    "# Feature Extraction function - Kurtosis\n",
    "def kurtosis(data):\n",
    "    '''Kurtosis features'''\n",
    "    data = pd.DataFrame(data)\n",
    "    kurt = data.kurt(axis=1)\n",
    "    return kurt\n",
    "\n",
    "# Feature Extraction function - Skewness\n",
    "def skew(data):\n",
    "    '''Skewness features'''\n",
    "    data = pd.DataFrame(data)\n",
    "    skw = data.skew(axis=1)\n",
    "    return skw\n",
    "\n",
    "# Feature Extraction function - Max Divided by Min\n",
    "def max_by_min(data):\n",
    "    '''Maximum divided by Minimum feature'''\n",
    "    data = np.asarray(data)\n",
    "    max_min_ratio = np.max(data, axis=1) / np.min(data, axis=1)\n",
    "    max_min_ratio = pd.DataFrame(max_min_ratio)\n",
    "    return max_min_ratio\n",
    "\n",
    "def data_extract(path,index):\n",
    "    data11 = pd.read_csv(path, usecols=[index], header=None)  # read the csv file\n",
    "    return data11\n"
   ]
  },
  {
   "cell_type": "code",
   "execution_count": 5,
   "metadata": {},
   "outputs": [],
   "source": [
    "#For Unbalanced data, which is not oversampled\n",
    "data_class1_signal0_ori = data_extract(class_01_data_path,0).dropna(axis=0)\n",
    "data_class1_signal1_ori = data_extract(class_01_data_path,1).dropna(axis=0)\n",
    "data_class1_signal2_ori = data_extract(class_01_data_path,2).dropna(axis=0)\n",
    "data_class1_signal3_ori = data_extract(class_01_data_path,3).dropna(axis=0)\n",
    "\n",
    "data_class2_signal0_ori = data_extract(class_02_data_path,0).dropna(axis=0)\n",
    "data_class2_signal1_ori = data_extract(class_02_data_path,1).dropna(axis=0)\n",
    "data_class2_signal2_ori = data_extract(class_02_data_path,2).dropna(axis=0)\n",
    "data_class2_signal3_ori = data_extract(class_02_data_path,3).dropna(axis=0)\n",
    "\n",
    "data_class3_signal0_ori = data_extract(class_03_data_path,0).dropna(axis=0)\n",
    "data_class3_signal1_ori = data_extract(class_03_data_path,1).dropna(axis=0)\n",
    "data_class3_signal2_ori = data_extract(class_03_data_path,2).dropna(axis=0)\n",
    "data_class3_signal3_ori = data_extract(class_03_data_path,3).dropna(axis=0)\n",
    "\n",
    "#For balanced data, which is oversampled\n",
    "data_class1_signal0 = class_00_data.iloc[:,0].dropna(axis=0)\n",
    "data_class1_signal1 = class_00_data.iloc[:,1].dropna(axis=0)\n",
    "data_class1_signal2 = class_00_data.iloc[:,2].dropna(axis=0)\n",
    "data_class1_signal3 = class_00_data.iloc[:,3].dropna(axis=0)\n",
    "\n",
    "data_class2_signal0 = class_01_data.iloc[:,0].dropna(axis=0)\n",
    "data_class2_signal1 = class_01_data.iloc[:,1].dropna(axis=0)\n",
    "data_class2_signal2 = class_01_data.iloc[:,2].dropna(axis=0)\n",
    "data_class2_signal3 = class_01_data.iloc[:,3].dropna(axis=0)\n",
    "\n",
    "data_class3_signal0 = class_02_data.iloc[:,0].dropna(axis=0)\n",
    "data_class3_signal1 = class_02_data.iloc[:,1].dropna(axis=0)\n",
    "data_class3_signal2 = class_02_data.iloc[:,2].dropna(axis=0)\n",
    "data_class3_signal3 = class_02_data.iloc[:,3].dropna(axis=0)\n",
    "\n",
    "    \n"
   ]
  },
  {
   "cell_type": "code",
   "execution_count": 6,
   "metadata": {},
   "outputs": [],
   "source": [
    "def reshape_data(data, num_columns=20):\n",
    "    '''Reshape data into multiple columns'''\n",
    "    data = np.asarray(data)\n",
    "    num_rows = data.shape[0]\n",
    "    num_full_chunks = num_rows // num_columns\n",
    "\n",
    "    # Reshape the data into the desired shape\n",
    "    reshaped_data = data[:num_full_chunks*num_columns].reshape(-1, num_columns)\n",
    "    \n",
    "    return reshaped_data\n",
    "\n",
    "def NormalizeData(data):  # Normalization (0-1)\n",
    "    # Find the maximum and minimum values in the input data\n",
    "    data_max = np.max(data)\n",
    "    data_min = np.min(data)\n",
    "    \n",
    "    # Normalize the data using the formula (data - min) / (max - min)\n",
    "    normalized_data = (data - data_min) / (data_max - data_min)\n",
    "    normalized_data=reshape_data(normalized_data)\n",
    "    # Return the normalized data\n",
    "    return normalized_data"
   ]
  },
  {
   "cell_type": "code",
   "execution_count": 7,
   "metadata": {},
   "outputs": [],
   "source": [
    "normalised_10=NormalizeData(data_class1_signal0)\n",
    "normalised_11=NormalizeData(data_class1_signal1)\n",
    "normalised_12=NormalizeData(data_class1_signal2)\n",
    "normalised_13=NormalizeData(data_class1_signal3)\n",
    "\n",
    "normalised_20=NormalizeData(data_class2_signal0)\n",
    "normalised_21=NormalizeData(data_class2_signal1)\n",
    "normalised_22=NormalizeData(data_class2_signal2)\n",
    "normalised_23=NormalizeData(data_class2_signal3)\n",
    "\n",
    "normalised_30=NormalizeData(data_class3_signal0)\n",
    "normalised_31=NormalizeData(data_class3_signal1)\n",
    "normalised_32=NormalizeData(data_class3_signal2)\n",
    "normalised_33=NormalizeData(data_class3_signal3)\n",
    "\n",
    "normalised_10_ori=NormalizeData(data_class1_signal0_ori)\n",
    "normalised_11_ori=NormalizeData(data_class1_signal1_ori)\n",
    "normalised_12_ori=NormalizeData(data_class1_signal2_ori)\n",
    "normalised_13_ori=NormalizeData(data_class1_signal3_ori)\n",
    "\n",
    "normalised_20_ori=NormalizeData(data_class2_signal0_ori)\n",
    "normalised_21_ori=NormalizeData(data_class2_signal1_ori)\n",
    "normalised_22_ori=NormalizeData(data_class2_signal2_ori)\n",
    "normalised_23_ori=NormalizeData(data_class2_signal3_ori)\n",
    "\n",
    "normalised_30_ori=NormalizeData(data_class3_signal0_ori)\n",
    "normalised_31_ori=NormalizeData(data_class3_signal1_ori)\n",
    "normalised_32_ori=NormalizeData(data_class3_signal2_ori)\n",
    "normalised_33_ori=NormalizeData(data_class3_signal3_ori)"
   ]
  },
  {
   "cell_type": "code",
   "execution_count": 8,
   "metadata": {},
   "outputs": [],
   "source": [
    "rms_10 = rms(normalised_10)\n",
    "rms_11 = rms(normalised_11)\n",
    "rms_12 = rms(normalised_12)\n",
    "rms_13 = rms(normalised_13)\n",
    "\n",
    "rms_20 = rms(normalised_20)\n",
    "rms_21 = rms(normalised_21)\n",
    "rms_22 = rms(normalised_22)\n",
    "rms_23 = rms(normalised_23)\n",
    "\n",
    "rms_30 = rms(normalised_30)\n",
    "rms_31 = rms(normalised_31)\n",
    "rms_32 = rms(normalised_32)\n",
    "rms_33 = rms(normalised_33)\n",
    "\n",
    "rms_1=pd.concat([rms_10,rms_20,rms_30],axis=0,ignore_index=True)\n",
    "rms_2=pd.concat([rms_11,rms_21,rms_31],axis=0,ignore_index=True)\n",
    "rms_3=pd.concat([rms_12,rms_22,rms_32],axis=0,ignore_index=True)\n",
    "rms_4=pd.concat([rms_13,rms_23,rms_33],axis=0,ignore_index=True)\n",
    "\n",
    "rms_10_ori = rms(normalised_10_ori)\n",
    "rms_11_ori = rms(normalised_11_ori)\n",
    "rms_12_ori = rms(normalised_12_ori)\n",
    "rms_13_ori = rms(normalised_13_ori)\n",
    "\n",
    "rms_20_ori = rms(normalised_20_ori)\n",
    "rms_21_ori = rms(normalised_21_ori)\n",
    "rms_22_ori = rms(normalised_22_ori)\n",
    "rms_23_ori = rms(normalised_23_ori)\n",
    "\n",
    "rms_30_ori = rms(normalised_30_ori)\n",
    "rms_31_ori = rms(normalised_31_ori)\n",
    "rms_32_ori = rms(normalised_32_ori)\n",
    "rms_33_ori = rms(normalised_33_ori)\n",
    "\n",
    "rms_1_ori=pd.concat([rms_10_ori,rms_20_ori,rms_30_ori],axis=0,ignore_index=True)\n",
    "rms_2_ori=pd.concat([rms_11_ori,rms_21_ori,rms_31_ori],axis=0,ignore_index=True)\n",
    "rms_3_ori=pd.concat([rms_12_ori,rms_22_ori,rms_32_ori],axis=0,ignore_index=True)\n",
    "rms_4_ori=pd.concat([rms_13_ori,rms_23_ori,rms_33_ori],axis=0,ignore_index=True)\n"
   ]
  },
  {
   "cell_type": "code",
   "execution_count": 9,
   "metadata": {},
   "outputs": [],
   "source": [
    "mean_10 = mean(normalised_10)\n",
    "mean_11 = mean(normalised_11)\n",
    "mean_12 = mean(normalised_12)\n",
    "mean_13 = mean(normalised_13)\n",
    "\n",
    "mean_20 = mean(normalised_20)\n",
    "mean_21 = mean(normalised_21)\n",
    "mean_22 = mean(normalised_22)\n",
    "mean_23 = mean(normalised_23)\n",
    "\n",
    "mean_30 = mean(normalised_30)\n",
    "mean_31 = mean(normalised_31)\n",
    "mean_32 = mean(normalised_32)\n",
    "mean_33 = mean(normalised_33)\n",
    "\n",
    "mean_1=pd.concat([mean_10,mean_20,mean_30],axis=0,ignore_index=True)\n",
    "mean_2=pd.concat([mean_11,mean_21,mean_31],axis=0,ignore_index=True)\n",
    "mean_3=pd.concat([mean_12,mean_22,mean_32],axis=0,ignore_index=True)\n",
    "mean_4=pd.concat([mean_13,mean_23,mean_33],axis=0,ignore_index=True)\n",
    "\n",
    "mean_10_ori = mean(normalised_10_ori)\n",
    "mean_11_ori = mean(normalised_11_ori)\n",
    "mean_12_ori = mean(normalised_12_ori)\n",
    "mean_13_ori = mean(normalised_13_ori)\n",
    "\n",
    "mean_20_ori = mean(normalised_20_ori)\n",
    "mean_21_ori = mean(normalised_21_ori)\n",
    "mean_22_ori = mean(normalised_22_ori)\n",
    "mean_23_ori = mean(normalised_23_ori)\n",
    "\n",
    "mean_30_ori = mean(normalised_30_ori)\n",
    "mean_31_ori = mean(normalised_31_ori)\n",
    "mean_32_ori = mean(normalised_32_ori)\n",
    "mean_33_ori = mean(normalised_33_ori)\n",
    "\n",
    "mean_1_ori=pd.concat([mean_10_ori,mean_20_ori,mean_30_ori],axis=0,ignore_index=True)\n",
    "mean_2_ori=pd.concat([mean_11_ori,mean_21_ori,mean_31_ori],axis=0,ignore_index=True)\n",
    "mean_3_ori=pd.concat([mean_12_ori,mean_22_ori,mean_32_ori],axis=0,ignore_index=True)\n",
    "mean_4_ori=pd.concat([mean_13_ori,mean_23_ori,mean_33_ori],axis=0,ignore_index=True)\n"
   ]
  },
  {
   "cell_type": "code",
   "execution_count": 10,
   "metadata": {},
   "outputs": [],
   "source": [
    "std_10= std(normalised_10)\n",
    "std_11= std(normalised_11)\n",
    "std_12= std(normalised_12)\n",
    "std_13= std(normalised_13)\n",
    "\n",
    "std_20= std(normalised_20)\n",
    "std_21= std(normalised_21)\n",
    "std_22= std(normalised_22)\n",
    "std_23= std(normalised_23)\n",
    "\n",
    "std_30= std(normalised_30)\n",
    "std_31= std(normalised_31)\n",
    "std_32= std(normalised_32)\n",
    "std_33= std(normalised_33)\n",
    "\n",
    "std_1=pd.concat([std_10,std_20,std_30],axis=0,ignore_index=True)\n",
    "std_2=pd.concat([std_11,std_21,std_31],axis=0,ignore_index=True)\n",
    "std_3=pd.concat([std_12,std_22,std_32],axis=0,ignore_index=True)\n",
    "std_4=pd.concat([std_13,std_23,std_33],axis=0,ignore_index=True)\n",
    "\n",
    "std_10_ori = std(normalised_10_ori)\n",
    "std_11_ori = std(normalised_11_ori)\n",
    "std_12_ori = std(normalised_12_ori)\n",
    "std_13_ori = std(normalised_13_ori)\n",
    "\n",
    "std_20_ori = std(normalised_20_ori)\n",
    "std_21_ori = std(normalised_21_ori)\n",
    "std_22_ori = std(normalised_22_ori)\n",
    "std_23_ori = std(normalised_23_ori)\n",
    "\n",
    "std_30_ori = std(normalised_30_ori)\n",
    "std_31_ori = std(normalised_31_ori)\n",
    "std_32_ori = std(normalised_32_ori)\n",
    "std_33_ori = std(normalised_33_ori)\n",
    "\n",
    "std_1_ori=pd.concat([std_10_ori,std_20_ori,std_30_ori],axis=0,ignore_index=True)\n",
    "std_2_ori=pd.concat([std_11_ori,std_21_ori,std_31_ori],axis=0,ignore_index=True)\n",
    "std_3_ori=pd.concat([std_12_ori,std_22_ori,std_32_ori],axis=0,ignore_index=True)\n",
    "std_4_ori=pd.concat([std_13_ori,std_23_ori,std_33_ori],axis=0,ignore_index=True)\n"
   ]
  },
  {
   "cell_type": "code",
   "execution_count": 11,
   "metadata": {},
   "outputs": [],
   "source": [
    "kurtosis_10 = kurtosis(normalised_10)\n",
    "kurtosis_11 = kurtosis(normalised_11)\n",
    "kurtosis_12 = kurtosis(normalised_12)\n",
    "kurtosis_13 = kurtosis(normalised_13)\n",
    "\n",
    "kurtosis_20 = kurtosis(normalised_20)\n",
    "kurtosis_21 = kurtosis(normalised_21)\n",
    "kurtosis_22 = kurtosis(normalised_22)\n",
    "kurtosis_23 = kurtosis(normalised_23)\n",
    "\n",
    "kurtosis_30 = kurtosis(normalised_30)\n",
    "kurtosis_31 = kurtosis(normalised_31)\n",
    "kurtosis_32 = kurtosis(normalised_32)\n",
    "kurtosis_33 = kurtosis(normalised_33)\n",
    "\n",
    "kurtosis_1=pd.concat([kurtosis_10,kurtosis_20,kurtosis_30],axis=0,ignore_index=True)\n",
    "kurtosis_2=pd.concat([kurtosis_11,kurtosis_21,kurtosis_31],axis=0,ignore_index=True)\n",
    "kurtosis_3=pd.concat([kurtosis_12,kurtosis_22,kurtosis_32],axis=0,ignore_index=True)\n",
    "kurtosis_4=pd.concat([kurtosis_13,kurtosis_23,kurtosis_33],axis=0,ignore_index=True)\n",
    "\n",
    "kurtosis_10_ori = kurtosis(normalised_10_ori)\n",
    "kurtosis_11_ori = kurtosis(normalised_11_ori)\n",
    "kurtosis_12_ori = kurtosis(normalised_12_ori)\n",
    "kurtosis_13_ori = kurtosis(normalised_13_ori)\n",
    "\n",
    "kurtosis_20_ori = kurtosis(normalised_20_ori)\n",
    "kurtosis_21_ori = kurtosis(normalised_21_ori)\n",
    "kurtosis_22_ori = kurtosis(normalised_22_ori)\n",
    "kurtosis_23_ori = kurtosis(normalised_23_ori)\n",
    "\n",
    "kurtosis_30_ori = kurtosis(normalised_30_ori)\n",
    "kurtosis_31_ori = kurtosis(normalised_31_ori)\n",
    "kurtosis_32_ori = kurtosis(normalised_32_ori)\n",
    "kurtosis_33_ori = kurtosis(normalised_33_ori)\n",
    "\n",
    "kurtosis_1_ori=pd.concat([kurtosis_10_ori,kurtosis_20_ori,kurtosis_30_ori],axis=0,ignore_index=True)\n",
    "kurtosis_2_ori=pd.concat([kurtosis_11_ori,kurtosis_21_ori,kurtosis_31_ori],axis=0,ignore_index=True)\n",
    "kurtosis_3_ori=pd.concat([kurtosis_12_ori,kurtosis_22_ori,kurtosis_32_ori],axis=0,ignore_index=True)\n",
    "kurtosis_4_ori=pd.concat([kurtosis_13_ori,kurtosis_23_ori,kurtosis_33_ori],axis=0,ignore_index=True)\n"
   ]
  },
  {
   "cell_type": "code",
   "execution_count": 12,
   "metadata": {},
   "outputs": [],
   "source": [
    "skew_10= skew(normalised_10)\n",
    "skew_11= skew(normalised_11)\n",
    "skew_12= skew(normalised_12)\n",
    "skew_13= skew(normalised_13)\n",
    "\n",
    "skew_20= skew(normalised_20)\n",
    "skew_21= skew(normalised_21)\n",
    "skew_22= skew(normalised_22)\n",
    "skew_23= skew(normalised_23)\n",
    "\n",
    "skew_30= skew(normalised_30)\n",
    "skew_31= skew(normalised_31)\n",
    "skew_32= skew(normalised_32)\n",
    "skew_33= skew(normalised_33)\n",
    "\n",
    "skew_1=pd.concat([skew_10,skew_20,skew_30],axis=0,ignore_index=True)\n",
    "skew_2=pd.concat([skew_11,skew_21,skew_31],axis=0,ignore_index=True)    \n",
    "skew_3=pd.concat([skew_12,skew_22,skew_32],axis=0,ignore_index=True)\n",
    "skew_4=pd.concat([skew_13,skew_23,skew_33],axis=0,ignore_index=True)\n",
    "\n",
    "skew_10_ori = skew(normalised_10_ori)\n",
    "skew_11_ori = skew(normalised_11_ori)\n",
    "skew_12_ori = skew(normalised_12_ori)\n",
    "skew_13_ori = skew(normalised_13_ori)\n",
    "\n",
    "skew_20_ori = skew(normalised_20_ori)\n",
    "skew_21_ori = skew(normalised_21_ori)\n",
    "skew_22_ori = skew(normalised_22_ori)\n",
    "skew_23_ori = skew(normalised_23_ori)\n",
    "\n",
    "skew_30_ori = skew(normalised_30_ori)\n",
    "skew_31_ori = skew(normalised_31_ori)\n",
    "skew_32_ori = skew(normalised_32_ori)\n",
    "skew_33_ori = skew(normalised_33_ori)\n",
    "\n",
    "skew_1_ori=pd.concat([skew_10_ori,skew_20_ori,skew_30_ori],axis=0,ignore_index=True)\n",
    "skew_2_ori=pd.concat([skew_11_ori,skew_21_ori,skew_31_ori],axis=0,ignore_index=True)\n",
    "skew_3_ori=pd.concat([skew_12_ori,skew_22_ori,skew_32_ori],axis=0,ignore_index=True)\n",
    "skew_4_ori=pd.concat([skew_13_ori,skew_23_ori,skew_33_ori],axis=0,ignore_index=True)"
   ]
  },
  {
   "cell_type": "code",
   "execution_count": 13,
   "metadata": {},
   "outputs": [
    {
     "name": "stderr",
     "output_type": "stream",
     "text": [
      "C:\\Users\\Lenovo\\AppData\\Local\\Temp\\ipykernel_23912\\2626590613.py:42: RuntimeWarning: divide by zero encountered in divide\n",
      "  max_min_ratio = np.max(data, axis=1) / np.min(data, axis=1)\n"
     ]
    }
   ],
   "source": [
    "max_by_min_10= max_by_min(normalised_10)\n",
    "max_by_min_11= max_by_min(normalised_11)\n",
    "max_by_min_12= max_by_min(normalised_12)\n",
    "max_by_min_13= max_by_min(normalised_13)\n",
    "\n",
    "max_by_min_20= max_by_min(normalised_20)\n",
    "max_by_min_21= max_by_min(normalised_21)\n",
    "max_by_min_22= max_by_min(normalised_22)\n",
    "max_by_min_23= max_by_min(normalised_23)\n",
    "\n",
    "max_by_min_30= max_by_min(normalised_30)\n",
    "max_by_min_31= max_by_min(normalised_31)\n",
    "max_by_min_32= max_by_min(normalised_32)\n",
    "max_by_min_33= max_by_min(normalised_33)\n",
    "\n",
    "max_by_min_1=pd.concat([max_by_min_10,max_by_min_20,max_by_min_30],axis=0,ignore_index=True)\n",
    "max_by_min_2=pd.concat([max_by_min_11,max_by_min_21,max_by_min_31],axis=0,ignore_index=True)\n",
    "max_by_min_3=pd.concat([max_by_min_12,max_by_min_22,max_by_min_32],axis=0,ignore_index=True)\n",
    "max_by_min_4=pd.concat([max_by_min_13,max_by_min_23,max_by_min_33],axis=0,ignore_index=True)\n",
    "\n",
    "max_by_min_10_ori = max_by_min(normalised_10_ori)\n",
    "max_by_min_11_ori = max_by_min(normalised_11_ori)\n",
    "max_by_min_12_ori = max_by_min(normalised_12_ori)\n",
    "max_by_min_13_ori = max_by_min(normalised_13_ori)\n",
    "\n",
    "max_by_min_20_ori = max_by_min(normalised_20_ori)\n",
    "max_by_min_21_ori = max_by_min(normalised_21_ori)\n",
    "max_by_min_22_ori = max_by_min(normalised_22_ori)\n",
    "max_by_min_23_ori = max_by_min(normalised_23_ori)\n",
    "\n",
    "max_by_min_30_ori = max_by_min(normalised_30_ori)\n",
    "max_by_min_31_ori = max_by_min(normalised_31_ori)\n",
    "max_by_min_32_ori = max_by_min(normalised_32_ori)\n",
    "max_by_min_33_ori = max_by_min(normalised_33_ori)\n",
    "\n",
    "max_by_min_1_ori=pd.concat([max_by_min_10_ori,max_by_min_20_ori,max_by_min_30_ori],axis=0,ignore_index=True)\n",
    "max_by_min_2_ori=pd.concat([max_by_min_11_ori,max_by_min_21_ori,max_by_min_31_ori],axis=0,ignore_index=True)\n",
    "max_by_min_3_ori=pd.concat([max_by_min_12_ori,max_by_min_22_ori,max_by_min_32_ori],axis=0,ignore_index=True)\n",
    "max_by_min_4_ori=pd.concat([max_by_min_13_ori,max_by_min_23_ori,max_by_min_33_ori],axis=0,ignore_index=True)\n"
   ]
  },
  {
   "cell_type": "code",
   "execution_count": 14,
   "metadata": {},
   "outputs": [],
   "source": [
    "# Concatenate features for 1st signal\n",
    "x_1 = pd.concat([std_1, rms_1, kurtosis_1, skew_1], axis=1, ignore_index=True)\n",
    "# Concatenate features for 2nd signal\n",
    "x_2 = pd.concat([std_2, rms_2, kurtosis_2, skew_2], axis=1, ignore_index=True)\n",
    "# Concatenate features for 3rd signal\n",
    "x_3 = pd.concat([std_3, rms_3, kurtosis_3, skew_3], axis=1, ignore_index=True)\n",
    "# Concatenate features for 4th signal\n",
    "x_4 = pd.concat([std_4, rms_4, kurtosis_4, skew_4], axis=1, ignore_index=True)\n",
    "\n",
    "pd.DataFrame(x_1).to_csv(\"./new_features/features_w8_1_signal.csv\", index=None, header=False)\n",
    "pd.DataFrame(x_2).to_csv(\"./new_features/features_w8_2_signal.csv\", index=None, header=False)\n",
    "pd.DataFrame(x_3).to_csv(\"./new_features/features_w8_3_signal.csv\", index=None, header=False)\n",
    "pd.DataFrame(x_4).to_csv(\"./new_features/features_w8_4_signal.csv\", index=None, header=False)\n",
    "\n",
    "# Create labels for Class 1 signals\n",
    "y_1 = np.full((int(len(mean_10)), 1), 'A')\n",
    "\n",
    "# Create labels for Class 2 signals\n",
    "y_2 = np.full((int(len(mean_20)), 1), 'B')\n",
    "\n",
    "# Create labels for Class 3 signals\n",
    "y_3 = np.full((int(len(mean_30)), 1), 'C')\n",
    "\n",
    "# Concatenate all labels into a single array\n",
    "y = np.concatenate((y_1, y_2, y_3), axis=None)\n",
    "\n",
    "# Display the shape of the resulting array\n",
    "y.shape\n",
    "\n",
    "# Save the label data to a CSV file\n",
    "y_label = pd.DataFrame(y).to_csv(\"./new_features/labels_w8.csv\", index=None, header=False)\n",
    "\n",
    "# Repeat the same process for additional label creation if needed\n"
   ]
  },
  {
   "cell_type": "code",
   "execution_count": 15,
   "metadata": {},
   "outputs": [],
   "source": [
    "# Concatenate features for 1st signal\n",
    "x_1_ori = pd.concat([ std_1_ori, rms_1_ori, kurtosis_1_ori, skew_1_ori], axis=1, ignore_index=True)\n",
    "# Concatenate features for 2nd signal\n",
    "x_2_ori = pd.concat([ std_2_ori, rms_2_ori, kurtosis_2_ori, skew_2_ori], axis=1, ignore_index=True)\n",
    "# Concatenate features for 3rd signal\n",
    "x_3_ori = pd.concat([ std_3_ori, rms_3_ori, kurtosis_3_ori, skew_3_ori], axis=1, ignore_index=True)\n",
    "# Concatenate features for 4th signal\n",
    "x_4_ori = pd.concat([ std_4_ori, rms_4_ori, kurtosis_4_ori, skew_4_ori], axis=1, ignore_index=True)\n",
    "\n",
    "pd.DataFrame(x_1_ori).to_csv(\"./new_features/features_w8_1_signal_ori.csv\", index=None, header=False)\n",
    "pd.DataFrame(x_2_ori).to_csv(\"./new_features/features_w8_2_signal_ori.csv\", index=None, header=False)\n",
    "pd.DataFrame(x_3_ori).to_csv(\"./new_features/features_w8_3_signal_ori.csv\", index=None, header=False)\n",
    "pd.DataFrame(x_4_ori).to_csv(\"./new_features/features_w8_4_signal_ori.csv\", index=None, header=False)\n",
    "\n",
    "# Repeat the same process for additional label creation if needed"
   ]
  },
  {
   "cell_type": "code",
   "execution_count": 16,
   "metadata": {},
   "outputs": [
    {
     "data": {
      "text/html": [
       "<style>#sk-container-id-1 {color: black;}#sk-container-id-1 pre{padding: 0;}#sk-container-id-1 div.sk-toggleable {background-color: white;}#sk-container-id-1 label.sk-toggleable__label {cursor: pointer;display: block;width: 100%;margin-bottom: 0;padding: 0.3em;box-sizing: border-box;text-align: center;}#sk-container-id-1 label.sk-toggleable__label-arrow:before {content: \"▸\";float: left;margin-right: 0.25em;color: #696969;}#sk-container-id-1 label.sk-toggleable__label-arrow:hover:before {color: black;}#sk-container-id-1 div.sk-estimator:hover label.sk-toggleable__label-arrow:before {color: black;}#sk-container-id-1 div.sk-toggleable__content {max-height: 0;max-width: 0;overflow: hidden;text-align: left;background-color: #f0f8ff;}#sk-container-id-1 div.sk-toggleable__content pre {margin: 0.2em;color: black;border-radius: 0.25em;background-color: #f0f8ff;}#sk-container-id-1 input.sk-toggleable__control:checked~div.sk-toggleable__content {max-height: 200px;max-width: 100%;overflow: auto;}#sk-container-id-1 input.sk-toggleable__control:checked~label.sk-toggleable__label-arrow:before {content: \"▾\";}#sk-container-id-1 div.sk-estimator input.sk-toggleable__control:checked~label.sk-toggleable__label {background-color: #d4ebff;}#sk-container-id-1 div.sk-label input.sk-toggleable__control:checked~label.sk-toggleable__label {background-color: #d4ebff;}#sk-container-id-1 input.sk-hidden--visually {border: 0;clip: rect(1px 1px 1px 1px);clip: rect(1px, 1px, 1px, 1px);height: 1px;margin: -1px;overflow: hidden;padding: 0;position: absolute;width: 1px;}#sk-container-id-1 div.sk-estimator {font-family: monospace;background-color: #f0f8ff;border: 1px dotted black;border-radius: 0.25em;box-sizing: border-box;margin-bottom: 0.5em;}#sk-container-id-1 div.sk-estimator:hover {background-color: #d4ebff;}#sk-container-id-1 div.sk-parallel-item::after {content: \"\";width: 100%;border-bottom: 1px solid gray;flex-grow: 1;}#sk-container-id-1 div.sk-label:hover label.sk-toggleable__label {background-color: #d4ebff;}#sk-container-id-1 div.sk-serial::before {content: \"\";position: absolute;border-left: 1px solid gray;box-sizing: border-box;top: 0;bottom: 0;left: 50%;z-index: 0;}#sk-container-id-1 div.sk-serial {display: flex;flex-direction: column;align-items: center;background-color: white;padding-right: 0.2em;padding-left: 0.2em;position: relative;}#sk-container-id-1 div.sk-item {position: relative;z-index: 1;}#sk-container-id-1 div.sk-parallel {display: flex;align-items: stretch;justify-content: center;background-color: white;position: relative;}#sk-container-id-1 div.sk-item::before, #sk-container-id-1 div.sk-parallel-item::before {content: \"\";position: absolute;border-left: 1px solid gray;box-sizing: border-box;top: 0;bottom: 0;left: 50%;z-index: -1;}#sk-container-id-1 div.sk-parallel-item {display: flex;flex-direction: column;z-index: 1;position: relative;background-color: white;}#sk-container-id-1 div.sk-parallel-item:first-child::after {align-self: flex-end;width: 50%;}#sk-container-id-1 div.sk-parallel-item:last-child::after {align-self: flex-start;width: 50%;}#sk-container-id-1 div.sk-parallel-item:only-child::after {width: 0;}#sk-container-id-1 div.sk-dashed-wrapped {border: 1px dashed gray;margin: 0 0.4em 0.5em 0.4em;box-sizing: border-box;padding-bottom: 0.4em;background-color: white;}#sk-container-id-1 div.sk-label label {font-family: monospace;font-weight: bold;display: inline-block;line-height: 1.2em;}#sk-container-id-1 div.sk-label-container {text-align: center;}#sk-container-id-1 div.sk-container {/* jupyter's `normalize.less` sets `[hidden] { display: none; }` but bootstrap.min.css set `[hidden] { display: none !important; }` so we also need the `!important` here to be able to override the default hidden behavior on the sphinx rendered scikit-learn.org. See: https://github.com/scikit-learn/scikit-learn/issues/21755 */display: inline-block !important;position: relative;}#sk-container-id-1 div.sk-text-repr-fallback {display: none;}</style><div id=\"sk-container-id-1\" class=\"sk-top-container\"><div class=\"sk-text-repr-fallback\"><pre>Pipeline(steps=[(&#x27;imputer&#x27;, SimpleImputer()), (&#x27;svm&#x27;, SVC(random_state=1))])</pre><b>In a Jupyter environment, please rerun this cell to show the HTML representation or trust the notebook. <br />On GitHub, the HTML representation is unable to render, please try loading this page with nbviewer.org.</b></div><div class=\"sk-container\" hidden><div class=\"sk-item sk-dashed-wrapped\"><div class=\"sk-label-container\"><div class=\"sk-label sk-toggleable\"><input class=\"sk-toggleable__control sk-hidden--visually\" id=\"sk-estimator-id-1\" type=\"checkbox\" ><label for=\"sk-estimator-id-1\" class=\"sk-toggleable__label sk-toggleable__label-arrow\">Pipeline</label><div class=\"sk-toggleable__content\"><pre>Pipeline(steps=[(&#x27;imputer&#x27;, SimpleImputer()), (&#x27;svm&#x27;, SVC(random_state=1))])</pre></div></div></div><div class=\"sk-serial\"><div class=\"sk-item\"><div class=\"sk-estimator sk-toggleable\"><input class=\"sk-toggleable__control sk-hidden--visually\" id=\"sk-estimator-id-2\" type=\"checkbox\" ><label for=\"sk-estimator-id-2\" class=\"sk-toggleable__label sk-toggleable__label-arrow\">SimpleImputer</label><div class=\"sk-toggleable__content\"><pre>SimpleImputer()</pre></div></div></div><div class=\"sk-item\"><div class=\"sk-estimator sk-toggleable\"><input class=\"sk-toggleable__control sk-hidden--visually\" id=\"sk-estimator-id-3\" type=\"checkbox\" ><label for=\"sk-estimator-id-3\" class=\"sk-toggleable__label sk-toggleable__label-arrow\">SVC</label><div class=\"sk-toggleable__content\"><pre>SVC(random_state=1)</pre></div></div></div></div></div></div></div>"
      ],
      "text/plain": [
       "Pipeline(steps=[('imputer', SimpleImputer()), ('svm', SVC(random_state=1))])"
      ]
     },
     "execution_count": 16,
     "metadata": {},
     "output_type": "execute_result"
    }
   ],
   "source": [
    "# For Training and testing\n",
    "from sklearn.svm import SVC\n",
    "from sklearn.pipeline import Pipeline \n",
    "from sklearn.impute import SimpleImputer\n",
    "from sklearn.model_selection import train_test_split\n",
    "\n",
    "has_infinity_1 = np.any(np.isinf(x_1))\n",
    "if has_infinity_1:\n",
    "    # Replace Infinity with NaN\n",
    "    x_1[np.isinf(x_1)] = np.nan\n",
    "\n",
    "has_infinity_2 = np.any(np.isinf(x_2))\n",
    "if has_infinity_2:\n",
    "    # Replace Infinity with NaN\n",
    "    x_2[np.isinf(x_2)] = np.nan\n",
    "    \n",
    "has_infinity_3 = np.any(np.isinf(x_3))\n",
    "if has_infinity_3:\n",
    "    # Replace Infinity with NaN\n",
    "    x_3[np.isinf(x_3)] = np.nan\n",
    "    \n",
    "has_infinity_4 = np.any(np.isinf(x_4))\n",
    "if has_infinity_4:\n",
    "    # Replace Infinity with NaN\n",
    "    x_4[np.isinf(x_4)] = np.nan\n",
    "\n",
    "\n",
    "# # Load label data\n",
    "# y = pd.read_csv(\"./new_features/labels_w8.csv\", header=None).values.flatten()\n",
    "\n",
    "X1_train, X1_test, y1_train, y1_test = train_test_split(\n",
    "    x_1, y, test_size=0.2, random_state=42, shuffle=True\n",
    ")\n",
    "\n",
    "X2_train, X2_test, y2_train, y2_test = train_test_split(\n",
    "    x_2, y, test_size=0.2, random_state=42, shuffle=True\n",
    ")\n",
    "\n",
    "X3_train, X3_test, y3_train, y3_test = train_test_split(\n",
    "    x_3, y, test_size=0.2, random_state=42, shuffle=True\n",
    ") \n",
    "\n",
    "X4_train, X4_test, y4_train, y4_test = train_test_split(\n",
    "    x_4, y, test_size=0.2, random_state=42, shuffle=True\n",
    ")\n",
    "\n",
    "imputer = SimpleImputer(strategy='mean')\n",
    "svm = SVC(random_state = 1)\n",
    "pipeline1 = Pipeline([('imputer', imputer), ('svm', svm)])\n",
    "pipeline2 = Pipeline([('imputer', imputer), ('svm', svm)])\n",
    "pipeline3 = Pipeline([('imputer', imputer), ('svm', svm)])\n",
    "pipeline4 = Pipeline([('imputer', imputer), ('svm', svm)])\n",
    "pipeline1.fit(X1_train,y1_train)\n"
   ]
  },
  {
   "cell_type": "code",
   "execution_count": 17,
   "metadata": {},
   "outputs": [],
   "source": [
    "import pickle\n",
    "def make_model_and_save_as_pickle(model,name):\n",
    "    pkl_filename=name\n",
    "    with open(pkl_filename,'wb') as file:\n",
    "        pickle.dump(model,file)"
   ]
  },
  {
   "cell_type": "code",
   "execution_count": 18,
   "metadata": {},
   "outputs": [],
   "source": [
    "make_model_and_save_as_pickle(pipeline1,r'./model_pickle_files/svm/axial.pkl')"
   ]
  },
  {
   "cell_type": "code",
   "execution_count": 19,
   "metadata": {},
   "outputs": [
    {
     "data": {
      "text/html": [
       "<style>#sk-container-id-2 {color: black;}#sk-container-id-2 pre{padding: 0;}#sk-container-id-2 div.sk-toggleable {background-color: white;}#sk-container-id-2 label.sk-toggleable__label {cursor: pointer;display: block;width: 100%;margin-bottom: 0;padding: 0.3em;box-sizing: border-box;text-align: center;}#sk-container-id-2 label.sk-toggleable__label-arrow:before {content: \"▸\";float: left;margin-right: 0.25em;color: #696969;}#sk-container-id-2 label.sk-toggleable__label-arrow:hover:before {color: black;}#sk-container-id-2 div.sk-estimator:hover label.sk-toggleable__label-arrow:before {color: black;}#sk-container-id-2 div.sk-toggleable__content {max-height: 0;max-width: 0;overflow: hidden;text-align: left;background-color: #f0f8ff;}#sk-container-id-2 div.sk-toggleable__content pre {margin: 0.2em;color: black;border-radius: 0.25em;background-color: #f0f8ff;}#sk-container-id-2 input.sk-toggleable__control:checked~div.sk-toggleable__content {max-height: 200px;max-width: 100%;overflow: auto;}#sk-container-id-2 input.sk-toggleable__control:checked~label.sk-toggleable__label-arrow:before {content: \"▾\";}#sk-container-id-2 div.sk-estimator input.sk-toggleable__control:checked~label.sk-toggleable__label {background-color: #d4ebff;}#sk-container-id-2 div.sk-label input.sk-toggleable__control:checked~label.sk-toggleable__label {background-color: #d4ebff;}#sk-container-id-2 input.sk-hidden--visually {border: 0;clip: rect(1px 1px 1px 1px);clip: rect(1px, 1px, 1px, 1px);height: 1px;margin: -1px;overflow: hidden;padding: 0;position: absolute;width: 1px;}#sk-container-id-2 div.sk-estimator {font-family: monospace;background-color: #f0f8ff;border: 1px dotted black;border-radius: 0.25em;box-sizing: border-box;margin-bottom: 0.5em;}#sk-container-id-2 div.sk-estimator:hover {background-color: #d4ebff;}#sk-container-id-2 div.sk-parallel-item::after {content: \"\";width: 100%;border-bottom: 1px solid gray;flex-grow: 1;}#sk-container-id-2 div.sk-label:hover label.sk-toggleable__label {background-color: #d4ebff;}#sk-container-id-2 div.sk-serial::before {content: \"\";position: absolute;border-left: 1px solid gray;box-sizing: border-box;top: 0;bottom: 0;left: 50%;z-index: 0;}#sk-container-id-2 div.sk-serial {display: flex;flex-direction: column;align-items: center;background-color: white;padding-right: 0.2em;padding-left: 0.2em;position: relative;}#sk-container-id-2 div.sk-item {position: relative;z-index: 1;}#sk-container-id-2 div.sk-parallel {display: flex;align-items: stretch;justify-content: center;background-color: white;position: relative;}#sk-container-id-2 div.sk-item::before, #sk-container-id-2 div.sk-parallel-item::before {content: \"\";position: absolute;border-left: 1px solid gray;box-sizing: border-box;top: 0;bottom: 0;left: 50%;z-index: -1;}#sk-container-id-2 div.sk-parallel-item {display: flex;flex-direction: column;z-index: 1;position: relative;background-color: white;}#sk-container-id-2 div.sk-parallel-item:first-child::after {align-self: flex-end;width: 50%;}#sk-container-id-2 div.sk-parallel-item:last-child::after {align-self: flex-start;width: 50%;}#sk-container-id-2 div.sk-parallel-item:only-child::after {width: 0;}#sk-container-id-2 div.sk-dashed-wrapped {border: 1px dashed gray;margin: 0 0.4em 0.5em 0.4em;box-sizing: border-box;padding-bottom: 0.4em;background-color: white;}#sk-container-id-2 div.sk-label label {font-family: monospace;font-weight: bold;display: inline-block;line-height: 1.2em;}#sk-container-id-2 div.sk-label-container {text-align: center;}#sk-container-id-2 div.sk-container {/* jupyter's `normalize.less` sets `[hidden] { display: none; }` but bootstrap.min.css set `[hidden] { display: none !important; }` so we also need the `!important` here to be able to override the default hidden behavior on the sphinx rendered scikit-learn.org. See: https://github.com/scikit-learn/scikit-learn/issues/21755 */display: inline-block !important;position: relative;}#sk-container-id-2 div.sk-text-repr-fallback {display: none;}</style><div id=\"sk-container-id-2\" class=\"sk-top-container\"><div class=\"sk-text-repr-fallback\"><pre>Pipeline(steps=[(&#x27;imputer&#x27;, SimpleImputer()), (&#x27;svm&#x27;, SVC(random_state=1))])</pre><b>In a Jupyter environment, please rerun this cell to show the HTML representation or trust the notebook. <br />On GitHub, the HTML representation is unable to render, please try loading this page with nbviewer.org.</b></div><div class=\"sk-container\" hidden><div class=\"sk-item sk-dashed-wrapped\"><div class=\"sk-label-container\"><div class=\"sk-label sk-toggleable\"><input class=\"sk-toggleable__control sk-hidden--visually\" id=\"sk-estimator-id-4\" type=\"checkbox\" ><label for=\"sk-estimator-id-4\" class=\"sk-toggleable__label sk-toggleable__label-arrow\">Pipeline</label><div class=\"sk-toggleable__content\"><pre>Pipeline(steps=[(&#x27;imputer&#x27;, SimpleImputer()), (&#x27;svm&#x27;, SVC(random_state=1))])</pre></div></div></div><div class=\"sk-serial\"><div class=\"sk-item\"><div class=\"sk-estimator sk-toggleable\"><input class=\"sk-toggleable__control sk-hidden--visually\" id=\"sk-estimator-id-5\" type=\"checkbox\" ><label for=\"sk-estimator-id-5\" class=\"sk-toggleable__label sk-toggleable__label-arrow\">SimpleImputer</label><div class=\"sk-toggleable__content\"><pre>SimpleImputer()</pre></div></div></div><div class=\"sk-item\"><div class=\"sk-estimator sk-toggleable\"><input class=\"sk-toggleable__control sk-hidden--visually\" id=\"sk-estimator-id-6\" type=\"checkbox\" ><label for=\"sk-estimator-id-6\" class=\"sk-toggleable__label sk-toggleable__label-arrow\">SVC</label><div class=\"sk-toggleable__content\"><pre>SVC(random_state=1)</pre></div></div></div></div></div></div></div>"
      ],
      "text/plain": [
       "Pipeline(steps=[('imputer', SimpleImputer()), ('svm', SVC(random_state=1))])"
      ]
     },
     "execution_count": 19,
     "metadata": {},
     "output_type": "execute_result"
    }
   ],
   "source": [
    "\n",
    "pipeline2.fit(X2_train,y2_train)\n"
   ]
  },
  {
   "cell_type": "code",
   "execution_count": 20,
   "metadata": {},
   "outputs": [],
   "source": [
    "make_model_and_save_as_pickle(pipeline2,'./model_pickle_files/svm/bending_moment.pkl')"
   ]
  },
  {
   "cell_type": "code",
   "execution_count": 21,
   "metadata": {},
   "outputs": [
    {
     "data": {
      "text/html": [
       "<style>#sk-container-id-3 {color: black;}#sk-container-id-3 pre{padding: 0;}#sk-container-id-3 div.sk-toggleable {background-color: white;}#sk-container-id-3 label.sk-toggleable__label {cursor: pointer;display: block;width: 100%;margin-bottom: 0;padding: 0.3em;box-sizing: border-box;text-align: center;}#sk-container-id-3 label.sk-toggleable__label-arrow:before {content: \"▸\";float: left;margin-right: 0.25em;color: #696969;}#sk-container-id-3 label.sk-toggleable__label-arrow:hover:before {color: black;}#sk-container-id-3 div.sk-estimator:hover label.sk-toggleable__label-arrow:before {color: black;}#sk-container-id-3 div.sk-toggleable__content {max-height: 0;max-width: 0;overflow: hidden;text-align: left;background-color: #f0f8ff;}#sk-container-id-3 div.sk-toggleable__content pre {margin: 0.2em;color: black;border-radius: 0.25em;background-color: #f0f8ff;}#sk-container-id-3 input.sk-toggleable__control:checked~div.sk-toggleable__content {max-height: 200px;max-width: 100%;overflow: auto;}#sk-container-id-3 input.sk-toggleable__control:checked~label.sk-toggleable__label-arrow:before {content: \"▾\";}#sk-container-id-3 div.sk-estimator input.sk-toggleable__control:checked~label.sk-toggleable__label {background-color: #d4ebff;}#sk-container-id-3 div.sk-label input.sk-toggleable__control:checked~label.sk-toggleable__label {background-color: #d4ebff;}#sk-container-id-3 input.sk-hidden--visually {border: 0;clip: rect(1px 1px 1px 1px);clip: rect(1px, 1px, 1px, 1px);height: 1px;margin: -1px;overflow: hidden;padding: 0;position: absolute;width: 1px;}#sk-container-id-3 div.sk-estimator {font-family: monospace;background-color: #f0f8ff;border: 1px dotted black;border-radius: 0.25em;box-sizing: border-box;margin-bottom: 0.5em;}#sk-container-id-3 div.sk-estimator:hover {background-color: #d4ebff;}#sk-container-id-3 div.sk-parallel-item::after {content: \"\";width: 100%;border-bottom: 1px solid gray;flex-grow: 1;}#sk-container-id-3 div.sk-label:hover label.sk-toggleable__label {background-color: #d4ebff;}#sk-container-id-3 div.sk-serial::before {content: \"\";position: absolute;border-left: 1px solid gray;box-sizing: border-box;top: 0;bottom: 0;left: 50%;z-index: 0;}#sk-container-id-3 div.sk-serial {display: flex;flex-direction: column;align-items: center;background-color: white;padding-right: 0.2em;padding-left: 0.2em;position: relative;}#sk-container-id-3 div.sk-item {position: relative;z-index: 1;}#sk-container-id-3 div.sk-parallel {display: flex;align-items: stretch;justify-content: center;background-color: white;position: relative;}#sk-container-id-3 div.sk-item::before, #sk-container-id-3 div.sk-parallel-item::before {content: \"\";position: absolute;border-left: 1px solid gray;box-sizing: border-box;top: 0;bottom: 0;left: 50%;z-index: -1;}#sk-container-id-3 div.sk-parallel-item {display: flex;flex-direction: column;z-index: 1;position: relative;background-color: white;}#sk-container-id-3 div.sk-parallel-item:first-child::after {align-self: flex-end;width: 50%;}#sk-container-id-3 div.sk-parallel-item:last-child::after {align-self: flex-start;width: 50%;}#sk-container-id-3 div.sk-parallel-item:only-child::after {width: 0;}#sk-container-id-3 div.sk-dashed-wrapped {border: 1px dashed gray;margin: 0 0.4em 0.5em 0.4em;box-sizing: border-box;padding-bottom: 0.4em;background-color: white;}#sk-container-id-3 div.sk-label label {font-family: monospace;font-weight: bold;display: inline-block;line-height: 1.2em;}#sk-container-id-3 div.sk-label-container {text-align: center;}#sk-container-id-3 div.sk-container {/* jupyter's `normalize.less` sets `[hidden] { display: none; }` but bootstrap.min.css set `[hidden] { display: none !important; }` so we also need the `!important` here to be able to override the default hidden behavior on the sphinx rendered scikit-learn.org. See: https://github.com/scikit-learn/scikit-learn/issues/21755 */display: inline-block !important;position: relative;}#sk-container-id-3 div.sk-text-repr-fallback {display: none;}</style><div id=\"sk-container-id-3\" class=\"sk-top-container\"><div class=\"sk-text-repr-fallback\"><pre>Pipeline(steps=[(&#x27;imputer&#x27;, SimpleImputer()), (&#x27;svm&#x27;, SVC(random_state=1))])</pre><b>In a Jupyter environment, please rerun this cell to show the HTML representation or trust the notebook. <br />On GitHub, the HTML representation is unable to render, please try loading this page with nbviewer.org.</b></div><div class=\"sk-container\" hidden><div class=\"sk-item sk-dashed-wrapped\"><div class=\"sk-label-container\"><div class=\"sk-label sk-toggleable\"><input class=\"sk-toggleable__control sk-hidden--visually\" id=\"sk-estimator-id-7\" type=\"checkbox\" ><label for=\"sk-estimator-id-7\" class=\"sk-toggleable__label sk-toggleable__label-arrow\">Pipeline</label><div class=\"sk-toggleable__content\"><pre>Pipeline(steps=[(&#x27;imputer&#x27;, SimpleImputer()), (&#x27;svm&#x27;, SVC(random_state=1))])</pre></div></div></div><div class=\"sk-serial\"><div class=\"sk-item\"><div class=\"sk-estimator sk-toggleable\"><input class=\"sk-toggleable__control sk-hidden--visually\" id=\"sk-estimator-id-8\" type=\"checkbox\" ><label for=\"sk-estimator-id-8\" class=\"sk-toggleable__label sk-toggleable__label-arrow\">SimpleImputer</label><div class=\"sk-toggleable__content\"><pre>SimpleImputer()</pre></div></div></div><div class=\"sk-item\"><div class=\"sk-estimator sk-toggleable\"><input class=\"sk-toggleable__control sk-hidden--visually\" id=\"sk-estimator-id-9\" type=\"checkbox\" ><label for=\"sk-estimator-id-9\" class=\"sk-toggleable__label sk-toggleable__label-arrow\">SVC</label><div class=\"sk-toggleable__content\"><pre>SVC(random_state=1)</pre></div></div></div></div></div></div></div>"
      ],
      "text/plain": [
       "Pipeline(steps=[('imputer', SimpleImputer()), ('svm', SVC(random_state=1))])"
      ]
     },
     "execution_count": 21,
     "metadata": {},
     "output_type": "execute_result"
    }
   ],
   "source": [
    "\n",
    "pipeline3.fit(X3_train,y3_train)\n"
   ]
  },
  {
   "cell_type": "code",
   "execution_count": 22,
   "metadata": {},
   "outputs": [],
   "source": [
    "make_model_and_save_as_pickle(pipeline3,'./model_pickle_files/svm/channel2.pkl')"
   ]
  },
  {
   "cell_type": "code",
   "execution_count": 23,
   "metadata": {},
   "outputs": [],
   "source": [
    "\n",
    "pipeline4.fit(X4_train,y4_train)\n",
    "\n",
    "#printing confusion matrix of all 4 pipelines models\n",
    "\n",
    "from sklearn.metrics import confusion_matrix\n",
    "from sklearn.metrics import accuracy_score\n",
    "from sklearn.metrics import classification_report\n",
    "from sklearn.metrics import f1_score\n",
    "\n",
    "y1_pred = pipeline1.predict(X1_test)\n"
   ]
  },
  {
   "cell_type": "code",
   "execution_count": 24,
   "metadata": {},
   "outputs": [],
   "source": [
    "make_model_and_save_as_pickle(pipeline4,'./model_pickle_files/svm/spindle_power.pkl')"
   ]
  },
  {
   "cell_type": "code",
   "execution_count": 25,
   "metadata": {},
   "outputs": [],
   "source": [
    "has_infinity_1 = np.any(np.isinf(x_1_ori))\n",
    "if has_infinity_1:\n",
    "    # Replace Infinity with NaN\n",
    "    x_1_ori[np.isinf(x_1_ori)] = np.nan\n",
    "\n",
    "has_infinity_2 = np.any(np.isinf(x_2_ori))\n",
    "if has_infinity_2:\n",
    "    # Replace Infinity with NaN\n",
    "    x_2_ori[np.isinf(x_2_ori)] = np.nan\n",
    "    \n",
    "has_infinity_3 = np.any(np.isinf(x_3_ori))\n",
    "if has_infinity_3:\n",
    "    # Replace Infinity with NaN\n",
    "    x_3_ori[np.isinf(x_3_ori)] = np.nan\n",
    "    \n",
    "has_infinity_4 = np.any(np.isinf(x_4_ori))\n",
    "if has_infinity_4:\n",
    "    # Replace Infinity with NaN\n",
    "    x_4_ori[np.isinf(x_4_ori)] = np.nan\n",
    "y1_pred_ori=pipeline1.predict(x_1_ori)"
   ]
  },
  {
   "cell_type": "code",
   "execution_count": 26,
   "metadata": {},
   "outputs": [],
   "source": [
    "\n",
    "y2_pred = pipeline2.predict(X2_test)\n"
   ]
  },
  {
   "cell_type": "code",
   "execution_count": 27,
   "metadata": {},
   "outputs": [],
   "source": [
    "y2_pred_ori = pipeline2.predict(x_2_ori)"
   ]
  },
  {
   "cell_type": "code",
   "execution_count": 28,
   "metadata": {},
   "outputs": [],
   "source": [
    "\n",
    "y3_pred = pipeline3.predict(X3_test)\n"
   ]
  },
  {
   "cell_type": "code",
   "execution_count": 29,
   "metadata": {},
   "outputs": [],
   "source": [
    "y3_pred_ori=pipeline3.predict(x_3_ori)"
   ]
  },
  {
   "cell_type": "code",
   "execution_count": 30,
   "metadata": {},
   "outputs": [],
   "source": [
    "\n",
    "y4_pred = pipeline4.predict(X4_test)\n"
   ]
  },
  {
   "cell_type": "code",
   "execution_count": 31,
   "metadata": {},
   "outputs": [],
   "source": [
    "y4_pred_ori=pipeline4.predict(x_4_ori)"
   ]
  },
  {
   "cell_type": "code",
   "execution_count": 32,
   "metadata": {},
   "outputs": [
    {
     "name": "stdout",
     "output_type": "stream",
     "text": [
      "Confusion Matrix for 1st signal:\n",
      "[[2733 3416   46]\n",
      " [3214 3114   31]\n",
      " [2884 3267   58]]\n",
      "Accuracy for 1st signal:\n",
      "0.31471513084261576\n",
      "Classification Report for 1st signal:\n",
      "              precision    recall  f1-score   support\n",
      "\n",
      "           A       0.31      0.44      0.36      6195\n",
      "           B       0.32      0.49      0.39      6359\n",
      "           C       0.43      0.01      0.02      6209\n",
      "\n",
      "    accuracy                           0.31     18763\n",
      "   macro avg       0.35      0.31      0.26     18763\n",
      "weighted avg       0.35      0.31      0.26     18763\n",
      "\n",
      "F1 Score for 1st signal:\n",
      "0.25680453832202643\n"
     ]
    }
   ],
   "source": [
    "# Results on oversampled Data\n",
    "\n",
    "print(\"Confusion Matrix for 1st signal:\")\n",
    "print(confusion_matrix(y1_test, y1_pred))\n",
    "print(\"Accuracy for 1st signal:\")\n",
    "print(accuracy_score(y1_test, y1_pred))\n",
    "print(\"Classification Report for 1st signal:\")\n",
    "print(classification_report(y1_test, y1_pred))\n",
    "print(\"F1 Score for 1st signal:\")\n",
    "print(f1_score(y1_test, y1_pred, average='weighted'))\n",
    "\n"
   ]
  },
  {
   "cell_type": "code",
   "execution_count": 33,
   "metadata": {},
   "outputs": [
    {
     "name": "stdout",
     "output_type": "stream",
     "text": [
      "Confusion Matrix for 1st signal:\n",
      "[[ 7519 10034   133]\n",
      " [15824 15292   155]\n",
      " [ 1426  1633    39]]\n",
      "Accuracy for 1st signal:\n",
      "0.43895879358370954\n",
      "Classification Report for 1st signal:\n",
      "              precision    recall  f1-score   support\n",
      "\n",
      "           A       0.30      0.43      0.35     17686\n",
      "           B       0.57      0.49      0.53     31271\n",
      "           C       0.12      0.01      0.02      3098\n",
      "\n",
      "    accuracy                           0.44     52055\n",
      "   macro avg       0.33      0.31      0.30     52055\n",
      "weighted avg       0.45      0.44      0.44     52055\n",
      "\n",
      "F1 Score for 1st signal:\n",
      "0.4372203949929476\n"
     ]
    }
   ],
   "source": [
    "# Results on original Data\n",
    "# Create labels for Class 1 signals\n",
    "y_1_ori = np.full((int(len(mean_10_ori)), 1), 'A')\n",
    "\n",
    "# Create labels for Class 2 signals\n",
    "y_2_ori = np.full((int(len(mean_20_ori)), 1), 'B')\n",
    "\n",
    "# Create labels for Class 3 signals\n",
    "y_3_ori = np.full((int(len(mean_30_ori)), 1), 'C')\n",
    "\n",
    "# Concatenate all labels into a single array\n",
    "y_ori = np.concatenate((y_1_ori, y_2_ori, y_3_ori), axis=None)\n",
    "print(\"Confusion Matrix for 1st signal:\")\n",
    "print(confusion_matrix(y_ori, y1_pred_ori))\n",
    "print(\"Accuracy for 1st signal:\")\n",
    "print(accuracy_score(y_ori, y1_pred_ori))\n",
    "print(\"Classification Report for 1st signal:\")\n",
    "print(classification_report(y_ori, y1_pred_ori))\n",
    "print(\"F1 Score for 1st signal:\")\n",
    "print(f1_score(y_ori, y1_pred_ori, average='weighted'))\n",
    "\n"
   ]
  },
  {
   "cell_type": "code",
   "execution_count": 34,
   "metadata": {},
   "outputs": [
    {
     "name": "stdout",
     "output_type": "stream",
     "text": [
      "Confusion Matrix for 2nd signal:\n",
      "[[2168 4020    7]\n",
      " [1961 4393    5]\n",
      " [3122 3075   12]]\n",
      "Accuracy for 2nd signal:\n",
      "0.35031711346799554\n",
      "Classification Report for 2nd signal:\n",
      "              precision    recall  f1-score   support\n",
      "\n",
      "           A       0.30      0.35      0.32      6195\n",
      "           B       0.38      0.69      0.49      6359\n",
      "           C       0.50      0.00      0.00      6209\n",
      "\n",
      "    accuracy                           0.35     18763\n",
      "   macro avg       0.39      0.35      0.27     18763\n",
      "weighted avg       0.39      0.35      0.27     18763\n",
      "\n",
      "F1 Score for 2nd signal:\n",
      "0.2745908765098469\n"
     ]
    }
   ],
   "source": [
    "#oversampled data results\n",
    "print(\"Confusion Matrix for 2nd signal:\")\n",
    "print(confusion_matrix(y2_test, y2_pred))\n",
    "print(\"Accuracy for 2nd signal:\")\n",
    "print(accuracy_score(y2_test, y2_pred))\n",
    "print(\"Classification Report for 2nd signal:\")\n",
    "print(classification_report(y2_test, y2_pred))\n",
    "print(\"F1 Score for 2nd signal:\")\n",
    "print(f1_score(y2_test, y2_pred, average='weighted'))\n",
    "\n"
   ]
  },
  {
   "cell_type": "code",
   "execution_count": 35,
   "metadata": {},
   "outputs": [
    {
     "name": "stdout",
     "output_type": "stream",
     "text": [
      "Confusion Matrix for 2nd signal:\n",
      "[[ 5688 11988    10]\n",
      " [ 9914 21344    13]\n",
      " [ 1376  1719     3]]\n",
      "Accuracy for 2nd signal:\n",
      "0.5193545288637018\n",
      "Classification Report for 2nd signal:\n",
      "              precision    recall  f1-score   support\n",
      "\n",
      "           A       0.34      0.32      0.33     17686\n",
      "           B       0.61      0.68      0.64     31271\n",
      "           C       0.12      0.00      0.00      3098\n",
      "\n",
      "    accuracy                           0.52     52055\n",
      "   macro avg       0.35      0.34      0.32     52055\n",
      "weighted avg       0.49      0.52      0.50     52055\n",
      "\n",
      "F1 Score for 2nd signal:\n",
      "0.49827358347447076\n"
     ]
    }
   ],
   "source": [
    "\n",
    "#original data results\n",
    "print(\"Confusion Matrix for 2nd signal:\")\n",
    "print(confusion_matrix(y_ori, y2_pred_ori))\n",
    "print(\"Accuracy for 2nd signal:\")\n",
    "print(accuracy_score(y_ori, y2_pred_ori))\n",
    "print(\"Classification Report for 2nd signal:\")\n",
    "print(classification_report(y_ori, y2_pred_ori))\n",
    "print(\"F1 Score for 2nd signal:\")\n",
    "print(f1_score(y_ori, y2_pred_ori, average='weighted'))\n",
    "\n"
   ]
  },
  {
   "cell_type": "code",
   "execution_count": 36,
   "metadata": {},
   "outputs": [
    {
     "name": "stdout",
     "output_type": "stream",
     "text": [
      "Confusion Matrix for 3rd signal:\n",
      "[[1887 4261   47]\n",
      " [1484 4708  167]\n",
      " [1067 5124   18]]\n",
      "Accuracy for 3rd signal:\n",
      "0.35244896871502424\n",
      "Classification Report for 3rd signal:\n",
      "              precision    recall  f1-score   support\n",
      "\n",
      "           A       0.43      0.30      0.35      6195\n",
      "           B       0.33      0.74      0.46      6359\n",
      "           C       0.08      0.00      0.01      6209\n",
      "\n",
      "    accuracy                           0.35     18763\n",
      "   macro avg       0.28      0.35      0.27     18763\n",
      "weighted avg       0.28      0.35      0.28     18763\n",
      "\n",
      "F1 Score for 3rd signal:\n",
      "0.2750713634538262\n"
     ]
    }
   ],
   "source": [
    "\n",
    "#oversampled data results\n",
    "\n",
    "print(\"Confusion Matrix for 3rd signal:\")\n",
    "print(confusion_matrix(y3_test, y3_pred))\n",
    "print(\"Accuracy for 3rd signal:\")\n",
    "print(accuracy_score(y3_test, y3_pred))\n",
    "print(\"Classification Report for 3rd signal:\")\n",
    "print(classification_report(y3_test, y3_pred))\n",
    "print(\"F1 Score for 3rd signal:\")\n",
    "print(f1_score(y3_test, y3_pred, average='weighted'))\n",
    "\n",
    "\n"
   ]
  },
  {
   "cell_type": "code",
   "execution_count": 37,
   "metadata": {},
   "outputs": [
    {
     "name": "stdout",
     "output_type": "stream",
     "text": [
      "Confusion Matrix for 3rd signal:\n",
      "[[ 3414 13937   335]\n",
      " [ 7203 23271   797]\n",
      " [  275  2786    37]]\n",
      "Accuracy for 3rd signal:\n",
      "0.5133416578618769\n",
      "Classification Report for 3rd signal:\n",
      "              precision    recall  f1-score   support\n",
      "\n",
      "           A       0.31      0.19      0.24     17686\n",
      "           B       0.58      0.74      0.65     31271\n",
      "           C       0.03      0.01      0.02      3098\n",
      "\n",
      "    accuracy                           0.51     52055\n",
      "   macro avg       0.31      0.32      0.30     52055\n",
      "weighted avg       0.46      0.51      0.47     52055\n",
      "\n",
      "F1 Score for 3rd signal:\n",
      "0.4745352256789499\n"
     ]
    }
   ],
   "source": [
    "\n",
    "#original data results\n",
    "print(\"Confusion Matrix for 3rd signal:\")\n",
    "print(confusion_matrix(y_ori, y3_pred_ori))\n",
    "print(\"Accuracy for 3rd signal:\")\n",
    "print(accuracy_score(y_ori, y3_pred_ori))\n",
    "print(\"Classification Report for 3rd signal:\")\n",
    "print(classification_report(y_ori, y3_pred_ori))\n",
    "print(\"F1 Score for 3rd signal:\")\n",
    "print(f1_score(y_ori, y3_pred_ori, average='weighted'))\n"
   ]
  },
  {
   "cell_type": "code",
   "execution_count": 38,
   "metadata": {},
   "outputs": [
    {
     "name": "stdout",
     "output_type": "stream",
     "text": [
      "Confusion Matrix for 4th signal:\n",
      "[[3303 2007  885]\n",
      " [1275 4348  736]\n",
      " [ 316  522 5371]]\n",
      "Accuracy for 4th signal:\n",
      "0.694025475670202\n",
      "Classification Report for 4th signal:\n",
      "              precision    recall  f1-score   support\n",
      "\n",
      "           A       0.67      0.53      0.60      6195\n",
      "           B       0.63      0.68      0.66      6359\n",
      "           C       0.77      0.87      0.81      6209\n",
      "\n",
      "    accuracy                           0.69     18763\n",
      "   macro avg       0.69      0.69      0.69     18763\n",
      "weighted avg       0.69      0.69      0.69     18763\n",
      "\n",
      "F1 Score for 4th signal:\n",
      "0.6886310094886651\n"
     ]
    }
   ],
   "source": [
    "#oversampled data\n",
    "print(\"Confusion Matrix for 4th signal:\")\n",
    "print(confusion_matrix(y4_test, y4_pred))\n",
    "print(\"Accuracy for 4th signal:\")\n",
    "print(accuracy_score(y4_test, y4_pred))\n",
    "print(\"Classification Report for 4th signal:\")\n",
    "print(classification_report(y4_test, y4_pred))\n",
    "print(\"F1 Score for 4th signal:\")\n",
    "print(f1_score(y4_test, y4_pred, average='weighted'))\n",
    "\n"
   ]
  },
  {
   "cell_type": "code",
   "execution_count": 39,
   "metadata": {},
   "outputs": [
    {
     "name": "stdout",
     "output_type": "stream",
     "text": [
      "Confusion Matrix for 4th signal:\n",
      "[[ 6417  8162  3107]\n",
      " [ 6091 21328  3852]\n",
      " [  136   789  2173]]\n",
      "Accuracy for 4th signal:\n",
      "0.574738257612141\n",
      "Classification Report for 4th signal:\n",
      "              precision    recall  f1-score   support\n",
      "\n",
      "           A       0.51      0.36      0.42     17686\n",
      "           B       0.70      0.68      0.69     31271\n",
      "           C       0.24      0.70      0.36      3098\n",
      "\n",
      "    accuracy                           0.57     52055\n",
      "   macro avg       0.48      0.58      0.49     52055\n",
      "weighted avg       0.61      0.57      0.58     52055\n",
      "\n",
      "F1 Score for 4th signal:\n",
      "0.581238773763368\n"
     ]
    }
   ],
   "source": [
    "#original data\n",
    "print(\"Confusion Matrix for 4th signal:\")\n",
    "print(confusion_matrix(y_ori, y4_pred_ori))\n",
    "print(\"Accuracy for 4th signal:\")\n",
    "print(accuracy_score(y_ori, y4_pred_ori))\n",
    "print(\"Classification Report for 4th signal:\")\n",
    "print(classification_report(y_ori, y4_pred_ori))\n",
    "print(\"F1 Score for 4th signal:\")\n",
    "print(f1_score(y_ori, y4_pred_ori, average='weighted'))\n",
    "\n"
   ]
  },
  {
   "cell_type": "code",
   "execution_count": 40,
   "metadata": {},
   "outputs": [],
   "source": [
    "from sklearn.neighbors import KNeighborsClassifier\n",
    "from sklearn.metrics import accuracy_score\n",
    "from sklearn.metrics import confusion_matrix\n",
    "\n",
    "\n",
    "# instantiate the model\n",
    "knn1 = KNeighborsClassifier(n_neighbors=3)\n",
    "knn2 = KNeighborsClassifier(n_neighbors=3)\n",
    "knn3 = KNeighborsClassifier(n_neighbors=3)\n",
    "knn4 = KNeighborsClassifier(n_neighbors=3)\n",
    "\n"
   ]
  },
  {
   "cell_type": "code",
   "execution_count": 41,
   "metadata": {},
   "outputs": [
    {
     "data": {
      "text/html": [
       "<style>#sk-container-id-4 {color: black;}#sk-container-id-4 pre{padding: 0;}#sk-container-id-4 div.sk-toggleable {background-color: white;}#sk-container-id-4 label.sk-toggleable__label {cursor: pointer;display: block;width: 100%;margin-bottom: 0;padding: 0.3em;box-sizing: border-box;text-align: center;}#sk-container-id-4 label.sk-toggleable__label-arrow:before {content: \"▸\";float: left;margin-right: 0.25em;color: #696969;}#sk-container-id-4 label.sk-toggleable__label-arrow:hover:before {color: black;}#sk-container-id-4 div.sk-estimator:hover label.sk-toggleable__label-arrow:before {color: black;}#sk-container-id-4 div.sk-toggleable__content {max-height: 0;max-width: 0;overflow: hidden;text-align: left;background-color: #f0f8ff;}#sk-container-id-4 div.sk-toggleable__content pre {margin: 0.2em;color: black;border-radius: 0.25em;background-color: #f0f8ff;}#sk-container-id-4 input.sk-toggleable__control:checked~div.sk-toggleable__content {max-height: 200px;max-width: 100%;overflow: auto;}#sk-container-id-4 input.sk-toggleable__control:checked~label.sk-toggleable__label-arrow:before {content: \"▾\";}#sk-container-id-4 div.sk-estimator input.sk-toggleable__control:checked~label.sk-toggleable__label {background-color: #d4ebff;}#sk-container-id-4 div.sk-label input.sk-toggleable__control:checked~label.sk-toggleable__label {background-color: #d4ebff;}#sk-container-id-4 input.sk-hidden--visually {border: 0;clip: rect(1px 1px 1px 1px);clip: rect(1px, 1px, 1px, 1px);height: 1px;margin: -1px;overflow: hidden;padding: 0;position: absolute;width: 1px;}#sk-container-id-4 div.sk-estimator {font-family: monospace;background-color: #f0f8ff;border: 1px dotted black;border-radius: 0.25em;box-sizing: border-box;margin-bottom: 0.5em;}#sk-container-id-4 div.sk-estimator:hover {background-color: #d4ebff;}#sk-container-id-4 div.sk-parallel-item::after {content: \"\";width: 100%;border-bottom: 1px solid gray;flex-grow: 1;}#sk-container-id-4 div.sk-label:hover label.sk-toggleable__label {background-color: #d4ebff;}#sk-container-id-4 div.sk-serial::before {content: \"\";position: absolute;border-left: 1px solid gray;box-sizing: border-box;top: 0;bottom: 0;left: 50%;z-index: 0;}#sk-container-id-4 div.sk-serial {display: flex;flex-direction: column;align-items: center;background-color: white;padding-right: 0.2em;padding-left: 0.2em;position: relative;}#sk-container-id-4 div.sk-item {position: relative;z-index: 1;}#sk-container-id-4 div.sk-parallel {display: flex;align-items: stretch;justify-content: center;background-color: white;position: relative;}#sk-container-id-4 div.sk-item::before, #sk-container-id-4 div.sk-parallel-item::before {content: \"\";position: absolute;border-left: 1px solid gray;box-sizing: border-box;top: 0;bottom: 0;left: 50%;z-index: -1;}#sk-container-id-4 div.sk-parallel-item {display: flex;flex-direction: column;z-index: 1;position: relative;background-color: white;}#sk-container-id-4 div.sk-parallel-item:first-child::after {align-self: flex-end;width: 50%;}#sk-container-id-4 div.sk-parallel-item:last-child::after {align-self: flex-start;width: 50%;}#sk-container-id-4 div.sk-parallel-item:only-child::after {width: 0;}#sk-container-id-4 div.sk-dashed-wrapped {border: 1px dashed gray;margin: 0 0.4em 0.5em 0.4em;box-sizing: border-box;padding-bottom: 0.4em;background-color: white;}#sk-container-id-4 div.sk-label label {font-family: monospace;font-weight: bold;display: inline-block;line-height: 1.2em;}#sk-container-id-4 div.sk-label-container {text-align: center;}#sk-container-id-4 div.sk-container {/* jupyter's `normalize.less` sets `[hidden] { display: none; }` but bootstrap.min.css set `[hidden] { display: none !important; }` so we also need the `!important` here to be able to override the default hidden behavior on the sphinx rendered scikit-learn.org. See: https://github.com/scikit-learn/scikit-learn/issues/21755 */display: inline-block !important;position: relative;}#sk-container-id-4 div.sk-text-repr-fallback {display: none;}</style><div id=\"sk-container-id-4\" class=\"sk-top-container\"><div class=\"sk-text-repr-fallback\"><pre>KNeighborsClassifier(n_neighbors=3)</pre><b>In a Jupyter environment, please rerun this cell to show the HTML representation or trust the notebook. <br />On GitHub, the HTML representation is unable to render, please try loading this page with nbviewer.org.</b></div><div class=\"sk-container\" hidden><div class=\"sk-item\"><div class=\"sk-estimator sk-toggleable\"><input class=\"sk-toggleable__control sk-hidden--visually\" id=\"sk-estimator-id-10\" type=\"checkbox\" checked><label for=\"sk-estimator-id-10\" class=\"sk-toggleable__label sk-toggleable__label-arrow\">KNeighborsClassifier</label><div class=\"sk-toggleable__content\"><pre>KNeighborsClassifier(n_neighbors=3)</pre></div></div></div></div></div>"
      ],
      "text/plain": [
       "KNeighborsClassifier(n_neighbors=3)"
      ]
     },
     "execution_count": 41,
     "metadata": {},
     "output_type": "execute_result"
    }
   ],
   "source": [
    "# fit the model to the training set\n",
    "knn1.fit(X1_train, y1_train)"
   ]
  },
  {
   "cell_type": "code",
   "execution_count": 42,
   "metadata": {},
   "outputs": [
    {
     "data": {
      "text/html": [
       "<style>#sk-container-id-5 {color: black;}#sk-container-id-5 pre{padding: 0;}#sk-container-id-5 div.sk-toggleable {background-color: white;}#sk-container-id-5 label.sk-toggleable__label {cursor: pointer;display: block;width: 100%;margin-bottom: 0;padding: 0.3em;box-sizing: border-box;text-align: center;}#sk-container-id-5 label.sk-toggleable__label-arrow:before {content: \"▸\";float: left;margin-right: 0.25em;color: #696969;}#sk-container-id-5 label.sk-toggleable__label-arrow:hover:before {color: black;}#sk-container-id-5 div.sk-estimator:hover label.sk-toggleable__label-arrow:before {color: black;}#sk-container-id-5 div.sk-toggleable__content {max-height: 0;max-width: 0;overflow: hidden;text-align: left;background-color: #f0f8ff;}#sk-container-id-5 div.sk-toggleable__content pre {margin: 0.2em;color: black;border-radius: 0.25em;background-color: #f0f8ff;}#sk-container-id-5 input.sk-toggleable__control:checked~div.sk-toggleable__content {max-height: 200px;max-width: 100%;overflow: auto;}#sk-container-id-5 input.sk-toggleable__control:checked~label.sk-toggleable__label-arrow:before {content: \"▾\";}#sk-container-id-5 div.sk-estimator input.sk-toggleable__control:checked~label.sk-toggleable__label {background-color: #d4ebff;}#sk-container-id-5 div.sk-label input.sk-toggleable__control:checked~label.sk-toggleable__label {background-color: #d4ebff;}#sk-container-id-5 input.sk-hidden--visually {border: 0;clip: rect(1px 1px 1px 1px);clip: rect(1px, 1px, 1px, 1px);height: 1px;margin: -1px;overflow: hidden;padding: 0;position: absolute;width: 1px;}#sk-container-id-5 div.sk-estimator {font-family: monospace;background-color: #f0f8ff;border: 1px dotted black;border-radius: 0.25em;box-sizing: border-box;margin-bottom: 0.5em;}#sk-container-id-5 div.sk-estimator:hover {background-color: #d4ebff;}#sk-container-id-5 div.sk-parallel-item::after {content: \"\";width: 100%;border-bottom: 1px solid gray;flex-grow: 1;}#sk-container-id-5 div.sk-label:hover label.sk-toggleable__label {background-color: #d4ebff;}#sk-container-id-5 div.sk-serial::before {content: \"\";position: absolute;border-left: 1px solid gray;box-sizing: border-box;top: 0;bottom: 0;left: 50%;z-index: 0;}#sk-container-id-5 div.sk-serial {display: flex;flex-direction: column;align-items: center;background-color: white;padding-right: 0.2em;padding-left: 0.2em;position: relative;}#sk-container-id-5 div.sk-item {position: relative;z-index: 1;}#sk-container-id-5 div.sk-parallel {display: flex;align-items: stretch;justify-content: center;background-color: white;position: relative;}#sk-container-id-5 div.sk-item::before, #sk-container-id-5 div.sk-parallel-item::before {content: \"\";position: absolute;border-left: 1px solid gray;box-sizing: border-box;top: 0;bottom: 0;left: 50%;z-index: -1;}#sk-container-id-5 div.sk-parallel-item {display: flex;flex-direction: column;z-index: 1;position: relative;background-color: white;}#sk-container-id-5 div.sk-parallel-item:first-child::after {align-self: flex-end;width: 50%;}#sk-container-id-5 div.sk-parallel-item:last-child::after {align-self: flex-start;width: 50%;}#sk-container-id-5 div.sk-parallel-item:only-child::after {width: 0;}#sk-container-id-5 div.sk-dashed-wrapped {border: 1px dashed gray;margin: 0 0.4em 0.5em 0.4em;box-sizing: border-box;padding-bottom: 0.4em;background-color: white;}#sk-container-id-5 div.sk-label label {font-family: monospace;font-weight: bold;display: inline-block;line-height: 1.2em;}#sk-container-id-5 div.sk-label-container {text-align: center;}#sk-container-id-5 div.sk-container {/* jupyter's `normalize.less` sets `[hidden] { display: none; }` but bootstrap.min.css set `[hidden] { display: none !important; }` so we also need the `!important` here to be able to override the default hidden behavior on the sphinx rendered scikit-learn.org. See: https://github.com/scikit-learn/scikit-learn/issues/21755 */display: inline-block !important;position: relative;}#sk-container-id-5 div.sk-text-repr-fallback {display: none;}</style><div id=\"sk-container-id-5\" class=\"sk-top-container\"><div class=\"sk-text-repr-fallback\"><pre>KNeighborsClassifier(n_neighbors=3)</pre><b>In a Jupyter environment, please rerun this cell to show the HTML representation or trust the notebook. <br />On GitHub, the HTML representation is unable to render, please try loading this page with nbviewer.org.</b></div><div class=\"sk-container\" hidden><div class=\"sk-item\"><div class=\"sk-estimator sk-toggleable\"><input class=\"sk-toggleable__control sk-hidden--visually\" id=\"sk-estimator-id-11\" type=\"checkbox\" checked><label for=\"sk-estimator-id-11\" class=\"sk-toggleable__label sk-toggleable__label-arrow\">KNeighborsClassifier</label><div class=\"sk-toggleable__content\"><pre>KNeighborsClassifier(n_neighbors=3)</pre></div></div></div></div></div>"
      ],
      "text/plain": [
       "KNeighborsClassifier(n_neighbors=3)"
      ]
     },
     "execution_count": 42,
     "metadata": {},
     "output_type": "execute_result"
    }
   ],
   "source": [
    "knn2.fit(X2_train, y2_train)"
   ]
  },
  {
   "cell_type": "code",
   "execution_count": 43,
   "metadata": {},
   "outputs": [
    {
     "data": {
      "text/html": [
       "<style>#sk-container-id-6 {color: black;}#sk-container-id-6 pre{padding: 0;}#sk-container-id-6 div.sk-toggleable {background-color: white;}#sk-container-id-6 label.sk-toggleable__label {cursor: pointer;display: block;width: 100%;margin-bottom: 0;padding: 0.3em;box-sizing: border-box;text-align: center;}#sk-container-id-6 label.sk-toggleable__label-arrow:before {content: \"▸\";float: left;margin-right: 0.25em;color: #696969;}#sk-container-id-6 label.sk-toggleable__label-arrow:hover:before {color: black;}#sk-container-id-6 div.sk-estimator:hover label.sk-toggleable__label-arrow:before {color: black;}#sk-container-id-6 div.sk-toggleable__content {max-height: 0;max-width: 0;overflow: hidden;text-align: left;background-color: #f0f8ff;}#sk-container-id-6 div.sk-toggleable__content pre {margin: 0.2em;color: black;border-radius: 0.25em;background-color: #f0f8ff;}#sk-container-id-6 input.sk-toggleable__control:checked~div.sk-toggleable__content {max-height: 200px;max-width: 100%;overflow: auto;}#sk-container-id-6 input.sk-toggleable__control:checked~label.sk-toggleable__label-arrow:before {content: \"▾\";}#sk-container-id-6 div.sk-estimator input.sk-toggleable__control:checked~label.sk-toggleable__label {background-color: #d4ebff;}#sk-container-id-6 div.sk-label input.sk-toggleable__control:checked~label.sk-toggleable__label {background-color: #d4ebff;}#sk-container-id-6 input.sk-hidden--visually {border: 0;clip: rect(1px 1px 1px 1px);clip: rect(1px, 1px, 1px, 1px);height: 1px;margin: -1px;overflow: hidden;padding: 0;position: absolute;width: 1px;}#sk-container-id-6 div.sk-estimator {font-family: monospace;background-color: #f0f8ff;border: 1px dotted black;border-radius: 0.25em;box-sizing: border-box;margin-bottom: 0.5em;}#sk-container-id-6 div.sk-estimator:hover {background-color: #d4ebff;}#sk-container-id-6 div.sk-parallel-item::after {content: \"\";width: 100%;border-bottom: 1px solid gray;flex-grow: 1;}#sk-container-id-6 div.sk-label:hover label.sk-toggleable__label {background-color: #d4ebff;}#sk-container-id-6 div.sk-serial::before {content: \"\";position: absolute;border-left: 1px solid gray;box-sizing: border-box;top: 0;bottom: 0;left: 50%;z-index: 0;}#sk-container-id-6 div.sk-serial {display: flex;flex-direction: column;align-items: center;background-color: white;padding-right: 0.2em;padding-left: 0.2em;position: relative;}#sk-container-id-6 div.sk-item {position: relative;z-index: 1;}#sk-container-id-6 div.sk-parallel {display: flex;align-items: stretch;justify-content: center;background-color: white;position: relative;}#sk-container-id-6 div.sk-item::before, #sk-container-id-6 div.sk-parallel-item::before {content: \"\";position: absolute;border-left: 1px solid gray;box-sizing: border-box;top: 0;bottom: 0;left: 50%;z-index: -1;}#sk-container-id-6 div.sk-parallel-item {display: flex;flex-direction: column;z-index: 1;position: relative;background-color: white;}#sk-container-id-6 div.sk-parallel-item:first-child::after {align-self: flex-end;width: 50%;}#sk-container-id-6 div.sk-parallel-item:last-child::after {align-self: flex-start;width: 50%;}#sk-container-id-6 div.sk-parallel-item:only-child::after {width: 0;}#sk-container-id-6 div.sk-dashed-wrapped {border: 1px dashed gray;margin: 0 0.4em 0.5em 0.4em;box-sizing: border-box;padding-bottom: 0.4em;background-color: white;}#sk-container-id-6 div.sk-label label {font-family: monospace;font-weight: bold;display: inline-block;line-height: 1.2em;}#sk-container-id-6 div.sk-label-container {text-align: center;}#sk-container-id-6 div.sk-container {/* jupyter's `normalize.less` sets `[hidden] { display: none; }` but bootstrap.min.css set `[hidden] { display: none !important; }` so we also need the `!important` here to be able to override the default hidden behavior on the sphinx rendered scikit-learn.org. See: https://github.com/scikit-learn/scikit-learn/issues/21755 */display: inline-block !important;position: relative;}#sk-container-id-6 div.sk-text-repr-fallback {display: none;}</style><div id=\"sk-container-id-6\" class=\"sk-top-container\"><div class=\"sk-text-repr-fallback\"><pre>KNeighborsClassifier(n_neighbors=3)</pre><b>In a Jupyter environment, please rerun this cell to show the HTML representation or trust the notebook. <br />On GitHub, the HTML representation is unable to render, please try loading this page with nbviewer.org.</b></div><div class=\"sk-container\" hidden><div class=\"sk-item\"><div class=\"sk-estimator sk-toggleable\"><input class=\"sk-toggleable__control sk-hidden--visually\" id=\"sk-estimator-id-12\" type=\"checkbox\" checked><label for=\"sk-estimator-id-12\" class=\"sk-toggleable__label sk-toggleable__label-arrow\">KNeighborsClassifier</label><div class=\"sk-toggleable__content\"><pre>KNeighborsClassifier(n_neighbors=3)</pre></div></div></div></div></div>"
      ],
      "text/plain": [
       "KNeighborsClassifier(n_neighbors=3)"
      ]
     },
     "execution_count": 43,
     "metadata": {},
     "output_type": "execute_result"
    }
   ],
   "source": [
    "knn3.fit(X3_train, y3_train)"
   ]
  },
  {
   "cell_type": "code",
   "execution_count": 44,
   "metadata": {},
   "outputs": [
    {
     "data": {
      "text/html": [
       "<style>#sk-container-id-7 {color: black;}#sk-container-id-7 pre{padding: 0;}#sk-container-id-7 div.sk-toggleable {background-color: white;}#sk-container-id-7 label.sk-toggleable__label {cursor: pointer;display: block;width: 100%;margin-bottom: 0;padding: 0.3em;box-sizing: border-box;text-align: center;}#sk-container-id-7 label.sk-toggleable__label-arrow:before {content: \"▸\";float: left;margin-right: 0.25em;color: #696969;}#sk-container-id-7 label.sk-toggleable__label-arrow:hover:before {color: black;}#sk-container-id-7 div.sk-estimator:hover label.sk-toggleable__label-arrow:before {color: black;}#sk-container-id-7 div.sk-toggleable__content {max-height: 0;max-width: 0;overflow: hidden;text-align: left;background-color: #f0f8ff;}#sk-container-id-7 div.sk-toggleable__content pre {margin: 0.2em;color: black;border-radius: 0.25em;background-color: #f0f8ff;}#sk-container-id-7 input.sk-toggleable__control:checked~div.sk-toggleable__content {max-height: 200px;max-width: 100%;overflow: auto;}#sk-container-id-7 input.sk-toggleable__control:checked~label.sk-toggleable__label-arrow:before {content: \"▾\";}#sk-container-id-7 div.sk-estimator input.sk-toggleable__control:checked~label.sk-toggleable__label {background-color: #d4ebff;}#sk-container-id-7 div.sk-label input.sk-toggleable__control:checked~label.sk-toggleable__label {background-color: #d4ebff;}#sk-container-id-7 input.sk-hidden--visually {border: 0;clip: rect(1px 1px 1px 1px);clip: rect(1px, 1px, 1px, 1px);height: 1px;margin: -1px;overflow: hidden;padding: 0;position: absolute;width: 1px;}#sk-container-id-7 div.sk-estimator {font-family: monospace;background-color: #f0f8ff;border: 1px dotted black;border-radius: 0.25em;box-sizing: border-box;margin-bottom: 0.5em;}#sk-container-id-7 div.sk-estimator:hover {background-color: #d4ebff;}#sk-container-id-7 div.sk-parallel-item::after {content: \"\";width: 100%;border-bottom: 1px solid gray;flex-grow: 1;}#sk-container-id-7 div.sk-label:hover label.sk-toggleable__label {background-color: #d4ebff;}#sk-container-id-7 div.sk-serial::before {content: \"\";position: absolute;border-left: 1px solid gray;box-sizing: border-box;top: 0;bottom: 0;left: 50%;z-index: 0;}#sk-container-id-7 div.sk-serial {display: flex;flex-direction: column;align-items: center;background-color: white;padding-right: 0.2em;padding-left: 0.2em;position: relative;}#sk-container-id-7 div.sk-item {position: relative;z-index: 1;}#sk-container-id-7 div.sk-parallel {display: flex;align-items: stretch;justify-content: center;background-color: white;position: relative;}#sk-container-id-7 div.sk-item::before, #sk-container-id-7 div.sk-parallel-item::before {content: \"\";position: absolute;border-left: 1px solid gray;box-sizing: border-box;top: 0;bottom: 0;left: 50%;z-index: -1;}#sk-container-id-7 div.sk-parallel-item {display: flex;flex-direction: column;z-index: 1;position: relative;background-color: white;}#sk-container-id-7 div.sk-parallel-item:first-child::after {align-self: flex-end;width: 50%;}#sk-container-id-7 div.sk-parallel-item:last-child::after {align-self: flex-start;width: 50%;}#sk-container-id-7 div.sk-parallel-item:only-child::after {width: 0;}#sk-container-id-7 div.sk-dashed-wrapped {border: 1px dashed gray;margin: 0 0.4em 0.5em 0.4em;box-sizing: border-box;padding-bottom: 0.4em;background-color: white;}#sk-container-id-7 div.sk-label label {font-family: monospace;font-weight: bold;display: inline-block;line-height: 1.2em;}#sk-container-id-7 div.sk-label-container {text-align: center;}#sk-container-id-7 div.sk-container {/* jupyter's `normalize.less` sets `[hidden] { display: none; }` but bootstrap.min.css set `[hidden] { display: none !important; }` so we also need the `!important` here to be able to override the default hidden behavior on the sphinx rendered scikit-learn.org. See: https://github.com/scikit-learn/scikit-learn/issues/21755 */display: inline-block !important;position: relative;}#sk-container-id-7 div.sk-text-repr-fallback {display: none;}</style><div id=\"sk-container-id-7\" class=\"sk-top-container\"><div class=\"sk-text-repr-fallback\"><pre>KNeighborsClassifier(n_neighbors=3)</pre><b>In a Jupyter environment, please rerun this cell to show the HTML representation or trust the notebook. <br />On GitHub, the HTML representation is unable to render, please try loading this page with nbviewer.org.</b></div><div class=\"sk-container\" hidden><div class=\"sk-item\"><div class=\"sk-estimator sk-toggleable\"><input class=\"sk-toggleable__control sk-hidden--visually\" id=\"sk-estimator-id-13\" type=\"checkbox\" checked><label for=\"sk-estimator-id-13\" class=\"sk-toggleable__label sk-toggleable__label-arrow\">KNeighborsClassifier</label><div class=\"sk-toggleable__content\"><pre>KNeighborsClassifier(n_neighbors=3)</pre></div></div></div></div></div>"
      ],
      "text/plain": [
       "KNeighborsClassifier(n_neighbors=3)"
      ]
     },
     "execution_count": 44,
     "metadata": {},
     "output_type": "execute_result"
    }
   ],
   "source": [
    "knn4.fit(X4_train, y4_train)"
   ]
  },
  {
   "cell_type": "code",
   "execution_count": 45,
   "metadata": {},
   "outputs": [],
   "source": [
    "make_model_and_save_as_pickle(knn1,'./model_pickle_files/knn/axial_force.pkl')\n",
    "make_model_and_save_as_pickle(knn2,'./model_pickle_files/knn/bending_moment.pkl')\n",
    "make_model_and_save_as_pickle(knn3,'./model_pickle_files/knn/channel2.pkl')\n",
    "make_model_and_save_as_pickle(knn4,'./model_pickle_files/knn/spindle_power.pkl')"
   ]
  },
  {
   "cell_type": "code",
   "execution_count": 46,
   "metadata": {},
   "outputs": [],
   "source": [
    "y1_pred = knn1.predict(X1_test)\n",
    "y1_pred_ori=knn1.predict(x_1_ori)"
   ]
  },
  {
   "cell_type": "code",
   "execution_count": 47,
   "metadata": {},
   "outputs": [],
   "source": [
    "y2_pred = knn2.predict(X2_test)\n",
    "y2_pred_ori=knn2.predict(x_2_ori)"
   ]
  },
  {
   "cell_type": "code",
   "execution_count": 48,
   "metadata": {},
   "outputs": [],
   "source": [
    "y3_pred = knn3.predict(X3_test)\n",
    "y3_pred_ori=knn3.predict(x_3_ori)"
   ]
  },
  {
   "cell_type": "code",
   "execution_count": 49,
   "metadata": {},
   "outputs": [],
   "source": [
    "y4_pred = knn1.predict(X4_test)\n",
    "y4_pred_ori=knn1.predict(x_4_ori)"
   ]
  },
  {
   "cell_type": "code",
   "execution_count": 50,
   "metadata": {},
   "outputs": [],
   "source": [
    "def printResults(ori,pred):\n",
    "    #original data\n",
    "    print(\"Confusion Matrix for this signal:\")\n",
    "    print(confusion_matrix(ori, pred))\n",
    "    print(\"Accuracy for this signal:\")\n",
    "    print(accuracy_score(ori, pred))\n",
    "    print(\"Classification Report for this signal:\")\n",
    "    print(classification_report(ori, pred))\n",
    "    print(\"F1 Score for this signal:\")\n",
    "    print(f1_score(ori, pred, average='weighted'))"
   ]
  },
  {
   "cell_type": "code",
   "execution_count": 51,
   "metadata": {},
   "outputs": [
    {
     "name": "stdout",
     "output_type": "stream",
     "text": [
      "Confusion Matrix for this signal:\n",
      "[[3014 1311 1870]\n",
      " [2308 2855 1196]\n",
      " [2879 1068 2262]]\n",
      "Accuracy for this signal:\n",
      "0.4333528753397644\n",
      "Classification Report for this signal:\n",
      "              precision    recall  f1-score   support\n",
      "\n",
      "           A       0.37      0.49      0.42      6195\n",
      "           B       0.55      0.45      0.49      6359\n",
      "           C       0.42      0.36      0.39      6209\n",
      "\n",
      "    accuracy                           0.43     18763\n",
      "   macro avg       0.45      0.43      0.43     18763\n",
      "weighted avg       0.45      0.43      0.43     18763\n",
      "\n",
      "F1 Score for this signal:\n",
      "0.434941239458829\n"
     ]
    }
   ],
   "source": [
    "printResults(y1_test,y1_pred)"
   ]
  },
  {
   "cell_type": "code",
   "execution_count": 52,
   "metadata": {},
   "outputs": [
    {
     "name": "stdout",
     "output_type": "stream",
     "text": [
      "Confusion Matrix for this signal:\n",
      "[[12400  2519  2767]\n",
      " [ 8737 19158  3376]\n",
      " [ 1034   328  1736]]\n",
      "Accuracy for this signal:\n",
      "0.6395927384497166\n",
      "Classification Report for this signal:\n",
      "              precision    recall  f1-score   support\n",
      "\n",
      "           A       0.56      0.70      0.62     17686\n",
      "           B       0.87      0.61      0.72     31271\n",
      "           C       0.22      0.56      0.32      3098\n",
      "\n",
      "    accuracy                           0.64     52055\n",
      "   macro avg       0.55      0.62      0.55     52055\n",
      "weighted avg       0.73      0.64      0.66     52055\n",
      "\n",
      "F1 Score for this signal:\n",
      "0.662272537794945\n"
     ]
    }
   ],
   "source": [
    "printResults(y_ori,y1_pred_ori)"
   ]
  },
  {
   "cell_type": "code",
   "execution_count": 53,
   "metadata": {},
   "outputs": [
    {
     "name": "stdout",
     "output_type": "stream",
     "text": [
      "Confusion Matrix for this signal:\n",
      "[[3112 2177  906]\n",
      " [2996 2280 1083]\n",
      " [1395  774 4040]]\n",
      "Accuracy for this signal:\n",
      "0.5026914672493737\n",
      "Classification Report for this signal:\n",
      "              precision    recall  f1-score   support\n",
      "\n",
      "           A       0.41      0.50      0.45      6195\n",
      "           B       0.44      0.36      0.39      6359\n",
      "           C       0.67      0.65      0.66      6209\n",
      "\n",
      "    accuracy                           0.50     18763\n",
      "   macro avg       0.51      0.50      0.50     18763\n",
      "weighted avg       0.51      0.50      0.50     18763\n",
      "\n",
      "F1 Score for this signal:\n",
      "0.5018474250432754\n"
     ]
    }
   ],
   "source": [
    "printResults(y2_test,y2_pred)"
   ]
  },
  {
   "cell_type": "code",
   "execution_count": 54,
   "metadata": {},
   "outputs": [
    {
     "name": "stdout",
     "output_type": "stream",
     "text": [
      "Confusion Matrix for this signal:\n",
      "[[11896  3783  2007]\n",
      " [ 9972 17696  3603]\n",
      " [  613   270  2215]]\n",
      "Accuracy for this signal:\n",
      "0.6110267985784267\n",
      "Classification Report for this signal:\n",
      "              precision    recall  f1-score   support\n",
      "\n",
      "           A       0.53      0.67      0.59     17686\n",
      "           B       0.81      0.57      0.67     31271\n",
      "           C       0.28      0.71      0.41      3098\n",
      "\n",
      "    accuracy                           0.61     52055\n",
      "   macro avg       0.54      0.65      0.56     52055\n",
      "weighted avg       0.69      0.61      0.63     52055\n",
      "\n",
      "F1 Score for this signal:\n",
      "0.626383842100348\n"
     ]
    }
   ],
   "source": [
    "printResults(y_ori,y2_pred_ori)"
   ]
  },
  {
   "cell_type": "code",
   "execution_count": 55,
   "metadata": {},
   "outputs": [
    {
     "name": "stdout",
     "output_type": "stream",
     "text": [
      "Confusion Matrix for this signal:\n",
      "[[3484 1307 1404]\n",
      " [2025 3841  493]\n",
      " [1413  360 4436]]\n",
      "Accuracy for this signal:\n",
      "0.6268187390076214\n",
      "Classification Report for this signal:\n",
      "              precision    recall  f1-score   support\n",
      "\n",
      "           A       0.50      0.56      0.53      6195\n",
      "           B       0.70      0.60      0.65      6359\n",
      "           C       0.70      0.71      0.71      6209\n",
      "\n",
      "    accuracy                           0.63     18763\n",
      "   macro avg       0.63      0.63      0.63     18763\n",
      "weighted avg       0.63      0.63      0.63     18763\n",
      "\n",
      "F1 Score for this signal:\n",
      "0.6288700035548258\n"
     ]
    }
   ],
   "source": [
    "printResults(y3_test,y3_pred)"
   ]
  },
  {
   "cell_type": "code",
   "execution_count": 56,
   "metadata": {},
   "outputs": [
    {
     "name": "stdout",
     "output_type": "stream",
     "text": [
      "Confusion Matrix for this signal:\n",
      "[[12532  2476  2678]\n",
      " [ 6747 23100  1424]\n",
      " [  620   184  2294]]\n",
      "Accuracy for this signal:\n",
      "0.7285755450965326\n",
      "Classification Report for this signal:\n",
      "              precision    recall  f1-score   support\n",
      "\n",
      "           A       0.63      0.71      0.67     17686\n",
      "           B       0.90      0.74      0.81     31271\n",
      "           C       0.36      0.74      0.48      3098\n",
      "\n",
      "    accuracy                           0.73     52055\n",
      "   macro avg       0.63      0.73      0.65     52055\n",
      "weighted avg       0.77      0.73      0.74     52055\n",
      "\n",
      "F1 Score for this signal:\n",
      "0.7419733973584963\n"
     ]
    }
   ],
   "source": [
    "printResults(y_ori,y3_pred_ori)"
   ]
  },
  {
   "cell_type": "code",
   "execution_count": 57,
   "metadata": {},
   "outputs": [
    {
     "name": "stdout",
     "output_type": "stream",
     "text": [
      "Confusion Matrix for this signal:\n",
      "[[2399  911 2885]\n",
      " [2750  931 2678]\n",
      " [3220  818 2171]]\n",
      "Accuracy for this signal:\n",
      "0.2931833928476256\n",
      "Classification Report for this signal:\n",
      "              precision    recall  f1-score   support\n",
      "\n",
      "           A       0.29      0.39      0.33      6195\n",
      "           B       0.35      0.15      0.21      6359\n",
      "           C       0.28      0.35      0.31      6209\n",
      "\n",
      "    accuracy                           0.29     18763\n",
      "   macro avg       0.31      0.29      0.28     18763\n",
      "weighted avg       0.31      0.29      0.28     18763\n",
      "\n",
      "F1 Score for this signal:\n",
      "0.2817929039615397\n"
     ]
    }
   ],
   "source": [
    "printResults(y4_test,y4_pred)"
   ]
  },
  {
   "cell_type": "code",
   "execution_count": 58,
   "metadata": {},
   "outputs": [
    {
     "name": "stdout",
     "output_type": "stream",
     "text": [
      "Confusion Matrix for this signal:\n",
      "[[ 7300  2967  7419]\n",
      " [13658  4734 12879]\n",
      " [ 1613   481  1004]]\n",
      "Accuracy for this signal:\n",
      "0.2504658534242628\n",
      "Classification Report for this signal:\n",
      "              precision    recall  f1-score   support\n",
      "\n",
      "           A       0.32      0.41      0.36     17686\n",
      "           B       0.58      0.15      0.24     31271\n",
      "           C       0.05      0.32      0.08      3098\n",
      "\n",
      "    accuracy                           0.25     52055\n",
      "   macro avg       0.32      0.30      0.23     52055\n",
      "weighted avg       0.46      0.25      0.27     52055\n",
      "\n",
      "F1 Score for this signal:\n",
      "0.2722812099206781\n"
     ]
    }
   ],
   "source": [
    "printResults(y_ori,y4_pred_ori)"
   ]
  },
  {
   "cell_type": "code",
   "execution_count": 59,
   "metadata": {},
   "outputs": [
    {
     "data": {
      "text/html": [
       "<style>#sk-container-id-8 {color: black;}#sk-container-id-8 pre{padding: 0;}#sk-container-id-8 div.sk-toggleable {background-color: white;}#sk-container-id-8 label.sk-toggleable__label {cursor: pointer;display: block;width: 100%;margin-bottom: 0;padding: 0.3em;box-sizing: border-box;text-align: center;}#sk-container-id-8 label.sk-toggleable__label-arrow:before {content: \"▸\";float: left;margin-right: 0.25em;color: #696969;}#sk-container-id-8 label.sk-toggleable__label-arrow:hover:before {color: black;}#sk-container-id-8 div.sk-estimator:hover label.sk-toggleable__label-arrow:before {color: black;}#sk-container-id-8 div.sk-toggleable__content {max-height: 0;max-width: 0;overflow: hidden;text-align: left;background-color: #f0f8ff;}#sk-container-id-8 div.sk-toggleable__content pre {margin: 0.2em;color: black;border-radius: 0.25em;background-color: #f0f8ff;}#sk-container-id-8 input.sk-toggleable__control:checked~div.sk-toggleable__content {max-height: 200px;max-width: 100%;overflow: auto;}#sk-container-id-8 input.sk-toggleable__control:checked~label.sk-toggleable__label-arrow:before {content: \"▾\";}#sk-container-id-8 div.sk-estimator input.sk-toggleable__control:checked~label.sk-toggleable__label {background-color: #d4ebff;}#sk-container-id-8 div.sk-label input.sk-toggleable__control:checked~label.sk-toggleable__label {background-color: #d4ebff;}#sk-container-id-8 input.sk-hidden--visually {border: 0;clip: rect(1px 1px 1px 1px);clip: rect(1px, 1px, 1px, 1px);height: 1px;margin: -1px;overflow: hidden;padding: 0;position: absolute;width: 1px;}#sk-container-id-8 div.sk-estimator {font-family: monospace;background-color: #f0f8ff;border: 1px dotted black;border-radius: 0.25em;box-sizing: border-box;margin-bottom: 0.5em;}#sk-container-id-8 div.sk-estimator:hover {background-color: #d4ebff;}#sk-container-id-8 div.sk-parallel-item::after {content: \"\";width: 100%;border-bottom: 1px solid gray;flex-grow: 1;}#sk-container-id-8 div.sk-label:hover label.sk-toggleable__label {background-color: #d4ebff;}#sk-container-id-8 div.sk-serial::before {content: \"\";position: absolute;border-left: 1px solid gray;box-sizing: border-box;top: 0;bottom: 0;left: 50%;z-index: 0;}#sk-container-id-8 div.sk-serial {display: flex;flex-direction: column;align-items: center;background-color: white;padding-right: 0.2em;padding-left: 0.2em;position: relative;}#sk-container-id-8 div.sk-item {position: relative;z-index: 1;}#sk-container-id-8 div.sk-parallel {display: flex;align-items: stretch;justify-content: center;background-color: white;position: relative;}#sk-container-id-8 div.sk-item::before, #sk-container-id-8 div.sk-parallel-item::before {content: \"\";position: absolute;border-left: 1px solid gray;box-sizing: border-box;top: 0;bottom: 0;left: 50%;z-index: -1;}#sk-container-id-8 div.sk-parallel-item {display: flex;flex-direction: column;z-index: 1;position: relative;background-color: white;}#sk-container-id-8 div.sk-parallel-item:first-child::after {align-self: flex-end;width: 50%;}#sk-container-id-8 div.sk-parallel-item:last-child::after {align-self: flex-start;width: 50%;}#sk-container-id-8 div.sk-parallel-item:only-child::after {width: 0;}#sk-container-id-8 div.sk-dashed-wrapped {border: 1px dashed gray;margin: 0 0.4em 0.5em 0.4em;box-sizing: border-box;padding-bottom: 0.4em;background-color: white;}#sk-container-id-8 div.sk-label label {font-family: monospace;font-weight: bold;display: inline-block;line-height: 1.2em;}#sk-container-id-8 div.sk-label-container {text-align: center;}#sk-container-id-8 div.sk-container {/* jupyter's `normalize.less` sets `[hidden] { display: none; }` but bootstrap.min.css set `[hidden] { display: none !important; }` so we also need the `!important` here to be able to override the default hidden behavior on the sphinx rendered scikit-learn.org. See: https://github.com/scikit-learn/scikit-learn/issues/21755 */display: inline-block !important;position: relative;}#sk-container-id-8 div.sk-text-repr-fallback {display: none;}</style><div id=\"sk-container-id-8\" class=\"sk-top-container\"><div class=\"sk-text-repr-fallback\"><pre>GaussianNB()</pre><b>In a Jupyter environment, please rerun this cell to show the HTML representation or trust the notebook. <br />On GitHub, the HTML representation is unable to render, please try loading this page with nbviewer.org.</b></div><div class=\"sk-container\" hidden><div class=\"sk-item\"><div class=\"sk-estimator sk-toggleable\"><input class=\"sk-toggleable__control sk-hidden--visually\" id=\"sk-estimator-id-14\" type=\"checkbox\" checked><label for=\"sk-estimator-id-14\" class=\"sk-toggleable__label sk-toggleable__label-arrow\">GaussianNB</label><div class=\"sk-toggleable__content\"><pre>GaussianNB()</pre></div></div></div></div></div>"
      ],
      "text/plain": [
       "GaussianNB()"
      ]
     },
     "execution_count": 59,
     "metadata": {},
     "output_type": "execute_result"
    }
   ],
   "source": [
    "from sklearn.naive_bayes import GaussianNB\n",
    "gnb1 = GaussianNB()\n",
    "gnb2 = GaussianNB()\n",
    "gnb3 = GaussianNB()\n",
    "gnb4 = GaussianNB()\n",
    "gnb1.fit(X1_train, y1_train)"
   ]
  },
  {
   "cell_type": "code",
   "execution_count": 60,
   "metadata": {},
   "outputs": [
    {
     "data": {
      "text/html": [
       "<style>#sk-container-id-9 {color: black;}#sk-container-id-9 pre{padding: 0;}#sk-container-id-9 div.sk-toggleable {background-color: white;}#sk-container-id-9 label.sk-toggleable__label {cursor: pointer;display: block;width: 100%;margin-bottom: 0;padding: 0.3em;box-sizing: border-box;text-align: center;}#sk-container-id-9 label.sk-toggleable__label-arrow:before {content: \"▸\";float: left;margin-right: 0.25em;color: #696969;}#sk-container-id-9 label.sk-toggleable__label-arrow:hover:before {color: black;}#sk-container-id-9 div.sk-estimator:hover label.sk-toggleable__label-arrow:before {color: black;}#sk-container-id-9 div.sk-toggleable__content {max-height: 0;max-width: 0;overflow: hidden;text-align: left;background-color: #f0f8ff;}#sk-container-id-9 div.sk-toggleable__content pre {margin: 0.2em;color: black;border-radius: 0.25em;background-color: #f0f8ff;}#sk-container-id-9 input.sk-toggleable__control:checked~div.sk-toggleable__content {max-height: 200px;max-width: 100%;overflow: auto;}#sk-container-id-9 input.sk-toggleable__control:checked~label.sk-toggleable__label-arrow:before {content: \"▾\";}#sk-container-id-9 div.sk-estimator input.sk-toggleable__control:checked~label.sk-toggleable__label {background-color: #d4ebff;}#sk-container-id-9 div.sk-label input.sk-toggleable__control:checked~label.sk-toggleable__label {background-color: #d4ebff;}#sk-container-id-9 input.sk-hidden--visually {border: 0;clip: rect(1px 1px 1px 1px);clip: rect(1px, 1px, 1px, 1px);height: 1px;margin: -1px;overflow: hidden;padding: 0;position: absolute;width: 1px;}#sk-container-id-9 div.sk-estimator {font-family: monospace;background-color: #f0f8ff;border: 1px dotted black;border-radius: 0.25em;box-sizing: border-box;margin-bottom: 0.5em;}#sk-container-id-9 div.sk-estimator:hover {background-color: #d4ebff;}#sk-container-id-9 div.sk-parallel-item::after {content: \"\";width: 100%;border-bottom: 1px solid gray;flex-grow: 1;}#sk-container-id-9 div.sk-label:hover label.sk-toggleable__label {background-color: #d4ebff;}#sk-container-id-9 div.sk-serial::before {content: \"\";position: absolute;border-left: 1px solid gray;box-sizing: border-box;top: 0;bottom: 0;left: 50%;z-index: 0;}#sk-container-id-9 div.sk-serial {display: flex;flex-direction: column;align-items: center;background-color: white;padding-right: 0.2em;padding-left: 0.2em;position: relative;}#sk-container-id-9 div.sk-item {position: relative;z-index: 1;}#sk-container-id-9 div.sk-parallel {display: flex;align-items: stretch;justify-content: center;background-color: white;position: relative;}#sk-container-id-9 div.sk-item::before, #sk-container-id-9 div.sk-parallel-item::before {content: \"\";position: absolute;border-left: 1px solid gray;box-sizing: border-box;top: 0;bottom: 0;left: 50%;z-index: -1;}#sk-container-id-9 div.sk-parallel-item {display: flex;flex-direction: column;z-index: 1;position: relative;background-color: white;}#sk-container-id-9 div.sk-parallel-item:first-child::after {align-self: flex-end;width: 50%;}#sk-container-id-9 div.sk-parallel-item:last-child::after {align-self: flex-start;width: 50%;}#sk-container-id-9 div.sk-parallel-item:only-child::after {width: 0;}#sk-container-id-9 div.sk-dashed-wrapped {border: 1px dashed gray;margin: 0 0.4em 0.5em 0.4em;box-sizing: border-box;padding-bottom: 0.4em;background-color: white;}#sk-container-id-9 div.sk-label label {font-family: monospace;font-weight: bold;display: inline-block;line-height: 1.2em;}#sk-container-id-9 div.sk-label-container {text-align: center;}#sk-container-id-9 div.sk-container {/* jupyter's `normalize.less` sets `[hidden] { display: none; }` but bootstrap.min.css set `[hidden] { display: none !important; }` so we also need the `!important` here to be able to override the default hidden behavior on the sphinx rendered scikit-learn.org. See: https://github.com/scikit-learn/scikit-learn/issues/21755 */display: inline-block !important;position: relative;}#sk-container-id-9 div.sk-text-repr-fallback {display: none;}</style><div id=\"sk-container-id-9\" class=\"sk-top-container\"><div class=\"sk-text-repr-fallback\"><pre>GaussianNB()</pre><b>In a Jupyter environment, please rerun this cell to show the HTML representation or trust the notebook. <br />On GitHub, the HTML representation is unable to render, please try loading this page with nbviewer.org.</b></div><div class=\"sk-container\" hidden><div class=\"sk-item\"><div class=\"sk-estimator sk-toggleable\"><input class=\"sk-toggleable__control sk-hidden--visually\" id=\"sk-estimator-id-15\" type=\"checkbox\" checked><label for=\"sk-estimator-id-15\" class=\"sk-toggleable__label sk-toggleable__label-arrow\">GaussianNB</label><div class=\"sk-toggleable__content\"><pre>GaussianNB()</pre></div></div></div></div></div>"
      ],
      "text/plain": [
       "GaussianNB()"
      ]
     },
     "execution_count": 60,
     "metadata": {},
     "output_type": "execute_result"
    }
   ],
   "source": [
    "gnb2.fit(X2_train, y2_train)"
   ]
  },
  {
   "cell_type": "code",
   "execution_count": 61,
   "metadata": {},
   "outputs": [
    {
     "data": {
      "text/html": [
       "<style>#sk-container-id-10 {color: black;}#sk-container-id-10 pre{padding: 0;}#sk-container-id-10 div.sk-toggleable {background-color: white;}#sk-container-id-10 label.sk-toggleable__label {cursor: pointer;display: block;width: 100%;margin-bottom: 0;padding: 0.3em;box-sizing: border-box;text-align: center;}#sk-container-id-10 label.sk-toggleable__label-arrow:before {content: \"▸\";float: left;margin-right: 0.25em;color: #696969;}#sk-container-id-10 label.sk-toggleable__label-arrow:hover:before {color: black;}#sk-container-id-10 div.sk-estimator:hover label.sk-toggleable__label-arrow:before {color: black;}#sk-container-id-10 div.sk-toggleable__content {max-height: 0;max-width: 0;overflow: hidden;text-align: left;background-color: #f0f8ff;}#sk-container-id-10 div.sk-toggleable__content pre {margin: 0.2em;color: black;border-radius: 0.25em;background-color: #f0f8ff;}#sk-container-id-10 input.sk-toggleable__control:checked~div.sk-toggleable__content {max-height: 200px;max-width: 100%;overflow: auto;}#sk-container-id-10 input.sk-toggleable__control:checked~label.sk-toggleable__label-arrow:before {content: \"▾\";}#sk-container-id-10 div.sk-estimator input.sk-toggleable__control:checked~label.sk-toggleable__label {background-color: #d4ebff;}#sk-container-id-10 div.sk-label input.sk-toggleable__control:checked~label.sk-toggleable__label {background-color: #d4ebff;}#sk-container-id-10 input.sk-hidden--visually {border: 0;clip: rect(1px 1px 1px 1px);clip: rect(1px, 1px, 1px, 1px);height: 1px;margin: -1px;overflow: hidden;padding: 0;position: absolute;width: 1px;}#sk-container-id-10 div.sk-estimator {font-family: monospace;background-color: #f0f8ff;border: 1px dotted black;border-radius: 0.25em;box-sizing: border-box;margin-bottom: 0.5em;}#sk-container-id-10 div.sk-estimator:hover {background-color: #d4ebff;}#sk-container-id-10 div.sk-parallel-item::after {content: \"\";width: 100%;border-bottom: 1px solid gray;flex-grow: 1;}#sk-container-id-10 div.sk-label:hover label.sk-toggleable__label {background-color: #d4ebff;}#sk-container-id-10 div.sk-serial::before {content: \"\";position: absolute;border-left: 1px solid gray;box-sizing: border-box;top: 0;bottom: 0;left: 50%;z-index: 0;}#sk-container-id-10 div.sk-serial {display: flex;flex-direction: column;align-items: center;background-color: white;padding-right: 0.2em;padding-left: 0.2em;position: relative;}#sk-container-id-10 div.sk-item {position: relative;z-index: 1;}#sk-container-id-10 div.sk-parallel {display: flex;align-items: stretch;justify-content: center;background-color: white;position: relative;}#sk-container-id-10 div.sk-item::before, #sk-container-id-10 div.sk-parallel-item::before {content: \"\";position: absolute;border-left: 1px solid gray;box-sizing: border-box;top: 0;bottom: 0;left: 50%;z-index: -1;}#sk-container-id-10 div.sk-parallel-item {display: flex;flex-direction: column;z-index: 1;position: relative;background-color: white;}#sk-container-id-10 div.sk-parallel-item:first-child::after {align-self: flex-end;width: 50%;}#sk-container-id-10 div.sk-parallel-item:last-child::after {align-self: flex-start;width: 50%;}#sk-container-id-10 div.sk-parallel-item:only-child::after {width: 0;}#sk-container-id-10 div.sk-dashed-wrapped {border: 1px dashed gray;margin: 0 0.4em 0.5em 0.4em;box-sizing: border-box;padding-bottom: 0.4em;background-color: white;}#sk-container-id-10 div.sk-label label {font-family: monospace;font-weight: bold;display: inline-block;line-height: 1.2em;}#sk-container-id-10 div.sk-label-container {text-align: center;}#sk-container-id-10 div.sk-container {/* jupyter's `normalize.less` sets `[hidden] { display: none; }` but bootstrap.min.css set `[hidden] { display: none !important; }` so we also need the `!important` here to be able to override the default hidden behavior on the sphinx rendered scikit-learn.org. See: https://github.com/scikit-learn/scikit-learn/issues/21755 */display: inline-block !important;position: relative;}#sk-container-id-10 div.sk-text-repr-fallback {display: none;}</style><div id=\"sk-container-id-10\" class=\"sk-top-container\"><div class=\"sk-text-repr-fallback\"><pre>GaussianNB()</pre><b>In a Jupyter environment, please rerun this cell to show the HTML representation or trust the notebook. <br />On GitHub, the HTML representation is unable to render, please try loading this page with nbviewer.org.</b></div><div class=\"sk-container\" hidden><div class=\"sk-item\"><div class=\"sk-estimator sk-toggleable\"><input class=\"sk-toggleable__control sk-hidden--visually\" id=\"sk-estimator-id-16\" type=\"checkbox\" checked><label for=\"sk-estimator-id-16\" class=\"sk-toggleable__label sk-toggleable__label-arrow\">GaussianNB</label><div class=\"sk-toggleable__content\"><pre>GaussianNB()</pre></div></div></div></div></div>"
      ],
      "text/plain": [
       "GaussianNB()"
      ]
     },
     "execution_count": 61,
     "metadata": {},
     "output_type": "execute_result"
    }
   ],
   "source": [
    "gnb3.fit(X3_train, y3_train)"
   ]
  },
  {
   "cell_type": "code",
   "execution_count": 62,
   "metadata": {},
   "outputs": [
    {
     "data": {
      "text/html": [
       "<style>#sk-container-id-11 {color: black;}#sk-container-id-11 pre{padding: 0;}#sk-container-id-11 div.sk-toggleable {background-color: white;}#sk-container-id-11 label.sk-toggleable__label {cursor: pointer;display: block;width: 100%;margin-bottom: 0;padding: 0.3em;box-sizing: border-box;text-align: center;}#sk-container-id-11 label.sk-toggleable__label-arrow:before {content: \"▸\";float: left;margin-right: 0.25em;color: #696969;}#sk-container-id-11 label.sk-toggleable__label-arrow:hover:before {color: black;}#sk-container-id-11 div.sk-estimator:hover label.sk-toggleable__label-arrow:before {color: black;}#sk-container-id-11 div.sk-toggleable__content {max-height: 0;max-width: 0;overflow: hidden;text-align: left;background-color: #f0f8ff;}#sk-container-id-11 div.sk-toggleable__content pre {margin: 0.2em;color: black;border-radius: 0.25em;background-color: #f0f8ff;}#sk-container-id-11 input.sk-toggleable__control:checked~div.sk-toggleable__content {max-height: 200px;max-width: 100%;overflow: auto;}#sk-container-id-11 input.sk-toggleable__control:checked~label.sk-toggleable__label-arrow:before {content: \"▾\";}#sk-container-id-11 div.sk-estimator input.sk-toggleable__control:checked~label.sk-toggleable__label {background-color: #d4ebff;}#sk-container-id-11 div.sk-label input.sk-toggleable__control:checked~label.sk-toggleable__label {background-color: #d4ebff;}#sk-container-id-11 input.sk-hidden--visually {border: 0;clip: rect(1px 1px 1px 1px);clip: rect(1px, 1px, 1px, 1px);height: 1px;margin: -1px;overflow: hidden;padding: 0;position: absolute;width: 1px;}#sk-container-id-11 div.sk-estimator {font-family: monospace;background-color: #f0f8ff;border: 1px dotted black;border-radius: 0.25em;box-sizing: border-box;margin-bottom: 0.5em;}#sk-container-id-11 div.sk-estimator:hover {background-color: #d4ebff;}#sk-container-id-11 div.sk-parallel-item::after {content: \"\";width: 100%;border-bottom: 1px solid gray;flex-grow: 1;}#sk-container-id-11 div.sk-label:hover label.sk-toggleable__label {background-color: #d4ebff;}#sk-container-id-11 div.sk-serial::before {content: \"\";position: absolute;border-left: 1px solid gray;box-sizing: border-box;top: 0;bottom: 0;left: 50%;z-index: 0;}#sk-container-id-11 div.sk-serial {display: flex;flex-direction: column;align-items: center;background-color: white;padding-right: 0.2em;padding-left: 0.2em;position: relative;}#sk-container-id-11 div.sk-item {position: relative;z-index: 1;}#sk-container-id-11 div.sk-parallel {display: flex;align-items: stretch;justify-content: center;background-color: white;position: relative;}#sk-container-id-11 div.sk-item::before, #sk-container-id-11 div.sk-parallel-item::before {content: \"\";position: absolute;border-left: 1px solid gray;box-sizing: border-box;top: 0;bottom: 0;left: 50%;z-index: -1;}#sk-container-id-11 div.sk-parallel-item {display: flex;flex-direction: column;z-index: 1;position: relative;background-color: white;}#sk-container-id-11 div.sk-parallel-item:first-child::after {align-self: flex-end;width: 50%;}#sk-container-id-11 div.sk-parallel-item:last-child::after {align-self: flex-start;width: 50%;}#sk-container-id-11 div.sk-parallel-item:only-child::after {width: 0;}#sk-container-id-11 div.sk-dashed-wrapped {border: 1px dashed gray;margin: 0 0.4em 0.5em 0.4em;box-sizing: border-box;padding-bottom: 0.4em;background-color: white;}#sk-container-id-11 div.sk-label label {font-family: monospace;font-weight: bold;display: inline-block;line-height: 1.2em;}#sk-container-id-11 div.sk-label-container {text-align: center;}#sk-container-id-11 div.sk-container {/* jupyter's `normalize.less` sets `[hidden] { display: none; }` but bootstrap.min.css set `[hidden] { display: none !important; }` so we also need the `!important` here to be able to override the default hidden behavior on the sphinx rendered scikit-learn.org. See: https://github.com/scikit-learn/scikit-learn/issues/21755 */display: inline-block !important;position: relative;}#sk-container-id-11 div.sk-text-repr-fallback {display: none;}</style><div id=\"sk-container-id-11\" class=\"sk-top-container\"><div class=\"sk-text-repr-fallback\"><pre>GaussianNB()</pre><b>In a Jupyter environment, please rerun this cell to show the HTML representation or trust the notebook. <br />On GitHub, the HTML representation is unable to render, please try loading this page with nbviewer.org.</b></div><div class=\"sk-container\" hidden><div class=\"sk-item\"><div class=\"sk-estimator sk-toggleable\"><input class=\"sk-toggleable__control sk-hidden--visually\" id=\"sk-estimator-id-17\" type=\"checkbox\" checked><label for=\"sk-estimator-id-17\" class=\"sk-toggleable__label sk-toggleable__label-arrow\">GaussianNB</label><div class=\"sk-toggleable__content\"><pre>GaussianNB()</pre></div></div></div></div></div>"
      ],
      "text/plain": [
       "GaussianNB()"
      ]
     },
     "execution_count": 62,
     "metadata": {},
     "output_type": "execute_result"
    }
   ],
   "source": [
    "gnb4.fit(X4_train, y4_train)"
   ]
  },
  {
   "cell_type": "code",
   "execution_count": 63,
   "metadata": {},
   "outputs": [],
   "source": [
    "make_model_and_save_as_pickle(gnb1,'./model_pickle_files/gnb/axial_force.pkl')\n",
    "make_model_and_save_as_pickle(gnb2,'./model_pickle_files/gnb/bending_moment.pkl')\n",
    "make_model_and_save_as_pickle(gnb3,'./model_pickle_files/gnb/channel2.pkl')\n",
    "make_model_and_save_as_pickle(gnb4,'./model_pickle_files/gnb/spindle_power.pkl')"
   ]
  },
  {
   "cell_type": "code",
   "execution_count": 64,
   "metadata": {},
   "outputs": [],
   "source": [
    "y1_pred = gnb1.predict(X1_test)\n",
    "y1_pred_ori=gnb1.predict(x_1_ori)"
   ]
  },
  {
   "cell_type": "code",
   "execution_count": 65,
   "metadata": {},
   "outputs": [],
   "source": [
    "y2_pred = gnb2.predict(X2_test)\n",
    "y2_pred_ori=gnb2.predict(x_2_ori)"
   ]
  },
  {
   "cell_type": "code",
   "execution_count": 66,
   "metadata": {},
   "outputs": [],
   "source": [
    "y3_pred = gnb3.predict(X3_test)\n",
    "y3_pred_ori=gnb3.predict(x_3_ori)"
   ]
  },
  {
   "cell_type": "code",
   "execution_count": 67,
   "metadata": {},
   "outputs": [],
   "source": [
    "y4_pred = gnb4.predict(X4_test)\n",
    "y4_pred_ori=gnb4.predict(x_4_ori)"
   ]
  },
  {
   "cell_type": "code",
   "execution_count": 68,
   "metadata": {},
   "outputs": [
    {
     "name": "stdout",
     "output_type": "stream",
     "text": [
      "Confusion Matrix for this signal:\n",
      "[[2556 1339 2300]\n",
      " [1182 3799 1378]\n",
      " [1868  886 3455]]\n",
      "Accuracy for this signal:\n",
      "0.5228374993337952\n",
      "Classification Report for this signal:\n",
      "              precision    recall  f1-score   support\n",
      "\n",
      "           A       0.46      0.41      0.43      6195\n",
      "           B       0.63      0.60      0.61      6359\n",
      "           C       0.48      0.56      0.52      6209\n",
      "\n",
      "    accuracy                           0.52     18763\n",
      "   macro avg       0.52      0.52      0.52     18763\n",
      "weighted avg       0.52      0.52      0.52     18763\n",
      "\n",
      "F1 Score for this signal:\n",
      "0.5223616577103857\n"
     ]
    }
   ],
   "source": [
    "printResults(y1_test,y1_pred)"
   ]
  },
  {
   "cell_type": "code",
   "execution_count": 69,
   "metadata": {},
   "outputs": [
    {
     "name": "stdout",
     "output_type": "stream",
     "text": [
      "Confusion Matrix for this signal:\n",
      "[[ 8305  4533  4848]\n",
      " [ 5755 18620  6896]\n",
      " [ 1038   588  1472]]\n",
      "Accuracy for this signal:\n",
      "0.5455191624243588\n",
      "Classification Report for this signal:\n",
      "              precision    recall  f1-score   support\n",
      "\n",
      "           A       0.55      0.47      0.51     17686\n",
      "           B       0.78      0.60      0.68     31271\n",
      "           C       0.11      0.48      0.18      3098\n",
      "\n",
      "    accuracy                           0.55     52055\n",
      "   macro avg       0.48      0.51      0.45     52055\n",
      "weighted avg       0.66      0.55      0.59     52055\n",
      "\n",
      "F1 Score for this signal:\n",
      "0.5895371471854163\n"
     ]
    }
   ],
   "source": [
    "printResults(y_ori,y1_pred_ori)"
   ]
  },
  {
   "cell_type": "code",
   "execution_count": 70,
   "metadata": {},
   "outputs": [
    {
     "name": "stdout",
     "output_type": "stream",
     "text": [
      "Confusion Matrix for this signal:\n",
      "[[3348 1876  971]\n",
      " [2688 2400 1271]\n",
      " [ 584  505 5120]]\n",
      "Accuracy for this signal:\n",
      "0.579225070617705\n",
      "Classification Report for this signal:\n",
      "              precision    recall  f1-score   support\n",
      "\n",
      "           A       0.51      0.54      0.52      6195\n",
      "           B       0.50      0.38      0.43      6359\n",
      "           C       0.70      0.82      0.75      6209\n",
      "\n",
      "    accuracy                           0.58     18763\n",
      "   macro avg       0.57      0.58      0.57     18763\n",
      "weighted avg       0.57      0.58      0.57     18763\n",
      "\n",
      "F1 Score for this signal:\n",
      "0.5682423914578976\n"
     ]
    }
   ],
   "source": [
    "printResults(y2_test,y2_pred)"
   ]
  },
  {
   "cell_type": "code",
   "execution_count": 71,
   "metadata": {},
   "outputs": [
    {
     "name": "stdout",
     "output_type": "stream",
     "text": [
      "Confusion Matrix for this signal:\n",
      "[[ 7224  6887  3575]\n",
      " [13246 11577  6448]\n",
      " [  315   463  2320]]\n",
      "Accuracy for this signal:\n",
      "0.4057439246950341\n",
      "Classification Report for this signal:\n",
      "              precision    recall  f1-score   support\n",
      "\n",
      "           A       0.35      0.41      0.38     17686\n",
      "           B       0.61      0.37      0.46     31271\n",
      "           C       0.19      0.75      0.30      3098\n",
      "\n",
      "    accuracy                           0.41     52055\n",
      "   macro avg       0.38      0.51      0.38     52055\n",
      "weighted avg       0.50      0.41      0.42     52055\n",
      "\n",
      "F1 Score for this signal:\n",
      "0.4225699293739686\n"
     ]
    }
   ],
   "source": [
    "printResults(y_ori,y2_pred_ori)"
   ]
  },
  {
   "cell_type": "code",
   "execution_count": 72,
   "metadata": {},
   "outputs": [
    {
     "name": "stdout",
     "output_type": "stream",
     "text": [
      "Confusion Matrix for this signal:\n",
      "[[3613 1000 1582]\n",
      " [2409 2899 1051]\n",
      " [1151  872 4186]]\n",
      "Accuracy for this signal:\n",
      "0.570164685817833\n",
      "Classification Report for this signal:\n",
      "              precision    recall  f1-score   support\n",
      "\n",
      "           A       0.50      0.58      0.54      6195\n",
      "           B       0.61      0.46      0.52      6359\n",
      "           C       0.61      0.67      0.64      6209\n",
      "\n",
      "    accuracy                           0.57     18763\n",
      "   macro avg       0.58      0.57      0.57     18763\n",
      "weighted avg       0.58      0.57      0.57     18763\n",
      "\n",
      "F1 Score for this signal:\n",
      "0.5676756259837248\n"
     ]
    }
   ],
   "source": [
    "printResults(y3_test,y3_pred)"
   ]
  },
  {
   "cell_type": "code",
   "execution_count": 73,
   "metadata": {},
   "outputs": [
    {
     "name": "stdout",
     "output_type": "stream",
     "text": [
      "Confusion Matrix for this signal:\n",
      "[[ 8749  4027  4910]\n",
      " [11693 14431  5147]\n",
      " [  406   833  1859]]\n",
      "Accuracy for this signal:\n",
      "0.48101046969551436\n",
      "Classification Report for this signal:\n",
      "              precision    recall  f1-score   support\n",
      "\n",
      "           A       0.42      0.49      0.45     17686\n",
      "           B       0.75      0.46      0.57     31271\n",
      "           C       0.16      0.60      0.25      3098\n",
      "\n",
      "    accuracy                           0.48     52055\n",
      "   macro avg       0.44      0.52      0.42     52055\n",
      "weighted avg       0.60      0.48      0.51     52055\n",
      "\n",
      "F1 Score for this signal:\n",
      "0.5119294990164123\n"
     ]
    }
   ],
   "source": [
    "printResults(y_ori,y3_pred_ori)"
   ]
  },
  {
   "cell_type": "code",
   "execution_count": 74,
   "metadata": {},
   "outputs": [
    {
     "name": "stdout",
     "output_type": "stream",
     "text": [
      "Confusion Matrix for this signal:\n",
      "[[4371  831  993]\n",
      " [3903 1300 1156]\n",
      " [1375  248 4586]]\n",
      "Accuracy for this signal:\n",
      "0.5466609817193413\n",
      "Classification Report for this signal:\n",
      "              precision    recall  f1-score   support\n",
      "\n",
      "           A       0.45      0.71      0.55      6195\n",
      "           B       0.55      0.20      0.30      6359\n",
      "           C       0.68      0.74      0.71      6209\n",
      "\n",
      "    accuracy                           0.55     18763\n",
      "   macro avg       0.56      0.55      0.52     18763\n",
      "weighted avg       0.56      0.55      0.52     18763\n",
      "\n",
      "F1 Score for this signal:\n",
      "0.517501825047642\n"
     ]
    }
   ],
   "source": [
    "printResults(y4_test,y4_pred)"
   ]
  },
  {
   "cell_type": "code",
   "execution_count": 75,
   "metadata": {},
   "outputs": [
    {
     "name": "stdout",
     "output_type": "stream",
     "text": [
      "Confusion Matrix for this signal:\n",
      "[[10561  4035  3090]\n",
      " [18899  6625  5747]\n",
      " [  645   604  1849]]\n",
      "Accuracy for this signal:\n",
      "0.36567092498319087\n",
      "Classification Report for this signal:\n",
      "              precision    recall  f1-score   support\n",
      "\n",
      "           A       0.35      0.60      0.44     17686\n",
      "           B       0.59      0.21      0.31     31271\n",
      "           C       0.17      0.60      0.27      3098\n",
      "\n",
      "    accuracy                           0.37     52055\n",
      "   macro avg       0.37      0.47      0.34     52055\n",
      "weighted avg       0.48      0.37      0.35     52055\n",
      "\n",
      "F1 Score for this signal:\n",
      "0.35325946717849277\n"
     ]
    }
   ],
   "source": [
    "printResults(y_ori,y4_pred_ori)"
   ]
  },
  {
   "cell_type": "code",
   "execution_count": null,
   "metadata": {},
   "outputs": [],
   "source": []
  },
  {
   "cell_type": "code",
   "execution_count": 76,
   "metadata": {},
   "outputs": [
    {
     "data": {
      "text/html": [
       "<style>#sk-container-id-12 {color: black;}#sk-container-id-12 pre{padding: 0;}#sk-container-id-12 div.sk-toggleable {background-color: white;}#sk-container-id-12 label.sk-toggleable__label {cursor: pointer;display: block;width: 100%;margin-bottom: 0;padding: 0.3em;box-sizing: border-box;text-align: center;}#sk-container-id-12 label.sk-toggleable__label-arrow:before {content: \"▸\";float: left;margin-right: 0.25em;color: #696969;}#sk-container-id-12 label.sk-toggleable__label-arrow:hover:before {color: black;}#sk-container-id-12 div.sk-estimator:hover label.sk-toggleable__label-arrow:before {color: black;}#sk-container-id-12 div.sk-toggleable__content {max-height: 0;max-width: 0;overflow: hidden;text-align: left;background-color: #f0f8ff;}#sk-container-id-12 div.sk-toggleable__content pre {margin: 0.2em;color: black;border-radius: 0.25em;background-color: #f0f8ff;}#sk-container-id-12 input.sk-toggleable__control:checked~div.sk-toggleable__content {max-height: 200px;max-width: 100%;overflow: auto;}#sk-container-id-12 input.sk-toggleable__control:checked~label.sk-toggleable__label-arrow:before {content: \"▾\";}#sk-container-id-12 div.sk-estimator input.sk-toggleable__control:checked~label.sk-toggleable__label {background-color: #d4ebff;}#sk-container-id-12 div.sk-label input.sk-toggleable__control:checked~label.sk-toggleable__label {background-color: #d4ebff;}#sk-container-id-12 input.sk-hidden--visually {border: 0;clip: rect(1px 1px 1px 1px);clip: rect(1px, 1px, 1px, 1px);height: 1px;margin: -1px;overflow: hidden;padding: 0;position: absolute;width: 1px;}#sk-container-id-12 div.sk-estimator {font-family: monospace;background-color: #f0f8ff;border: 1px dotted black;border-radius: 0.25em;box-sizing: border-box;margin-bottom: 0.5em;}#sk-container-id-12 div.sk-estimator:hover {background-color: #d4ebff;}#sk-container-id-12 div.sk-parallel-item::after {content: \"\";width: 100%;border-bottom: 1px solid gray;flex-grow: 1;}#sk-container-id-12 div.sk-label:hover label.sk-toggleable__label {background-color: #d4ebff;}#sk-container-id-12 div.sk-serial::before {content: \"\";position: absolute;border-left: 1px solid gray;box-sizing: border-box;top: 0;bottom: 0;left: 50%;z-index: 0;}#sk-container-id-12 div.sk-serial {display: flex;flex-direction: column;align-items: center;background-color: white;padding-right: 0.2em;padding-left: 0.2em;position: relative;}#sk-container-id-12 div.sk-item {position: relative;z-index: 1;}#sk-container-id-12 div.sk-parallel {display: flex;align-items: stretch;justify-content: center;background-color: white;position: relative;}#sk-container-id-12 div.sk-item::before, #sk-container-id-12 div.sk-parallel-item::before {content: \"\";position: absolute;border-left: 1px solid gray;box-sizing: border-box;top: 0;bottom: 0;left: 50%;z-index: -1;}#sk-container-id-12 div.sk-parallel-item {display: flex;flex-direction: column;z-index: 1;position: relative;background-color: white;}#sk-container-id-12 div.sk-parallel-item:first-child::after {align-self: flex-end;width: 50%;}#sk-container-id-12 div.sk-parallel-item:last-child::after {align-self: flex-start;width: 50%;}#sk-container-id-12 div.sk-parallel-item:only-child::after {width: 0;}#sk-container-id-12 div.sk-dashed-wrapped {border: 1px dashed gray;margin: 0 0.4em 0.5em 0.4em;box-sizing: border-box;padding-bottom: 0.4em;background-color: white;}#sk-container-id-12 div.sk-label label {font-family: monospace;font-weight: bold;display: inline-block;line-height: 1.2em;}#sk-container-id-12 div.sk-label-container {text-align: center;}#sk-container-id-12 div.sk-container {/* jupyter's `normalize.less` sets `[hidden] { display: none; }` but bootstrap.min.css set `[hidden] { display: none !important; }` so we also need the `!important` here to be able to override the default hidden behavior on the sphinx rendered scikit-learn.org. See: https://github.com/scikit-learn/scikit-learn/issues/21755 */display: inline-block !important;position: relative;}#sk-container-id-12 div.sk-text-repr-fallback {display: none;}</style><div id=\"sk-container-id-12\" class=\"sk-top-container\"><div class=\"sk-text-repr-fallback\"><pre>LogisticRegression(random_state=0, solver=&#x27;liblinear&#x27;)</pre><b>In a Jupyter environment, please rerun this cell to show the HTML representation or trust the notebook. <br />On GitHub, the HTML representation is unable to render, please try loading this page with nbviewer.org.</b></div><div class=\"sk-container\" hidden><div class=\"sk-item\"><div class=\"sk-estimator sk-toggleable\"><input class=\"sk-toggleable__control sk-hidden--visually\" id=\"sk-estimator-id-18\" type=\"checkbox\" checked><label for=\"sk-estimator-id-18\" class=\"sk-toggleable__label sk-toggleable__label-arrow\">LogisticRegression</label><div class=\"sk-toggleable__content\"><pre>LogisticRegression(random_state=0, solver=&#x27;liblinear&#x27;)</pre></div></div></div></div></div>"
      ],
      "text/plain": [
       "LogisticRegression(random_state=0, solver='liblinear')"
      ]
     },
     "execution_count": 76,
     "metadata": {},
     "output_type": "execute_result"
    }
   ],
   "source": [
    "from sklearn.linear_model import LogisticRegression\n",
    "\n",
    "\n",
    "# instantiate the model\n",
    "logreg1 = LogisticRegression(solver='liblinear', random_state=0)\n",
    "logreg2 = LogisticRegression(solver='liblinear', random_state=0)\n",
    "logreg3 = LogisticRegression(solver='liblinear', random_state=0)\n",
    "logreg4 = LogisticRegression(solver='liblinear', random_state=0)\n",
    "\n",
    "\n",
    "# fit the model\n",
    "logreg1.fit(X1_train, y1_train)\n",
    "logreg2.fit(X2_train, y2_train)\n",
    "logreg3.fit(X3_train, y3_train)\n",
    "logreg4.fit(X4_train, y4_train)"
   ]
  },
  {
   "cell_type": "code",
   "execution_count": 77,
   "metadata": {},
   "outputs": [],
   "source": [
    "make_model_and_save_as_pickle(logreg1,'./model_pickle_files/logreg/axial_force.pkl')\n",
    "make_model_and_save_as_pickle(logreg2,'./model_pickle_files/logreg/bending_moment.pkl')\n",
    "make_model_and_save_as_pickle(logreg3,'./model_pickle_files/logreg/channel2.pkl')\n",
    "make_model_and_save_as_pickle(logreg4,'./model_pickle_files/logreg/spindle_power.pkl')"
   ]
  },
  {
   "cell_type": "code",
   "execution_count": 78,
   "metadata": {},
   "outputs": [],
   "source": [
    "y1_pred = logreg1.predict(X1_test)\n",
    "y1_pred_ori=logreg1.predict(x_1_ori)\n",
    "y2_pred = logreg2.predict(X2_test)\n",
    "y2_pred_ori=logreg2.predict(x_2_ori)\n",
    "y3_pred = logreg3.predict(X3_test)\n",
    "y3_pred_ori=logreg3.predict(x_3_ori)\n",
    "y4_pred = logreg4.predict(X4_test)\n",
    "y4_pred_ori=logreg4.predict(x_4_ori)"
   ]
  },
  {
   "cell_type": "code",
   "execution_count": 79,
   "metadata": {},
   "outputs": [
    {
     "name": "stdout",
     "output_type": "stream",
     "text": [
      "Confusion Matrix for this signal:\n",
      "[[2496 1741 1958]\n",
      " [1088 4225 1046]\n",
      " [1926 1303 2980]]\n",
      "Accuracy for this signal:\n",
      "0.5170281937856419\n",
      "Classification Report for this signal:\n",
      "              precision    recall  f1-score   support\n",
      "\n",
      "           A       0.45      0.40      0.43      6195\n",
      "           B       0.58      0.66      0.62      6359\n",
      "           C       0.50      0.48      0.49      6209\n",
      "\n",
      "    accuracy                           0.52     18763\n",
      "   macro avg       0.51      0.52      0.51     18763\n",
      "weighted avg       0.51      0.52      0.51     18763\n",
      "\n",
      "F1 Score for this signal:\n",
      "0.5127079950143495\n"
     ]
    }
   ],
   "source": [
    "printResults(y1_test,y1_pred)"
   ]
  },
  {
   "cell_type": "code",
   "execution_count": 80,
   "metadata": {},
   "outputs": [
    {
     "name": "stdout",
     "output_type": "stream",
     "text": [
      "Confusion Matrix for this signal:\n",
      "[[ 7628  5515  4543]\n",
      " [ 5358 20808  5105]\n",
      " [  942   828  1328]]\n",
      "Accuracy for this signal:\n",
      "0.5717798482374412\n",
      "Classification Report for this signal:\n",
      "              precision    recall  f1-score   support\n",
      "\n",
      "           A       0.55      0.43      0.48     17686\n",
      "           B       0.77      0.67      0.71     31271\n",
      "           C       0.12      0.43      0.19      3098\n",
      "\n",
      "    accuracy                           0.57     52055\n",
      "   macro avg       0.48      0.51      0.46     52055\n",
      "weighted avg       0.65      0.57      0.60     52055\n",
      "\n",
      "F1 Score for this signal:\n",
      "0.6031083350077147\n"
     ]
    }
   ],
   "source": [
    "printResults(y_ori,y1_pred_ori)"
   ]
  },
  {
   "cell_type": "code",
   "execution_count": 81,
   "metadata": {},
   "outputs": [
    {
     "name": "stdout",
     "output_type": "stream",
     "text": [
      "Confusion Matrix for this signal:\n",
      "[[3133 1982 1080]\n",
      " [2583 2425 1351]\n",
      " [ 395  557 5257]]\n",
      "Accuracy for this signal:\n",
      "0.5764003624153919\n",
      "Classification Report for this signal:\n",
      "              precision    recall  f1-score   support\n",
      "\n",
      "           A       0.51      0.51      0.51      6195\n",
      "           B       0.49      0.38      0.43      6359\n",
      "           C       0.68      0.85      0.76      6209\n",
      "\n",
      "    accuracy                           0.58     18763\n",
      "   macro avg       0.56      0.58      0.56     18763\n",
      "weighted avg       0.56      0.58      0.56     18763\n",
      "\n",
      "F1 Score for this signal:\n",
      "0.5636447453449447\n"
     ]
    }
   ],
   "source": [
    "printResults(y2_test,y2_pred)"
   ]
  },
  {
   "cell_type": "code",
   "execution_count": 82,
   "metadata": {},
   "outputs": [
    {
     "name": "stdout",
     "output_type": "stream",
     "text": [
      "Confusion Matrix for this signal:\n",
      "[[ 6820  7009  3857]\n",
      " [12525 11815  6931]\n",
      " [  197   482  2419]]\n",
      "Accuracy for this signal:\n",
      "0.40445682451253484\n",
      "Classification Report for this signal:\n",
      "              precision    recall  f1-score   support\n",
      "\n",
      "           A       0.35      0.39      0.37     17686\n",
      "           B       0.61      0.38      0.47     31271\n",
      "           C       0.18      0.78      0.30      3098\n",
      "\n",
      "    accuracy                           0.40     52055\n",
      "   macro avg       0.38      0.51      0.38     52055\n",
      "weighted avg       0.50      0.40      0.42     52055\n",
      "\n",
      "F1 Score for this signal:\n",
      "0.4228085377664262\n"
     ]
    }
   ],
   "source": [
    "printResults(y_ori,y2_pred_ori)"
   ]
  },
  {
   "cell_type": "code",
   "execution_count": 83,
   "metadata": {},
   "outputs": [
    {
     "name": "stdout",
     "output_type": "stream",
     "text": [
      "Confusion Matrix for this signal:\n",
      "[[3510 1398 1287]\n",
      " [1986 3328 1045]\n",
      " [ 921 1244 4044]]\n",
      "Accuracy for this signal:\n",
      "0.5799712199541651\n",
      "Classification Report for this signal:\n",
      "              precision    recall  f1-score   support\n",
      "\n",
      "           A       0.55      0.57      0.56      6195\n",
      "           B       0.56      0.52      0.54      6359\n",
      "           C       0.63      0.65      0.64      6209\n",
      "\n",
      "    accuracy                           0.58     18763\n",
      "   macro avg       0.58      0.58      0.58     18763\n",
      "weighted avg       0.58      0.58      0.58     18763\n",
      "\n",
      "F1 Score for this signal:\n",
      "0.5794146386433214\n"
     ]
    }
   ],
   "source": [
    "printResults(y3_test,y3_pred)"
   ]
  },
  {
   "cell_type": "code",
   "execution_count": 84,
   "metadata": {},
   "outputs": [
    {
     "name": "stdout",
     "output_type": "stream",
     "text": [
      "Confusion Matrix for this signal:\n",
      "[[ 9226  4327  4133]\n",
      " [ 9795 16326  5150]\n",
      " [  579   640  1879]]\n",
      "Accuracy for this signal:\n",
      "0.5269618672557872\n",
      "Classification Report for this signal:\n",
      "              precision    recall  f1-score   support\n",
      "\n",
      "           A       0.47      0.52      0.49     17686\n",
      "           B       0.77      0.52      0.62     31271\n",
      "           C       0.17      0.61      0.26      3098\n",
      "\n",
      "    accuracy                           0.53     52055\n",
      "   macro avg       0.47      0.55      0.46     52055\n",
      "weighted avg       0.63      0.53      0.56     52055\n",
      "\n",
      "F1 Score for this signal:\n",
      "0.556986393597631\n"
     ]
    }
   ],
   "source": [
    "printResults(y_ori,y3_pred_ori)"
   ]
  },
  {
   "cell_type": "code",
   "execution_count": 85,
   "metadata": {},
   "outputs": [
    {
     "name": "stdout",
     "output_type": "stream",
     "text": [
      "Confusion Matrix for this signal:\n",
      "[[2667 2277 1251]\n",
      " [1681 3220 1458]\n",
      " [ 373  531 5305]]\n",
      "Accuracy for this signal:\n",
      "0.5964930981186377\n",
      "Classification Report for this signal:\n",
      "              precision    recall  f1-score   support\n",
      "\n",
      "           A       0.56      0.43      0.49      6195\n",
      "           B       0.53      0.51      0.52      6359\n",
      "           C       0.66      0.85      0.75      6209\n",
      "\n",
      "    accuracy                           0.60     18763\n",
      "   macro avg       0.59      0.60      0.58     18763\n",
      "weighted avg       0.59      0.60      0.58     18763\n",
      "\n",
      "F1 Score for this signal:\n",
      "0.5843910471617317\n"
     ]
    }
   ],
   "source": [
    "printResults(y4_test,y4_pred)"
   ]
  },
  {
   "cell_type": "code",
   "execution_count": 86,
   "metadata": {},
   "outputs": [
    {
     "name": "stdout",
     "output_type": "stream",
     "text": [
      "Confusion Matrix for this signal:\n",
      "[[ 6189  7468  4029]\n",
      " [ 8296 15622  7353]\n",
      " [  261   640  2197]]\n",
      "Accuracy for this signal:\n",
      "0.4612044952454135\n",
      "Classification Report for this signal:\n",
      "              precision    recall  f1-score   support\n",
      "\n",
      "           A       0.42      0.35      0.38     17686\n",
      "           B       0.66      0.50      0.57     31271\n",
      "           C       0.16      0.71      0.26      3098\n",
      "\n",
      "    accuracy                           0.46     52055\n",
      "   macro avg       0.41      0.52      0.40     52055\n",
      "weighted avg       0.55      0.46      0.49     52055\n",
      "\n",
      "F1 Score for this signal:\n",
      "0.48660398136702265\n"
     ]
    }
   ],
   "source": [
    "printResults(y_ori,y4_pred_ori)"
   ]
  },
  {
   "cell_type": "code",
   "execution_count": 87,
   "metadata": {},
   "outputs": [
    {
     "data": {
      "text/html": [
       "<style>#sk-container-id-13 {color: black;}#sk-container-id-13 pre{padding: 0;}#sk-container-id-13 div.sk-toggleable {background-color: white;}#sk-container-id-13 label.sk-toggleable__label {cursor: pointer;display: block;width: 100%;margin-bottom: 0;padding: 0.3em;box-sizing: border-box;text-align: center;}#sk-container-id-13 label.sk-toggleable__label-arrow:before {content: \"▸\";float: left;margin-right: 0.25em;color: #696969;}#sk-container-id-13 label.sk-toggleable__label-arrow:hover:before {color: black;}#sk-container-id-13 div.sk-estimator:hover label.sk-toggleable__label-arrow:before {color: black;}#sk-container-id-13 div.sk-toggleable__content {max-height: 0;max-width: 0;overflow: hidden;text-align: left;background-color: #f0f8ff;}#sk-container-id-13 div.sk-toggleable__content pre {margin: 0.2em;color: black;border-radius: 0.25em;background-color: #f0f8ff;}#sk-container-id-13 input.sk-toggleable__control:checked~div.sk-toggleable__content {max-height: 200px;max-width: 100%;overflow: auto;}#sk-container-id-13 input.sk-toggleable__control:checked~label.sk-toggleable__label-arrow:before {content: \"▾\";}#sk-container-id-13 div.sk-estimator input.sk-toggleable__control:checked~label.sk-toggleable__label {background-color: #d4ebff;}#sk-container-id-13 div.sk-label input.sk-toggleable__control:checked~label.sk-toggleable__label {background-color: #d4ebff;}#sk-container-id-13 input.sk-hidden--visually {border: 0;clip: rect(1px 1px 1px 1px);clip: rect(1px, 1px, 1px, 1px);height: 1px;margin: -1px;overflow: hidden;padding: 0;position: absolute;width: 1px;}#sk-container-id-13 div.sk-estimator {font-family: monospace;background-color: #f0f8ff;border: 1px dotted black;border-radius: 0.25em;box-sizing: border-box;margin-bottom: 0.5em;}#sk-container-id-13 div.sk-estimator:hover {background-color: #d4ebff;}#sk-container-id-13 div.sk-parallel-item::after {content: \"\";width: 100%;border-bottom: 1px solid gray;flex-grow: 1;}#sk-container-id-13 div.sk-label:hover label.sk-toggleable__label {background-color: #d4ebff;}#sk-container-id-13 div.sk-serial::before {content: \"\";position: absolute;border-left: 1px solid gray;box-sizing: border-box;top: 0;bottom: 0;left: 50%;z-index: 0;}#sk-container-id-13 div.sk-serial {display: flex;flex-direction: column;align-items: center;background-color: white;padding-right: 0.2em;padding-left: 0.2em;position: relative;}#sk-container-id-13 div.sk-item {position: relative;z-index: 1;}#sk-container-id-13 div.sk-parallel {display: flex;align-items: stretch;justify-content: center;background-color: white;position: relative;}#sk-container-id-13 div.sk-item::before, #sk-container-id-13 div.sk-parallel-item::before {content: \"\";position: absolute;border-left: 1px solid gray;box-sizing: border-box;top: 0;bottom: 0;left: 50%;z-index: -1;}#sk-container-id-13 div.sk-parallel-item {display: flex;flex-direction: column;z-index: 1;position: relative;background-color: white;}#sk-container-id-13 div.sk-parallel-item:first-child::after {align-self: flex-end;width: 50%;}#sk-container-id-13 div.sk-parallel-item:last-child::after {align-self: flex-start;width: 50%;}#sk-container-id-13 div.sk-parallel-item:only-child::after {width: 0;}#sk-container-id-13 div.sk-dashed-wrapped {border: 1px dashed gray;margin: 0 0.4em 0.5em 0.4em;box-sizing: border-box;padding-bottom: 0.4em;background-color: white;}#sk-container-id-13 div.sk-label label {font-family: monospace;font-weight: bold;display: inline-block;line-height: 1.2em;}#sk-container-id-13 div.sk-label-container {text-align: center;}#sk-container-id-13 div.sk-container {/* jupyter's `normalize.less` sets `[hidden] { display: none; }` but bootstrap.min.css set `[hidden] { display: none !important; }` so we also need the `!important` here to be able to override the default hidden behavior on the sphinx rendered scikit-learn.org. See: https://github.com/scikit-learn/scikit-learn/issues/21755 */display: inline-block !important;position: relative;}#sk-container-id-13 div.sk-text-repr-fallback {display: none;}</style><div id=\"sk-container-id-13\" class=\"sk-top-container\"><div class=\"sk-text-repr-fallback\"><pre>RandomForestClassifier()</pre><b>In a Jupyter environment, please rerun this cell to show the HTML representation or trust the notebook. <br />On GitHub, the HTML representation is unable to render, please try loading this page with nbviewer.org.</b></div><div class=\"sk-container\" hidden><div class=\"sk-item\"><div class=\"sk-estimator sk-toggleable\"><input class=\"sk-toggleable__control sk-hidden--visually\" id=\"sk-estimator-id-19\" type=\"checkbox\" checked><label for=\"sk-estimator-id-19\" class=\"sk-toggleable__label sk-toggleable__label-arrow\">RandomForestClassifier</label><div class=\"sk-toggleable__content\"><pre>RandomForestClassifier()</pre></div></div></div></div></div>"
      ],
      "text/plain": [
       "RandomForestClassifier()"
      ]
     },
     "execution_count": 87,
     "metadata": {},
     "output_type": "execute_result"
    }
   ],
   "source": [
    "from sklearn.ensemble import RandomForestClassifier\n",
    "rf_classifier1 = RandomForestClassifier()\n",
    "rf_classifier2 = RandomForestClassifier()\n",
    "rf_classifier3 = RandomForestClassifier()\n",
    "rf_classifier4 = RandomForestClassifier()\n",
    "rf_classifier1.fit(X1_train, y1_train)\n"
   ]
  },
  {
   "cell_type": "code",
   "execution_count": 88,
   "metadata": {},
   "outputs": [
    {
     "data": {
      "text/html": [
       "<style>#sk-container-id-14 {color: black;}#sk-container-id-14 pre{padding: 0;}#sk-container-id-14 div.sk-toggleable {background-color: white;}#sk-container-id-14 label.sk-toggleable__label {cursor: pointer;display: block;width: 100%;margin-bottom: 0;padding: 0.3em;box-sizing: border-box;text-align: center;}#sk-container-id-14 label.sk-toggleable__label-arrow:before {content: \"▸\";float: left;margin-right: 0.25em;color: #696969;}#sk-container-id-14 label.sk-toggleable__label-arrow:hover:before {color: black;}#sk-container-id-14 div.sk-estimator:hover label.sk-toggleable__label-arrow:before {color: black;}#sk-container-id-14 div.sk-toggleable__content {max-height: 0;max-width: 0;overflow: hidden;text-align: left;background-color: #f0f8ff;}#sk-container-id-14 div.sk-toggleable__content pre {margin: 0.2em;color: black;border-radius: 0.25em;background-color: #f0f8ff;}#sk-container-id-14 input.sk-toggleable__control:checked~div.sk-toggleable__content {max-height: 200px;max-width: 100%;overflow: auto;}#sk-container-id-14 input.sk-toggleable__control:checked~label.sk-toggleable__label-arrow:before {content: \"▾\";}#sk-container-id-14 div.sk-estimator input.sk-toggleable__control:checked~label.sk-toggleable__label {background-color: #d4ebff;}#sk-container-id-14 div.sk-label input.sk-toggleable__control:checked~label.sk-toggleable__label {background-color: #d4ebff;}#sk-container-id-14 input.sk-hidden--visually {border: 0;clip: rect(1px 1px 1px 1px);clip: rect(1px, 1px, 1px, 1px);height: 1px;margin: -1px;overflow: hidden;padding: 0;position: absolute;width: 1px;}#sk-container-id-14 div.sk-estimator {font-family: monospace;background-color: #f0f8ff;border: 1px dotted black;border-radius: 0.25em;box-sizing: border-box;margin-bottom: 0.5em;}#sk-container-id-14 div.sk-estimator:hover {background-color: #d4ebff;}#sk-container-id-14 div.sk-parallel-item::after {content: \"\";width: 100%;border-bottom: 1px solid gray;flex-grow: 1;}#sk-container-id-14 div.sk-label:hover label.sk-toggleable__label {background-color: #d4ebff;}#sk-container-id-14 div.sk-serial::before {content: \"\";position: absolute;border-left: 1px solid gray;box-sizing: border-box;top: 0;bottom: 0;left: 50%;z-index: 0;}#sk-container-id-14 div.sk-serial {display: flex;flex-direction: column;align-items: center;background-color: white;padding-right: 0.2em;padding-left: 0.2em;position: relative;}#sk-container-id-14 div.sk-item {position: relative;z-index: 1;}#sk-container-id-14 div.sk-parallel {display: flex;align-items: stretch;justify-content: center;background-color: white;position: relative;}#sk-container-id-14 div.sk-item::before, #sk-container-id-14 div.sk-parallel-item::before {content: \"\";position: absolute;border-left: 1px solid gray;box-sizing: border-box;top: 0;bottom: 0;left: 50%;z-index: -1;}#sk-container-id-14 div.sk-parallel-item {display: flex;flex-direction: column;z-index: 1;position: relative;background-color: white;}#sk-container-id-14 div.sk-parallel-item:first-child::after {align-self: flex-end;width: 50%;}#sk-container-id-14 div.sk-parallel-item:last-child::after {align-self: flex-start;width: 50%;}#sk-container-id-14 div.sk-parallel-item:only-child::after {width: 0;}#sk-container-id-14 div.sk-dashed-wrapped {border: 1px dashed gray;margin: 0 0.4em 0.5em 0.4em;box-sizing: border-box;padding-bottom: 0.4em;background-color: white;}#sk-container-id-14 div.sk-label label {font-family: monospace;font-weight: bold;display: inline-block;line-height: 1.2em;}#sk-container-id-14 div.sk-label-container {text-align: center;}#sk-container-id-14 div.sk-container {/* jupyter's `normalize.less` sets `[hidden] { display: none; }` but bootstrap.min.css set `[hidden] { display: none !important; }` so we also need the `!important` here to be able to override the default hidden behavior on the sphinx rendered scikit-learn.org. See: https://github.com/scikit-learn/scikit-learn/issues/21755 */display: inline-block !important;position: relative;}#sk-container-id-14 div.sk-text-repr-fallback {display: none;}</style><div id=\"sk-container-id-14\" class=\"sk-top-container\"><div class=\"sk-text-repr-fallback\"><pre>RandomForestClassifier()</pre><b>In a Jupyter environment, please rerun this cell to show the HTML representation or trust the notebook. <br />On GitHub, the HTML representation is unable to render, please try loading this page with nbviewer.org.</b></div><div class=\"sk-container\" hidden><div class=\"sk-item\"><div class=\"sk-estimator sk-toggleable\"><input class=\"sk-toggleable__control sk-hidden--visually\" id=\"sk-estimator-id-20\" type=\"checkbox\" checked><label for=\"sk-estimator-id-20\" class=\"sk-toggleable__label sk-toggleable__label-arrow\">RandomForestClassifier</label><div class=\"sk-toggleable__content\"><pre>RandomForestClassifier()</pre></div></div></div></div></div>"
      ],
      "text/plain": [
       "RandomForestClassifier()"
      ]
     },
     "execution_count": 88,
     "metadata": {},
     "output_type": "execute_result"
    }
   ],
   "source": [
    "\n",
    "rf_classifier2.fit(X2_train, y2_train)\n"
   ]
  },
  {
   "cell_type": "code",
   "execution_count": 89,
   "metadata": {},
   "outputs": [
    {
     "data": {
      "text/html": [
       "<style>#sk-container-id-15 {color: black;}#sk-container-id-15 pre{padding: 0;}#sk-container-id-15 div.sk-toggleable {background-color: white;}#sk-container-id-15 label.sk-toggleable__label {cursor: pointer;display: block;width: 100%;margin-bottom: 0;padding: 0.3em;box-sizing: border-box;text-align: center;}#sk-container-id-15 label.sk-toggleable__label-arrow:before {content: \"▸\";float: left;margin-right: 0.25em;color: #696969;}#sk-container-id-15 label.sk-toggleable__label-arrow:hover:before {color: black;}#sk-container-id-15 div.sk-estimator:hover label.sk-toggleable__label-arrow:before {color: black;}#sk-container-id-15 div.sk-toggleable__content {max-height: 0;max-width: 0;overflow: hidden;text-align: left;background-color: #f0f8ff;}#sk-container-id-15 div.sk-toggleable__content pre {margin: 0.2em;color: black;border-radius: 0.25em;background-color: #f0f8ff;}#sk-container-id-15 input.sk-toggleable__control:checked~div.sk-toggleable__content {max-height: 200px;max-width: 100%;overflow: auto;}#sk-container-id-15 input.sk-toggleable__control:checked~label.sk-toggleable__label-arrow:before {content: \"▾\";}#sk-container-id-15 div.sk-estimator input.sk-toggleable__control:checked~label.sk-toggleable__label {background-color: #d4ebff;}#sk-container-id-15 div.sk-label input.sk-toggleable__control:checked~label.sk-toggleable__label {background-color: #d4ebff;}#sk-container-id-15 input.sk-hidden--visually {border: 0;clip: rect(1px 1px 1px 1px);clip: rect(1px, 1px, 1px, 1px);height: 1px;margin: -1px;overflow: hidden;padding: 0;position: absolute;width: 1px;}#sk-container-id-15 div.sk-estimator {font-family: monospace;background-color: #f0f8ff;border: 1px dotted black;border-radius: 0.25em;box-sizing: border-box;margin-bottom: 0.5em;}#sk-container-id-15 div.sk-estimator:hover {background-color: #d4ebff;}#sk-container-id-15 div.sk-parallel-item::after {content: \"\";width: 100%;border-bottom: 1px solid gray;flex-grow: 1;}#sk-container-id-15 div.sk-label:hover label.sk-toggleable__label {background-color: #d4ebff;}#sk-container-id-15 div.sk-serial::before {content: \"\";position: absolute;border-left: 1px solid gray;box-sizing: border-box;top: 0;bottom: 0;left: 50%;z-index: 0;}#sk-container-id-15 div.sk-serial {display: flex;flex-direction: column;align-items: center;background-color: white;padding-right: 0.2em;padding-left: 0.2em;position: relative;}#sk-container-id-15 div.sk-item {position: relative;z-index: 1;}#sk-container-id-15 div.sk-parallel {display: flex;align-items: stretch;justify-content: center;background-color: white;position: relative;}#sk-container-id-15 div.sk-item::before, #sk-container-id-15 div.sk-parallel-item::before {content: \"\";position: absolute;border-left: 1px solid gray;box-sizing: border-box;top: 0;bottom: 0;left: 50%;z-index: -1;}#sk-container-id-15 div.sk-parallel-item {display: flex;flex-direction: column;z-index: 1;position: relative;background-color: white;}#sk-container-id-15 div.sk-parallel-item:first-child::after {align-self: flex-end;width: 50%;}#sk-container-id-15 div.sk-parallel-item:last-child::after {align-self: flex-start;width: 50%;}#sk-container-id-15 div.sk-parallel-item:only-child::after {width: 0;}#sk-container-id-15 div.sk-dashed-wrapped {border: 1px dashed gray;margin: 0 0.4em 0.5em 0.4em;box-sizing: border-box;padding-bottom: 0.4em;background-color: white;}#sk-container-id-15 div.sk-label label {font-family: monospace;font-weight: bold;display: inline-block;line-height: 1.2em;}#sk-container-id-15 div.sk-label-container {text-align: center;}#sk-container-id-15 div.sk-container {/* jupyter's `normalize.less` sets `[hidden] { display: none; }` but bootstrap.min.css set `[hidden] { display: none !important; }` so we also need the `!important` here to be able to override the default hidden behavior on the sphinx rendered scikit-learn.org. See: https://github.com/scikit-learn/scikit-learn/issues/21755 */display: inline-block !important;position: relative;}#sk-container-id-15 div.sk-text-repr-fallback {display: none;}</style><div id=\"sk-container-id-15\" class=\"sk-top-container\"><div class=\"sk-text-repr-fallback\"><pre>RandomForestClassifier()</pre><b>In a Jupyter environment, please rerun this cell to show the HTML representation or trust the notebook. <br />On GitHub, the HTML representation is unable to render, please try loading this page with nbviewer.org.</b></div><div class=\"sk-container\" hidden><div class=\"sk-item\"><div class=\"sk-estimator sk-toggleable\"><input class=\"sk-toggleable__control sk-hidden--visually\" id=\"sk-estimator-id-21\" type=\"checkbox\" checked><label for=\"sk-estimator-id-21\" class=\"sk-toggleable__label sk-toggleable__label-arrow\">RandomForestClassifier</label><div class=\"sk-toggleable__content\"><pre>RandomForestClassifier()</pre></div></div></div></div></div>"
      ],
      "text/plain": [
       "RandomForestClassifier()"
      ]
     },
     "execution_count": 89,
     "metadata": {},
     "output_type": "execute_result"
    }
   ],
   "source": [
    "\n",
    "rf_classifier3.fit(X3_train, y3_train)\n"
   ]
  },
  {
   "cell_type": "code",
   "execution_count": 90,
   "metadata": {},
   "outputs": [
    {
     "data": {
      "text/html": [
       "<style>#sk-container-id-16 {color: black;}#sk-container-id-16 pre{padding: 0;}#sk-container-id-16 div.sk-toggleable {background-color: white;}#sk-container-id-16 label.sk-toggleable__label {cursor: pointer;display: block;width: 100%;margin-bottom: 0;padding: 0.3em;box-sizing: border-box;text-align: center;}#sk-container-id-16 label.sk-toggleable__label-arrow:before {content: \"▸\";float: left;margin-right: 0.25em;color: #696969;}#sk-container-id-16 label.sk-toggleable__label-arrow:hover:before {color: black;}#sk-container-id-16 div.sk-estimator:hover label.sk-toggleable__label-arrow:before {color: black;}#sk-container-id-16 div.sk-toggleable__content {max-height: 0;max-width: 0;overflow: hidden;text-align: left;background-color: #f0f8ff;}#sk-container-id-16 div.sk-toggleable__content pre {margin: 0.2em;color: black;border-radius: 0.25em;background-color: #f0f8ff;}#sk-container-id-16 input.sk-toggleable__control:checked~div.sk-toggleable__content {max-height: 200px;max-width: 100%;overflow: auto;}#sk-container-id-16 input.sk-toggleable__control:checked~label.sk-toggleable__label-arrow:before {content: \"▾\";}#sk-container-id-16 div.sk-estimator input.sk-toggleable__control:checked~label.sk-toggleable__label {background-color: #d4ebff;}#sk-container-id-16 div.sk-label input.sk-toggleable__control:checked~label.sk-toggleable__label {background-color: #d4ebff;}#sk-container-id-16 input.sk-hidden--visually {border: 0;clip: rect(1px 1px 1px 1px);clip: rect(1px, 1px, 1px, 1px);height: 1px;margin: -1px;overflow: hidden;padding: 0;position: absolute;width: 1px;}#sk-container-id-16 div.sk-estimator {font-family: monospace;background-color: #f0f8ff;border: 1px dotted black;border-radius: 0.25em;box-sizing: border-box;margin-bottom: 0.5em;}#sk-container-id-16 div.sk-estimator:hover {background-color: #d4ebff;}#sk-container-id-16 div.sk-parallel-item::after {content: \"\";width: 100%;border-bottom: 1px solid gray;flex-grow: 1;}#sk-container-id-16 div.sk-label:hover label.sk-toggleable__label {background-color: #d4ebff;}#sk-container-id-16 div.sk-serial::before {content: \"\";position: absolute;border-left: 1px solid gray;box-sizing: border-box;top: 0;bottom: 0;left: 50%;z-index: 0;}#sk-container-id-16 div.sk-serial {display: flex;flex-direction: column;align-items: center;background-color: white;padding-right: 0.2em;padding-left: 0.2em;position: relative;}#sk-container-id-16 div.sk-item {position: relative;z-index: 1;}#sk-container-id-16 div.sk-parallel {display: flex;align-items: stretch;justify-content: center;background-color: white;position: relative;}#sk-container-id-16 div.sk-item::before, #sk-container-id-16 div.sk-parallel-item::before {content: \"\";position: absolute;border-left: 1px solid gray;box-sizing: border-box;top: 0;bottom: 0;left: 50%;z-index: -1;}#sk-container-id-16 div.sk-parallel-item {display: flex;flex-direction: column;z-index: 1;position: relative;background-color: white;}#sk-container-id-16 div.sk-parallel-item:first-child::after {align-self: flex-end;width: 50%;}#sk-container-id-16 div.sk-parallel-item:last-child::after {align-self: flex-start;width: 50%;}#sk-container-id-16 div.sk-parallel-item:only-child::after {width: 0;}#sk-container-id-16 div.sk-dashed-wrapped {border: 1px dashed gray;margin: 0 0.4em 0.5em 0.4em;box-sizing: border-box;padding-bottom: 0.4em;background-color: white;}#sk-container-id-16 div.sk-label label {font-family: monospace;font-weight: bold;display: inline-block;line-height: 1.2em;}#sk-container-id-16 div.sk-label-container {text-align: center;}#sk-container-id-16 div.sk-container {/* jupyter's `normalize.less` sets `[hidden] { display: none; }` but bootstrap.min.css set `[hidden] { display: none !important; }` so we also need the `!important` here to be able to override the default hidden behavior on the sphinx rendered scikit-learn.org. See: https://github.com/scikit-learn/scikit-learn/issues/21755 */display: inline-block !important;position: relative;}#sk-container-id-16 div.sk-text-repr-fallback {display: none;}</style><div id=\"sk-container-id-16\" class=\"sk-top-container\"><div class=\"sk-text-repr-fallback\"><pre>RandomForestClassifier()</pre><b>In a Jupyter environment, please rerun this cell to show the HTML representation or trust the notebook. <br />On GitHub, the HTML representation is unable to render, please try loading this page with nbviewer.org.</b></div><div class=\"sk-container\" hidden><div class=\"sk-item\"><div class=\"sk-estimator sk-toggleable\"><input class=\"sk-toggleable__control sk-hidden--visually\" id=\"sk-estimator-id-22\" type=\"checkbox\" checked><label for=\"sk-estimator-id-22\" class=\"sk-toggleable__label sk-toggleable__label-arrow\">RandomForestClassifier</label><div class=\"sk-toggleable__content\"><pre>RandomForestClassifier()</pre></div></div></div></div></div>"
      ],
      "text/plain": [
       "RandomForestClassifier()"
      ]
     },
     "execution_count": 90,
     "metadata": {},
     "output_type": "execute_result"
    }
   ],
   "source": [
    "\n",
    "rf_classifier4.fit(X4_train, y4_train)"
   ]
  },
  {
   "cell_type": "code",
   "execution_count": 91,
   "metadata": {},
   "outputs": [],
   "source": [
    "make_model_and_save_as_pickle(rf_classifier1,'./model_pickle_files/random_forest/axial_force.pkl')\n",
    "make_model_and_save_as_pickle(rf_classifier2,'./model_pickle_files/random_forest/bending_moment.pkl')\n",
    "make_model_and_save_as_pickle(rf_classifier3,'./model_pickle_files/random_forest/channel2.pkl')\n",
    "make_model_and_save_as_pickle(rf_classifier4,'./model_pickle_files/random_forest/spindle_power.pkl')"
   ]
  },
  {
   "cell_type": "code",
   "execution_count": 92,
   "metadata": {},
   "outputs": [],
   "source": [
    "y1_pred = rf_classifier1.predict(X1_test)\n",
    "y1_pred_ori=rf_classifier1.predict(x_1_ori)\n",
    "y2_pred = rf_classifier2.predict(X2_test)\n",
    "y2_pred_ori=rf_classifier2.predict(x_2_ori)\n",
    "y3_pred = rf_classifier3.predict(X3_test)\n",
    "y3_pred_ori=rf_classifier3.predict(x_3_ori)\n",
    "y4_pred = rf_classifier4.predict(X4_test)\n",
    "y4_pred_ori=rf_classifier4.predict(x_4_ori)"
   ]
  },
  {
   "cell_type": "code",
   "execution_count": 93,
   "metadata": {},
   "outputs": [
    {
     "name": "stdout",
     "output_type": "stream",
     "text": [
      "Confusion Matrix for this signal:\n",
      "[[2467 1466 2262]\n",
      " [1287 3705 1367]\n",
      " [2097 1013 3099]]\n",
      "Accuracy for this signal:\n",
      "0.49411074988008313\n",
      "Classification Report for this signal:\n",
      "              precision    recall  f1-score   support\n",
      "\n",
      "           A       0.42      0.40      0.41      6195\n",
      "           B       0.60      0.58      0.59      6359\n",
      "           C       0.46      0.50      0.48      6209\n",
      "\n",
      "    accuracy                           0.49     18763\n",
      "   macro avg       0.49      0.49      0.49     18763\n",
      "weighted avg       0.49      0.49      0.49     18763\n",
      "\n",
      "F1 Score for this signal:\n",
      "0.49399449319248245\n"
     ]
    }
   ],
   "source": [
    "printResults(y1_test,y1_pred)"
   ]
  },
  {
   "cell_type": "code",
   "execution_count": 94,
   "metadata": {},
   "outputs": [
    {
     "name": "stdout",
     "output_type": "stream",
     "text": [
      "Confusion Matrix for this signal:\n",
      "[[15694   937  1055]\n",
      " [ 1287 28617  1367]\n",
      " [  203   141  2754]]\n",
      "Accuracy for this signal:\n",
      "0.9041398520795313\n",
      "Classification Report for this signal:\n",
      "              precision    recall  f1-score   support\n",
      "\n",
      "           A       0.91      0.89      0.90     17686\n",
      "           B       0.96      0.92      0.94     31271\n",
      "           C       0.53      0.89      0.67      3098\n",
      "\n",
      "    accuracy                           0.90     52055\n",
      "   macro avg       0.80      0.90      0.83     52055\n",
      "weighted avg       0.92      0.90      0.91     52055\n",
      "\n",
      "F1 Score for this signal:\n",
      "0.9094042249987062\n"
     ]
    }
   ],
   "source": [
    "printResults(y_ori,y1_pred_ori)"
   ]
  },
  {
   "cell_type": "code",
   "execution_count": 95,
   "metadata": {},
   "outputs": [
    {
     "name": "stdout",
     "output_type": "stream",
     "text": [
      "Confusion Matrix for this signal:\n",
      "[[2921 2275  999]\n",
      " [2550 2525 1284]\n",
      " [ 598  546 5065]]\n",
      "Accuracy for this signal:\n",
      "0.5601982625379737\n",
      "Classification Report for this signal:\n",
      "              precision    recall  f1-score   support\n",
      "\n",
      "           A       0.48      0.47      0.48      6195\n",
      "           B       0.47      0.40      0.43      6359\n",
      "           C       0.69      0.82      0.75      6209\n",
      "\n",
      "    accuracy                           0.56     18763\n",
      "   macro avg       0.55      0.56      0.55     18763\n",
      "weighted avg       0.55      0.56      0.55     18763\n",
      "\n",
      "F1 Score for this signal:\n",
      "0.5507645474667603\n"
     ]
    }
   ],
   "source": [
    "printResults(y2_test,y2_pred)"
   ]
  },
  {
   "cell_type": "code",
   "execution_count": 96,
   "metadata": {},
   "outputs": [
    {
     "name": "stdout",
     "output_type": "stream",
     "text": [
      "Confusion Matrix for this signal:\n",
      "[[15564  1445   677]\n",
      " [ 2550 27437  1284]\n",
      " [   70    69  2959]]\n",
      "Accuracy for this signal:\n",
      "0.8829123042935357\n",
      "Classification Report for this signal:\n",
      "              precision    recall  f1-score   support\n",
      "\n",
      "           A       0.86      0.88      0.87     17686\n",
      "           B       0.95      0.88      0.91     31271\n",
      "           C       0.60      0.96      0.74      3098\n",
      "\n",
      "    accuracy                           0.88     52055\n",
      "   macro avg       0.80      0.90      0.84     52055\n",
      "weighted avg       0.90      0.88      0.89     52055\n",
      "\n",
      "F1 Score for this signal:\n",
      "0.8861493580770621\n"
     ]
    }
   ],
   "source": [
    "printResults(y_ori,y2_pred_ori)"
   ]
  },
  {
   "cell_type": "code",
   "execution_count": 97,
   "metadata": {},
   "outputs": [
    {
     "name": "stdout",
     "output_type": "stream",
     "text": [
      "Confusion Matrix for this signal:\n",
      "[[3846 1098 1251]\n",
      " [1560 4454  345]\n",
      " [ 869  310 5030]]\n",
      "Accuracy for this signal:\n",
      "0.7104407610723232\n",
      "Classification Report for this signal:\n",
      "              precision    recall  f1-score   support\n",
      "\n",
      "           A       0.61      0.62      0.62      6195\n",
      "           B       0.76      0.70      0.73      6359\n",
      "           C       0.76      0.81      0.78      6209\n",
      "\n",
      "    accuracy                           0.71     18763\n",
      "   macro avg       0.71      0.71      0.71     18763\n",
      "weighted avg       0.71      0.71      0.71     18763\n",
      "\n",
      "F1 Score for this signal:\n",
      "0.7100697766315387\n"
     ]
    }
   ],
   "source": [
    "printResults(y3_test,y3_pred)"
   ]
  },
  {
   "cell_type": "code",
   "execution_count": 98,
   "metadata": {},
   "outputs": [
    {
     "name": "stdout",
     "output_type": "stream",
     "text": [
      "Confusion Matrix for this signal:\n",
      "[[16309   657   720]\n",
      " [ 1560 29366   345]\n",
      " [   92    55  2951]]\n",
      "Accuracy for this signal:\n",
      "0.934127365286716\n",
      "Classification Report for this signal:\n",
      "              precision    recall  f1-score   support\n",
      "\n",
      "           A       0.91      0.92      0.92     17686\n",
      "           B       0.98      0.94      0.96     31271\n",
      "           C       0.73      0.95      0.83      3098\n",
      "\n",
      "    accuracy                           0.93     52055\n",
      "   macro avg       0.87      0.94      0.90     52055\n",
      "weighted avg       0.94      0.93      0.94     52055\n",
      "\n",
      "F1 Score for this signal:\n",
      "0.9353652378921575\n"
     ]
    }
   ],
   "source": [
    "printResults(y_ori,y3_pred_ori)"
   ]
  },
  {
   "cell_type": "code",
   "execution_count": 99,
   "metadata": {},
   "outputs": [
    {
     "name": "stdout",
     "output_type": "stream",
     "text": [
      "Confusion Matrix for this signal:\n",
      "[[4103 1563  529]\n",
      " [1555 4473  331]\n",
      " [ 372  232 5605]]\n",
      "Accuracy for this signal:\n",
      "0.7557959814528593\n",
      "Classification Report for this signal:\n",
      "              precision    recall  f1-score   support\n",
      "\n",
      "           A       0.68      0.66      0.67      6195\n",
      "           B       0.71      0.70      0.71      6359\n",
      "           C       0.87      0.90      0.88      6209\n",
      "\n",
      "    accuracy                           0.76     18763\n",
      "   macro avg       0.75      0.76      0.75     18763\n",
      "weighted avg       0.75      0.76      0.75     18763\n",
      "\n",
      "F1 Score for this signal:\n",
      "0.7544315611758883\n"
     ]
    }
   ],
   "source": [
    "printResults(y4_test,y4_pred)"
   ]
  },
  {
   "cell_type": "code",
   "execution_count": 100,
   "metadata": {},
   "outputs": [
    {
     "name": "stdout",
     "output_type": "stream",
     "text": [
      "Confusion Matrix for this signal:\n",
      "[[16107  1240   339]\n",
      " [ 1555 29385   331]\n",
      " [   77    85  2936]]\n",
      "Accuracy for this signal:\n",
      "0.9303236960906733\n",
      "Classification Report for this signal:\n",
      "              precision    recall  f1-score   support\n",
      "\n",
      "           A       0.91      0.91      0.91     17686\n",
      "           B       0.96      0.94      0.95     31271\n",
      "           C       0.81      0.95      0.88      3098\n",
      "\n",
      "    accuracy                           0.93     52055\n",
      "   macro avg       0.89      0.93      0.91     52055\n",
      "weighted avg       0.93      0.93      0.93     52055\n",
      "\n",
      "F1 Score for this signal:\n",
      "0.930696245368392\n"
     ]
    }
   ],
   "source": [
    "printResults(y_ori,y4_pred_ori)"
   ]
  },
  {
   "cell_type": "code",
   "execution_count": 101,
   "metadata": {},
   "outputs": [
    {
     "data": {
      "text/html": [
       "<style>#sk-container-id-17 {color: black;}#sk-container-id-17 pre{padding: 0;}#sk-container-id-17 div.sk-toggleable {background-color: white;}#sk-container-id-17 label.sk-toggleable__label {cursor: pointer;display: block;width: 100%;margin-bottom: 0;padding: 0.3em;box-sizing: border-box;text-align: center;}#sk-container-id-17 label.sk-toggleable__label-arrow:before {content: \"▸\";float: left;margin-right: 0.25em;color: #696969;}#sk-container-id-17 label.sk-toggleable__label-arrow:hover:before {color: black;}#sk-container-id-17 div.sk-estimator:hover label.sk-toggleable__label-arrow:before {color: black;}#sk-container-id-17 div.sk-toggleable__content {max-height: 0;max-width: 0;overflow: hidden;text-align: left;background-color: #f0f8ff;}#sk-container-id-17 div.sk-toggleable__content pre {margin: 0.2em;color: black;border-radius: 0.25em;background-color: #f0f8ff;}#sk-container-id-17 input.sk-toggleable__control:checked~div.sk-toggleable__content {max-height: 200px;max-width: 100%;overflow: auto;}#sk-container-id-17 input.sk-toggleable__control:checked~label.sk-toggleable__label-arrow:before {content: \"▾\";}#sk-container-id-17 div.sk-estimator input.sk-toggleable__control:checked~label.sk-toggleable__label {background-color: #d4ebff;}#sk-container-id-17 div.sk-label input.sk-toggleable__control:checked~label.sk-toggleable__label {background-color: #d4ebff;}#sk-container-id-17 input.sk-hidden--visually {border: 0;clip: rect(1px 1px 1px 1px);clip: rect(1px, 1px, 1px, 1px);height: 1px;margin: -1px;overflow: hidden;padding: 0;position: absolute;width: 1px;}#sk-container-id-17 div.sk-estimator {font-family: monospace;background-color: #f0f8ff;border: 1px dotted black;border-radius: 0.25em;box-sizing: border-box;margin-bottom: 0.5em;}#sk-container-id-17 div.sk-estimator:hover {background-color: #d4ebff;}#sk-container-id-17 div.sk-parallel-item::after {content: \"\";width: 100%;border-bottom: 1px solid gray;flex-grow: 1;}#sk-container-id-17 div.sk-label:hover label.sk-toggleable__label {background-color: #d4ebff;}#sk-container-id-17 div.sk-serial::before {content: \"\";position: absolute;border-left: 1px solid gray;box-sizing: border-box;top: 0;bottom: 0;left: 50%;z-index: 0;}#sk-container-id-17 div.sk-serial {display: flex;flex-direction: column;align-items: center;background-color: white;padding-right: 0.2em;padding-left: 0.2em;position: relative;}#sk-container-id-17 div.sk-item {position: relative;z-index: 1;}#sk-container-id-17 div.sk-parallel {display: flex;align-items: stretch;justify-content: center;background-color: white;position: relative;}#sk-container-id-17 div.sk-item::before, #sk-container-id-17 div.sk-parallel-item::before {content: \"\";position: absolute;border-left: 1px solid gray;box-sizing: border-box;top: 0;bottom: 0;left: 50%;z-index: -1;}#sk-container-id-17 div.sk-parallel-item {display: flex;flex-direction: column;z-index: 1;position: relative;background-color: white;}#sk-container-id-17 div.sk-parallel-item:first-child::after {align-self: flex-end;width: 50%;}#sk-container-id-17 div.sk-parallel-item:last-child::after {align-self: flex-start;width: 50%;}#sk-container-id-17 div.sk-parallel-item:only-child::after {width: 0;}#sk-container-id-17 div.sk-dashed-wrapped {border: 1px dashed gray;margin: 0 0.4em 0.5em 0.4em;box-sizing: border-box;padding-bottom: 0.4em;background-color: white;}#sk-container-id-17 div.sk-label label {font-family: monospace;font-weight: bold;display: inline-block;line-height: 1.2em;}#sk-container-id-17 div.sk-label-container {text-align: center;}#sk-container-id-17 div.sk-container {/* jupyter's `normalize.less` sets `[hidden] { display: none; }` but bootstrap.min.css set `[hidden] { display: none !important; }` so we also need the `!important` here to be able to override the default hidden behavior on the sphinx rendered scikit-learn.org. See: https://github.com/scikit-learn/scikit-learn/issues/21755 */display: inline-block !important;position: relative;}#sk-container-id-17 div.sk-text-repr-fallback {display: none;}</style><div id=\"sk-container-id-17\" class=\"sk-top-container\"><div class=\"sk-text-repr-fallback\"><pre>GradientBoostingClassifier()</pre><b>In a Jupyter environment, please rerun this cell to show the HTML representation or trust the notebook. <br />On GitHub, the HTML representation is unable to render, please try loading this page with nbviewer.org.</b></div><div class=\"sk-container\" hidden><div class=\"sk-item\"><div class=\"sk-estimator sk-toggleable\"><input class=\"sk-toggleable__control sk-hidden--visually\" id=\"sk-estimator-id-23\" type=\"checkbox\" checked><label for=\"sk-estimator-id-23\" class=\"sk-toggleable__label sk-toggleable__label-arrow\">GradientBoostingClassifier</label><div class=\"sk-toggleable__content\"><pre>GradientBoostingClassifier()</pre></div></div></div></div></div>"
      ],
      "text/plain": [
       "GradientBoostingClassifier()"
      ]
     },
     "execution_count": 101,
     "metadata": {},
     "output_type": "execute_result"
    }
   ],
   "source": [
    "from sklearn.ensemble import GradientBoostingClassifier\n",
    "gb_classifier1 = GradientBoostingClassifier()\n",
    "gb_classifier2 = GradientBoostingClassifier()\n",
    "gb_classifier3 = GradientBoostingClassifier()\n",
    "gb_classifier4 = GradientBoostingClassifier()\n",
    "gb_classifier1.fit(X1_train, y1_train)"
   ]
  },
  {
   "cell_type": "code",
   "execution_count": 102,
   "metadata": {},
   "outputs": [
    {
     "data": {
      "text/html": [
       "<style>#sk-container-id-18 {color: black;}#sk-container-id-18 pre{padding: 0;}#sk-container-id-18 div.sk-toggleable {background-color: white;}#sk-container-id-18 label.sk-toggleable__label {cursor: pointer;display: block;width: 100%;margin-bottom: 0;padding: 0.3em;box-sizing: border-box;text-align: center;}#sk-container-id-18 label.sk-toggleable__label-arrow:before {content: \"▸\";float: left;margin-right: 0.25em;color: #696969;}#sk-container-id-18 label.sk-toggleable__label-arrow:hover:before {color: black;}#sk-container-id-18 div.sk-estimator:hover label.sk-toggleable__label-arrow:before {color: black;}#sk-container-id-18 div.sk-toggleable__content {max-height: 0;max-width: 0;overflow: hidden;text-align: left;background-color: #f0f8ff;}#sk-container-id-18 div.sk-toggleable__content pre {margin: 0.2em;color: black;border-radius: 0.25em;background-color: #f0f8ff;}#sk-container-id-18 input.sk-toggleable__control:checked~div.sk-toggleable__content {max-height: 200px;max-width: 100%;overflow: auto;}#sk-container-id-18 input.sk-toggleable__control:checked~label.sk-toggleable__label-arrow:before {content: \"▾\";}#sk-container-id-18 div.sk-estimator input.sk-toggleable__control:checked~label.sk-toggleable__label {background-color: #d4ebff;}#sk-container-id-18 div.sk-label input.sk-toggleable__control:checked~label.sk-toggleable__label {background-color: #d4ebff;}#sk-container-id-18 input.sk-hidden--visually {border: 0;clip: rect(1px 1px 1px 1px);clip: rect(1px, 1px, 1px, 1px);height: 1px;margin: -1px;overflow: hidden;padding: 0;position: absolute;width: 1px;}#sk-container-id-18 div.sk-estimator {font-family: monospace;background-color: #f0f8ff;border: 1px dotted black;border-radius: 0.25em;box-sizing: border-box;margin-bottom: 0.5em;}#sk-container-id-18 div.sk-estimator:hover {background-color: #d4ebff;}#sk-container-id-18 div.sk-parallel-item::after {content: \"\";width: 100%;border-bottom: 1px solid gray;flex-grow: 1;}#sk-container-id-18 div.sk-label:hover label.sk-toggleable__label {background-color: #d4ebff;}#sk-container-id-18 div.sk-serial::before {content: \"\";position: absolute;border-left: 1px solid gray;box-sizing: border-box;top: 0;bottom: 0;left: 50%;z-index: 0;}#sk-container-id-18 div.sk-serial {display: flex;flex-direction: column;align-items: center;background-color: white;padding-right: 0.2em;padding-left: 0.2em;position: relative;}#sk-container-id-18 div.sk-item {position: relative;z-index: 1;}#sk-container-id-18 div.sk-parallel {display: flex;align-items: stretch;justify-content: center;background-color: white;position: relative;}#sk-container-id-18 div.sk-item::before, #sk-container-id-18 div.sk-parallel-item::before {content: \"\";position: absolute;border-left: 1px solid gray;box-sizing: border-box;top: 0;bottom: 0;left: 50%;z-index: -1;}#sk-container-id-18 div.sk-parallel-item {display: flex;flex-direction: column;z-index: 1;position: relative;background-color: white;}#sk-container-id-18 div.sk-parallel-item:first-child::after {align-self: flex-end;width: 50%;}#sk-container-id-18 div.sk-parallel-item:last-child::after {align-self: flex-start;width: 50%;}#sk-container-id-18 div.sk-parallel-item:only-child::after {width: 0;}#sk-container-id-18 div.sk-dashed-wrapped {border: 1px dashed gray;margin: 0 0.4em 0.5em 0.4em;box-sizing: border-box;padding-bottom: 0.4em;background-color: white;}#sk-container-id-18 div.sk-label label {font-family: monospace;font-weight: bold;display: inline-block;line-height: 1.2em;}#sk-container-id-18 div.sk-label-container {text-align: center;}#sk-container-id-18 div.sk-container {/* jupyter's `normalize.less` sets `[hidden] { display: none; }` but bootstrap.min.css set `[hidden] { display: none !important; }` so we also need the `!important` here to be able to override the default hidden behavior on the sphinx rendered scikit-learn.org. See: https://github.com/scikit-learn/scikit-learn/issues/21755 */display: inline-block !important;position: relative;}#sk-container-id-18 div.sk-text-repr-fallback {display: none;}</style><div id=\"sk-container-id-18\" class=\"sk-top-container\"><div class=\"sk-text-repr-fallback\"><pre>GradientBoostingClassifier()</pre><b>In a Jupyter environment, please rerun this cell to show the HTML representation or trust the notebook. <br />On GitHub, the HTML representation is unable to render, please try loading this page with nbviewer.org.</b></div><div class=\"sk-container\" hidden><div class=\"sk-item\"><div class=\"sk-estimator sk-toggleable\"><input class=\"sk-toggleable__control sk-hidden--visually\" id=\"sk-estimator-id-24\" type=\"checkbox\" checked><label for=\"sk-estimator-id-24\" class=\"sk-toggleable__label sk-toggleable__label-arrow\">GradientBoostingClassifier</label><div class=\"sk-toggleable__content\"><pre>GradientBoostingClassifier()</pre></div></div></div></div></div>"
      ],
      "text/plain": [
       "GradientBoostingClassifier()"
      ]
     },
     "execution_count": 102,
     "metadata": {},
     "output_type": "execute_result"
    }
   ],
   "source": [
    "gb_classifier2.fit(X2_train, y2_train)"
   ]
  },
  {
   "cell_type": "code",
   "execution_count": 103,
   "metadata": {},
   "outputs": [
    {
     "data": {
      "text/html": [
       "<style>#sk-container-id-19 {color: black;}#sk-container-id-19 pre{padding: 0;}#sk-container-id-19 div.sk-toggleable {background-color: white;}#sk-container-id-19 label.sk-toggleable__label {cursor: pointer;display: block;width: 100%;margin-bottom: 0;padding: 0.3em;box-sizing: border-box;text-align: center;}#sk-container-id-19 label.sk-toggleable__label-arrow:before {content: \"▸\";float: left;margin-right: 0.25em;color: #696969;}#sk-container-id-19 label.sk-toggleable__label-arrow:hover:before {color: black;}#sk-container-id-19 div.sk-estimator:hover label.sk-toggleable__label-arrow:before {color: black;}#sk-container-id-19 div.sk-toggleable__content {max-height: 0;max-width: 0;overflow: hidden;text-align: left;background-color: #f0f8ff;}#sk-container-id-19 div.sk-toggleable__content pre {margin: 0.2em;color: black;border-radius: 0.25em;background-color: #f0f8ff;}#sk-container-id-19 input.sk-toggleable__control:checked~div.sk-toggleable__content {max-height: 200px;max-width: 100%;overflow: auto;}#sk-container-id-19 input.sk-toggleable__control:checked~label.sk-toggleable__label-arrow:before {content: \"▾\";}#sk-container-id-19 div.sk-estimator input.sk-toggleable__control:checked~label.sk-toggleable__label {background-color: #d4ebff;}#sk-container-id-19 div.sk-label input.sk-toggleable__control:checked~label.sk-toggleable__label {background-color: #d4ebff;}#sk-container-id-19 input.sk-hidden--visually {border: 0;clip: rect(1px 1px 1px 1px);clip: rect(1px, 1px, 1px, 1px);height: 1px;margin: -1px;overflow: hidden;padding: 0;position: absolute;width: 1px;}#sk-container-id-19 div.sk-estimator {font-family: monospace;background-color: #f0f8ff;border: 1px dotted black;border-radius: 0.25em;box-sizing: border-box;margin-bottom: 0.5em;}#sk-container-id-19 div.sk-estimator:hover {background-color: #d4ebff;}#sk-container-id-19 div.sk-parallel-item::after {content: \"\";width: 100%;border-bottom: 1px solid gray;flex-grow: 1;}#sk-container-id-19 div.sk-label:hover label.sk-toggleable__label {background-color: #d4ebff;}#sk-container-id-19 div.sk-serial::before {content: \"\";position: absolute;border-left: 1px solid gray;box-sizing: border-box;top: 0;bottom: 0;left: 50%;z-index: 0;}#sk-container-id-19 div.sk-serial {display: flex;flex-direction: column;align-items: center;background-color: white;padding-right: 0.2em;padding-left: 0.2em;position: relative;}#sk-container-id-19 div.sk-item {position: relative;z-index: 1;}#sk-container-id-19 div.sk-parallel {display: flex;align-items: stretch;justify-content: center;background-color: white;position: relative;}#sk-container-id-19 div.sk-item::before, #sk-container-id-19 div.sk-parallel-item::before {content: \"\";position: absolute;border-left: 1px solid gray;box-sizing: border-box;top: 0;bottom: 0;left: 50%;z-index: -1;}#sk-container-id-19 div.sk-parallel-item {display: flex;flex-direction: column;z-index: 1;position: relative;background-color: white;}#sk-container-id-19 div.sk-parallel-item:first-child::after {align-self: flex-end;width: 50%;}#sk-container-id-19 div.sk-parallel-item:last-child::after {align-self: flex-start;width: 50%;}#sk-container-id-19 div.sk-parallel-item:only-child::after {width: 0;}#sk-container-id-19 div.sk-dashed-wrapped {border: 1px dashed gray;margin: 0 0.4em 0.5em 0.4em;box-sizing: border-box;padding-bottom: 0.4em;background-color: white;}#sk-container-id-19 div.sk-label label {font-family: monospace;font-weight: bold;display: inline-block;line-height: 1.2em;}#sk-container-id-19 div.sk-label-container {text-align: center;}#sk-container-id-19 div.sk-container {/* jupyter's `normalize.less` sets `[hidden] { display: none; }` but bootstrap.min.css set `[hidden] { display: none !important; }` so we also need the `!important` here to be able to override the default hidden behavior on the sphinx rendered scikit-learn.org. See: https://github.com/scikit-learn/scikit-learn/issues/21755 */display: inline-block !important;position: relative;}#sk-container-id-19 div.sk-text-repr-fallback {display: none;}</style><div id=\"sk-container-id-19\" class=\"sk-top-container\"><div class=\"sk-text-repr-fallback\"><pre>GradientBoostingClassifier()</pre><b>In a Jupyter environment, please rerun this cell to show the HTML representation or trust the notebook. <br />On GitHub, the HTML representation is unable to render, please try loading this page with nbviewer.org.</b></div><div class=\"sk-container\" hidden><div class=\"sk-item\"><div class=\"sk-estimator sk-toggleable\"><input class=\"sk-toggleable__control sk-hidden--visually\" id=\"sk-estimator-id-25\" type=\"checkbox\" checked><label for=\"sk-estimator-id-25\" class=\"sk-toggleable__label sk-toggleable__label-arrow\">GradientBoostingClassifier</label><div class=\"sk-toggleable__content\"><pre>GradientBoostingClassifier()</pre></div></div></div></div></div>"
      ],
      "text/plain": [
       "GradientBoostingClassifier()"
      ]
     },
     "execution_count": 103,
     "metadata": {},
     "output_type": "execute_result"
    }
   ],
   "source": [
    "gb_classifier3.fit(X3_train, y3_train)"
   ]
  },
  {
   "cell_type": "code",
   "execution_count": 104,
   "metadata": {},
   "outputs": [
    {
     "data": {
      "text/html": [
       "<style>#sk-container-id-20 {color: black;}#sk-container-id-20 pre{padding: 0;}#sk-container-id-20 div.sk-toggleable {background-color: white;}#sk-container-id-20 label.sk-toggleable__label {cursor: pointer;display: block;width: 100%;margin-bottom: 0;padding: 0.3em;box-sizing: border-box;text-align: center;}#sk-container-id-20 label.sk-toggleable__label-arrow:before {content: \"▸\";float: left;margin-right: 0.25em;color: #696969;}#sk-container-id-20 label.sk-toggleable__label-arrow:hover:before {color: black;}#sk-container-id-20 div.sk-estimator:hover label.sk-toggleable__label-arrow:before {color: black;}#sk-container-id-20 div.sk-toggleable__content {max-height: 0;max-width: 0;overflow: hidden;text-align: left;background-color: #f0f8ff;}#sk-container-id-20 div.sk-toggleable__content pre {margin: 0.2em;color: black;border-radius: 0.25em;background-color: #f0f8ff;}#sk-container-id-20 input.sk-toggleable__control:checked~div.sk-toggleable__content {max-height: 200px;max-width: 100%;overflow: auto;}#sk-container-id-20 input.sk-toggleable__control:checked~label.sk-toggleable__label-arrow:before {content: \"▾\";}#sk-container-id-20 div.sk-estimator input.sk-toggleable__control:checked~label.sk-toggleable__label {background-color: #d4ebff;}#sk-container-id-20 div.sk-label input.sk-toggleable__control:checked~label.sk-toggleable__label {background-color: #d4ebff;}#sk-container-id-20 input.sk-hidden--visually {border: 0;clip: rect(1px 1px 1px 1px);clip: rect(1px, 1px, 1px, 1px);height: 1px;margin: -1px;overflow: hidden;padding: 0;position: absolute;width: 1px;}#sk-container-id-20 div.sk-estimator {font-family: monospace;background-color: #f0f8ff;border: 1px dotted black;border-radius: 0.25em;box-sizing: border-box;margin-bottom: 0.5em;}#sk-container-id-20 div.sk-estimator:hover {background-color: #d4ebff;}#sk-container-id-20 div.sk-parallel-item::after {content: \"\";width: 100%;border-bottom: 1px solid gray;flex-grow: 1;}#sk-container-id-20 div.sk-label:hover label.sk-toggleable__label {background-color: #d4ebff;}#sk-container-id-20 div.sk-serial::before {content: \"\";position: absolute;border-left: 1px solid gray;box-sizing: border-box;top: 0;bottom: 0;left: 50%;z-index: 0;}#sk-container-id-20 div.sk-serial {display: flex;flex-direction: column;align-items: center;background-color: white;padding-right: 0.2em;padding-left: 0.2em;position: relative;}#sk-container-id-20 div.sk-item {position: relative;z-index: 1;}#sk-container-id-20 div.sk-parallel {display: flex;align-items: stretch;justify-content: center;background-color: white;position: relative;}#sk-container-id-20 div.sk-item::before, #sk-container-id-20 div.sk-parallel-item::before {content: \"\";position: absolute;border-left: 1px solid gray;box-sizing: border-box;top: 0;bottom: 0;left: 50%;z-index: -1;}#sk-container-id-20 div.sk-parallel-item {display: flex;flex-direction: column;z-index: 1;position: relative;background-color: white;}#sk-container-id-20 div.sk-parallel-item:first-child::after {align-self: flex-end;width: 50%;}#sk-container-id-20 div.sk-parallel-item:last-child::after {align-self: flex-start;width: 50%;}#sk-container-id-20 div.sk-parallel-item:only-child::after {width: 0;}#sk-container-id-20 div.sk-dashed-wrapped {border: 1px dashed gray;margin: 0 0.4em 0.5em 0.4em;box-sizing: border-box;padding-bottom: 0.4em;background-color: white;}#sk-container-id-20 div.sk-label label {font-family: monospace;font-weight: bold;display: inline-block;line-height: 1.2em;}#sk-container-id-20 div.sk-label-container {text-align: center;}#sk-container-id-20 div.sk-container {/* jupyter's `normalize.less` sets `[hidden] { display: none; }` but bootstrap.min.css set `[hidden] { display: none !important; }` so we also need the `!important` here to be able to override the default hidden behavior on the sphinx rendered scikit-learn.org. See: https://github.com/scikit-learn/scikit-learn/issues/21755 */display: inline-block !important;position: relative;}#sk-container-id-20 div.sk-text-repr-fallback {display: none;}</style><div id=\"sk-container-id-20\" class=\"sk-top-container\"><div class=\"sk-text-repr-fallback\"><pre>GradientBoostingClassifier()</pre><b>In a Jupyter environment, please rerun this cell to show the HTML representation or trust the notebook. <br />On GitHub, the HTML representation is unable to render, please try loading this page with nbviewer.org.</b></div><div class=\"sk-container\" hidden><div class=\"sk-item\"><div class=\"sk-estimator sk-toggleable\"><input class=\"sk-toggleable__control sk-hidden--visually\" id=\"sk-estimator-id-26\" type=\"checkbox\" checked><label for=\"sk-estimator-id-26\" class=\"sk-toggleable__label sk-toggleable__label-arrow\">GradientBoostingClassifier</label><div class=\"sk-toggleable__content\"><pre>GradientBoostingClassifier()</pre></div></div></div></div></div>"
      ],
      "text/plain": [
       "GradientBoostingClassifier()"
      ]
     },
     "execution_count": 104,
     "metadata": {},
     "output_type": "execute_result"
    }
   ],
   "source": [
    "gb_classifier4.fit(X4_train, y4_train)"
   ]
  },
  {
   "cell_type": "code",
   "execution_count": 105,
   "metadata": {},
   "outputs": [],
   "source": [
    "make_model_and_save_as_pickle(gb_classifier1,'./model_pickle_files/gradient_boosting/axial_force.pkl')\n",
    "make_model_and_save_as_pickle(gb_classifier2,'./model_pickle_files/gradient_boosting/bending_moment.pkl')\n",
    "make_model_and_save_as_pickle(gb_classifier3,'./model_pickle_files/gradient_boosting/channel2.pkl')\n",
    "make_model_and_save_as_pickle(gb_classifier4,'./model_pickle_files/gradient_boosting/spindle_power.pkl')"
   ]
  },
  {
   "cell_type": "code",
   "execution_count": 106,
   "metadata": {},
   "outputs": [],
   "source": [
    "y1_pred = gb_classifier1.predict(X1_test)\n",
    "y1_pred_ori=gb_classifier1.predict(x_1_ori)\n",
    "y2_pred = gb_classifier2.predict(X2_test)\n",
    "y2_pred_ori=gb_classifier2.predict(x_2_ori)\n",
    "y3_pred = gb_classifier3.predict(X3_test)\n",
    "y3_pred_ori=gb_classifier3.predict(x_3_ori)\n",
    "y4_pred = gb_classifier4.predict(X4_test)\n",
    "y4_pred_ori=gb_classifier4.predict(x_4_ori)"
   ]
  },
  {
   "cell_type": "code",
   "execution_count": 107,
   "metadata": {},
   "outputs": [
    {
     "name": "stdout",
     "output_type": "stream",
     "text": [
      "Confusion Matrix for this signal:\n",
      "[[2483 1391 2321]\n",
      " [1069 3877 1413]\n",
      " [1788  943 3478]]\n",
      "Accuracy for this signal:\n",
      "0.5243297980067153\n",
      "Classification Report for this signal:\n",
      "              precision    recall  f1-score   support\n",
      "\n",
      "           A       0.46      0.40      0.43      6195\n",
      "           B       0.62      0.61      0.62      6359\n",
      "           C       0.48      0.56      0.52      6209\n",
      "\n",
      "    accuracy                           0.52     18763\n",
      "   macro avg       0.52      0.52      0.52     18763\n",
      "weighted avg       0.52      0.52      0.52     18763\n",
      "\n",
      "F1 Score for this signal:\n",
      "0.5227186490394707\n"
     ]
    }
   ],
   "source": [
    "printResults(y1_test,y1_pred)"
   ]
  },
  {
   "cell_type": "code",
   "execution_count": 108,
   "metadata": {},
   "outputs": [
    {
     "name": "stdout",
     "output_type": "stream",
     "text": [
      "Confusion Matrix for this signal:\n",
      "[[ 8126  4678  4882]\n",
      " [ 5232 19047  6992]\n",
      " [  954   620  1524]]\n",
      "Accuracy for this signal:\n",
      "0.551282297569878\n",
      "Classification Report for this signal:\n",
      "              precision    recall  f1-score   support\n",
      "\n",
      "           A       0.57      0.46      0.51     17686\n",
      "           B       0.78      0.61      0.68     31271\n",
      "           C       0.11      0.49      0.18      3098\n",
      "\n",
      "    accuracy                           0.55     52055\n",
      "   macro avg       0.49      0.52      0.46     52055\n",
      "weighted avg       0.67      0.55      0.60     52055\n",
      "\n",
      "F1 Score for this signal:\n",
      "0.5950289737707107\n"
     ]
    }
   ],
   "source": [
    "printResults(y_ori,y1_pred_ori)"
   ]
  },
  {
   "cell_type": "code",
   "execution_count": 109,
   "metadata": {},
   "outputs": [
    {
     "name": "stdout",
     "output_type": "stream",
     "text": [
      "Confusion Matrix for this signal:\n",
      "[[2799 2364 1032]\n",
      " [2078 2899 1382]\n",
      " [ 460  425 5324]]\n",
      "Accuracy for this signal:\n",
      "0.5874327133187657\n",
      "Classification Report for this signal:\n",
      "              precision    recall  f1-score   support\n",
      "\n",
      "           A       0.52      0.45      0.49      6195\n",
      "           B       0.51      0.46      0.48      6359\n",
      "           C       0.69      0.86      0.76      6209\n",
      "\n",
      "    accuracy                           0.59     18763\n",
      "   macro avg       0.57      0.59      0.58     18763\n",
      "weighted avg       0.57      0.59      0.58     18763\n",
      "\n",
      "F1 Score for this signal:\n",
      "0.5760301551515374\n"
     ]
    }
   ],
   "source": [
    "printResults(y2_test,y2_pred)"
   ]
  },
  {
   "cell_type": "code",
   "execution_count": 110,
   "metadata": {},
   "outputs": [
    {
     "name": "stdout",
     "output_type": "stream",
     "text": [
      "Confusion Matrix for this signal:\n",
      "[[ 5649  8144  3893]\n",
      " [ 9667 14700  6904]\n",
      " [  251   401  2446]]\n",
      "Accuracy for this signal:\n",
      "0.437902218807031\n",
      "Classification Report for this signal:\n",
      "              precision    recall  f1-score   support\n",
      "\n",
      "           A       0.36      0.32      0.34     17686\n",
      "           B       0.63      0.47      0.54     31271\n",
      "           C       0.18      0.79      0.30      3098\n",
      "\n",
      "    accuracy                           0.44     52055\n",
      "   macro avg       0.39      0.53      0.39     52055\n",
      "weighted avg       0.51      0.44      0.46     52055\n",
      "\n",
      "F1 Score for this signal:\n",
      "0.45722019792855373\n"
     ]
    }
   ],
   "source": [
    "printResults(y_ori,y2_pred_ori)"
   ]
  },
  {
   "cell_type": "code",
   "execution_count": 111,
   "metadata": {},
   "outputs": [
    {
     "name": "stdout",
     "output_type": "stream",
     "text": [
      "Confusion Matrix for this signal:\n",
      "[[3692 1069 1434]\n",
      " [1592 4358  409]\n",
      " [ 729  353 5127]]\n",
      "Accuracy for this signal:\n",
      "0.7022864147524384\n",
      "Classification Report for this signal:\n",
      "              precision    recall  f1-score   support\n",
      "\n",
      "           A       0.61      0.60      0.60      6195\n",
      "           B       0.75      0.69      0.72      6359\n",
      "           C       0.74      0.83      0.78      6209\n",
      "\n",
      "    accuracy                           0.70     18763\n",
      "   macro avg       0.70      0.70      0.70     18763\n",
      "weighted avg       0.70      0.70      0.70     18763\n",
      "\n",
      "F1 Score for this signal:\n",
      "0.7005199967568874\n"
     ]
    }
   ],
   "source": [
    "printResults(y3_test,y3_pred)"
   ]
  },
  {
   "cell_type": "code",
   "execution_count": 112,
   "metadata": {},
   "outputs": [
    {
     "name": "stdout",
     "output_type": "stream",
     "text": [
      "Confusion Matrix for this signal:\n",
      "[[10078  3702  3906]\n",
      " [ 7649 21631  1991]\n",
      " [  330   395  2373]]\n",
      "Accuracy for this signal:\n",
      "0.654730573431947\n",
      "Classification Report for this signal:\n",
      "              precision    recall  f1-score   support\n",
      "\n",
      "           A       0.56      0.57      0.56     17686\n",
      "           B       0.84      0.69      0.76     31271\n",
      "           C       0.29      0.77      0.42      3098\n",
      "\n",
      "    accuracy                           0.65     52055\n",
      "   macro avg       0.56      0.68      0.58     52055\n",
      "weighted avg       0.71      0.65      0.67     52055\n",
      "\n",
      "F1 Score for this signal:\n",
      "0.6723912682420847\n"
     ]
    }
   ],
   "source": [
    "printResults(y_ori,y3_pred_ori)"
   ]
  },
  {
   "cell_type": "code",
   "execution_count": 113,
   "metadata": {},
   "outputs": [
    {
     "name": "stdout",
     "output_type": "stream",
     "text": [
      "Confusion Matrix for this signal:\n",
      "[[3727 1810  658]\n",
      " [1324 4623  412]\n",
      " [ 355  279 5575]]\n",
      "Accuracy for this signal:\n",
      "0.7421521078718755\n",
      "Classification Report for this signal:\n",
      "              precision    recall  f1-score   support\n",
      "\n",
      "           A       0.69      0.60      0.64      6195\n",
      "           B       0.69      0.73      0.71      6359\n",
      "           C       0.84      0.90      0.87      6209\n",
      "\n",
      "    accuracy                           0.74     18763\n",
      "   macro avg       0.74      0.74      0.74     18763\n",
      "weighted avg       0.74      0.74      0.74     18763\n",
      "\n",
      "F1 Score for this signal:\n",
      "0.7389291361846225\n"
     ]
    }
   ],
   "source": [
    "printResults(y4_test,y4_pred)"
   ]
  },
  {
   "cell_type": "code",
   "execution_count": 114,
   "metadata": {},
   "outputs": [
    {
     "name": "stdout",
     "output_type": "stream",
     "text": [
      "Confusion Matrix for this signal:\n",
      "[[ 8396  7516  1774]\n",
      " [ 6209 22975  2087]\n",
      " [  278   558  2262]]\n",
      "Accuracy for this signal:\n",
      "0.6461050811641533\n",
      "Classification Report for this signal:\n",
      "              precision    recall  f1-score   support\n",
      "\n",
      "           A       0.56      0.47      0.52     17686\n",
      "           B       0.74      0.73      0.74     31271\n",
      "           C       0.37      0.73      0.49      3098\n",
      "\n",
      "    accuracy                           0.65     52055\n",
      "   macro avg       0.56      0.65      0.58     52055\n",
      "weighted avg       0.66      0.65      0.65     52055\n",
      "\n",
      "F1 Score for this signal:\n",
      "0.6473032351468037\n"
     ]
    }
   ],
   "source": [
    "printResults(y_ori,y4_pred_ori)"
   ]
  },
  {
   "cell_type": "code",
   "execution_count": null,
   "metadata": {},
   "outputs": [],
   "source": []
  }
 ],
 "metadata": {
  "kernelspec": {
   "display_name": "Python 3",
   "language": "python",
   "name": "python3"
  },
  "language_info": {
   "codemirror_mode": {
    "name": "ipython",
    "version": 3
   },
   "file_extension": ".py",
   "mimetype": "text/x-python",
   "name": "python",
   "nbconvert_exporter": "python",
   "pygments_lexer": "ipython3",
   "version": "3.10.11"
  }
 },
 "nbformat": 4,
 "nbformat_minor": 2
}
